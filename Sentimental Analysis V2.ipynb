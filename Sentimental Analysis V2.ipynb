{
 "cells": [
  {
   "cell_type": "markdown",
   "metadata": {},
   "source": [
    "# IMDB Review Classification Model - Using Hugging Face BERT , MLFLOW, WANDB, FastAPI\n",
    "In the IMDB dataset from Hugging Face's `datasets` library:\n",
    "\n",
    "- The **`label` column** represents the sentiment of the review:\n",
    "  - `0`: **Negative review** (Bad review)\n",
    "  - `1`: **Positive review** (Good review)\n",
    "\n",
    "\n",
    "### Example:\n",
    "- **Review Text**: *\"The movie was amazing! The performances were top-notch.\"*\n",
    "  - **Label**: `1` (Positive review)\n",
    "\n",
    "- **Review Text**: *\"This was a waste of time. The plot was terrible and the acting worse.\"*\n",
    "  - **Label**: `0` (Negative review)\n",
    "\n",
    "\n",
    "# Sentiment Analysis Project\n",
    "\n",
    "## Overview\n",
    "This project leverages **BERT**, **Hugging Face's Trainer**, and modern MLOps tools to build, train, evaluate, and deploy a sentiment analysis model.\n",
    "\n",
    "---\n",
    "\n",
    "### **Technologies Used**\n",
    "\n",
    "1. **BERT (Bidirectional Encoder Representations from Transformers)**  \n",
    "   - Pre-trained transformer model for text classification.  \n",
    "   - Fine-tuned for binary sentiment analysis (Positive/Negative).\n",
    "\n",
    "2. **Hugging Face Trainer**  \n",
    "   - Simplified training and evaluation pipeline.  \n",
    "   - Handles datasets, metrics, and model saving efficiently.\n",
    "\n",
    "3. **W&B (Weights & Biases)**  \n",
    "   - Tracks experiments in real-time with advanced visualizations.  \n",
    "   - Used for hyperparameter optimization and team collaboration.\n",
    "\n",
    "4. **MLflow**  \n",
    "   - Manages experiment tracking, model registry, and deployment lifecycle.  \n",
    "   - Tracks metrics, parameters, and artifacts for reproducibility.\n",
    "\n",
    "5. **FastAPI**  \n",
    "   - Provides an API endpoint for real-time sentiment predictions.  \n",
    "   - Integrates the fine-tuned BERT model for serving predictions.\n",
    "\n",
    "6. **Streamlit**  \n",
    "   - Interactive web interface for testing predictions.  \n",
    "   - Allows users to input text and view classification results.\n",
    "\n",
    "---\n",
    "\n",
    "### **Workflow**\n",
    "\n",
    "1. **Model Training**  \n",
    "   - Fine-tune BERT using Hugging Face Trainer.  \n",
    "   - Log metrics and parameters to W&B and MLflow.\n",
    "\n",
    "2. **Experiment Tracking**  \n",
    "   - W&B for real-time visualization and hyperparameter sweeps.  \n",
    "   - MLflow for model lifecycle management.\n",
    "\n",
    "3. **Deployment**  \n",
    "   - Serve the model via FastAPI for real-time inference.  \n",
    "   - Build a user-friendly interface with Streamlit.\n",
    "\n",
    "4. **Monitoring & Iteration**  \n",
    "   - Continuously improve with insights from W&B and MLflow dashboards.  \n",
    "\n",
    "\n",
    "\n",
    "\n",
    "Here’s a concise summary of the steps involved in building and evaluating a sentiment classification model using BERT and the Hugging Face `Trainer` library:\n",
    "\n",
    "---\n",
    "\n",
    "### **1. Dataset Loading and Preprocessing**\n",
    "- **Dataset**: Loaded the **IMDB** dataset using Hugging Face's `datasets` library.\n",
    "- **Subset Selection**: Limited to 2,000 samples each for faster experimentation.\n",
    "- **Splitting**: Split the dataset into training (90%), validation (10%), and test datasets.\n",
    "\n",
    "---\n",
    "\n",
    "### **2. Tokenization**\n",
    "- Used a **pre-trained BERT tokenizer** (`bert-base-uncased`) to tokenize the text data.\n",
    "  - Added padding and truncation to ensure uniform input length.\n",
    "  - Chose a **maximum length** (`max_length`) based on the dataset distribution and model constraints.\n",
    "\n",
    "---\n",
    "\n",
    "### **3. Model Setup**\n",
    "- Initialized a pre-trained **BERT model for sequence classification** (`BertForSequenceClassification`).\n",
    "  - The model was fine-tuned for binary classification (positive/negative sentiment).\n",
    "  - Specified `num_labels=2` for binary classification.\n",
    "\n",
    "---\n",
    "\n",
    "### **4. Training Configuration**\n",
    "- Defined the **TrainingArguments**:\n",
    "  - Batch size, learning rate, number of epochs, and logging configuration.\n",
    "  - Used `AdamW` optimizer and a linear learning rate scheduler.\n",
    "- Utilized the Hugging Face **Trainer**:\n",
    "  - Handled model training, validation, and evaluation loops efficiently.\n",
    "  - Passed tokenized datasets (`train_data_tokenized`, `val_data_tokenized`) and model as inputs.\n",
    "\n",
    "---\n",
    "\n",
    "### **5. Model Training**\n",
    "- Fine-tuned the BERT model using the `trainer.train()` method.\n",
    "- Regularly monitored training and validation performance.\n",
    "\n",
    "---\n",
    "\n",
    "### **6. Evaluation**\n",
    "- Used the test set to evaluate the model.\n",
    "- Calculated key metrics:\n",
    "  - **Accuracy**, **Precision**, **Recall**, **F1 Score** using Hugging Face's `compute_metrics` function.\n",
    "  - Plotted a **confusion matrix** (True Positives, True Negatives, False Positives, False Negatives) for raw counts.\n",
    "\n",
    "---\n",
    "\n",
    "### **7. Error Analysis**\n",
    "- **Logits Analysis**:\n",
    "  - Calculated the **confidence gap** between logits for each prediction.\n",
    "  - Identified and analyzed cases with the **largest confidence gap** (least confident predictions).\n",
    "- **Misclassification Analysis**:\n",
    "  - Highlighted samples with the worst classification performance (e.g., high confidence but incorrect prediction).\n",
    "  - Analyzed the actual text and labels to identify patterns.\n",
    "\n",
    "---\n",
    "\n",
    "### **8. Recommendations for Improvement**\n",
    "- Addressed overconfidence by:\n",
    "  - Tuning thresholds for classification.\n",
    "  - Investigating model predictions and edge cases.\n",
    "- Suggested ways to visualize and interpret errors for actionable insights.\n",
    "\n",
    "---\n",
    "\n",
    "### **Visualizations**\n",
    "- Plotted metrics such as **Precision**, **Recall**, and **F1 Score**.\n",
    "- Displayed a **confusion matrix** as a grid with raw counts.\n",
    "- Highlighted least confid\n",
    "\n",
    "\n",
    "\n",
    "### **Key Differences: Hugging Face `Trainer` vs. PyTorch Custom Workflow**\n",
    "\n",
    "Using the Hugging Face `Trainer` library and a custom PyTorch-based implementation represent two distinct approaches to building machine learning workflows. Here's how they differ:\n",
    "\n",
    "---\n",
    "\n",
    "### **1. Abstraction Level**\n",
    "\n",
    "#### **Hugging Face `Trainer`**:\n",
    "- **High-level abstraction**: Designed for rapid experimentation and reduces boilerplate code.\n",
    "- Automatically handles common tasks:\n",
    "  - Tokenization, batching, optimizer, scheduler setup.\n",
    "  - Model training, validation, and evaluation loops.\n",
    "- Ideal for researchers or practitioners who prioritize speed and simplicity.\n",
    "\n",
    "#### **PyTorch Custom Workflow**:\n",
    "- **Low-level control**: Requires manually defining every component.\n",
    "- Explicitly handles:\n",
    "  - **Dataloader**: Loading and batching data.\n",
    "  - **NN Module**: Custom model architecture (e.g., layers).\n",
    "  - Training loop: Forward pass, backward pass, and gradient updates.\n",
    "- Suitable for those needing flexibility or creating custom architectures.\n",
    "\n",
    "---\n",
    "\n",
    "### **2. Data Handling**\n",
    "\n",
    "#### **Hugging Face `Trainer`**:\n",
    "- Tokenizes and processes datasets using `Datasets` and `DataCollator` utilities.\n",
    "- Automatically integrates with `Dataset` objects for batching and data preparation.\n",
    "- Encodes inputs (e.g., `input_ids`, `attention_mask`) behind the scenes.\n",
    "\n",
    "#### **PyTorch**:\n",
    "- Requires manually defining a **Dataset class** to prepare raw data.\n",
    "- Uses **DataLoader** to handle batching and shuffling.\n",
    "- Explicitly processes inputs and outputs before passing them to the model.\n",
    "\n",
    "---\n",
    "\n",
    "### **3. Model Definition**\n",
    "\n",
    "#### **Hugging Face `Trainer`**:\n",
    "- Uses pre-defined **transformer models** (e.g., `BertForSequenceClassification`) from the `transformers` library.\n",
    "- Model selection involves minimal setup—just specify `num_labels` for the classification task.\n",
    "- Adapts pre-trained transformer layers for downstream tasks with minimal modification.\n",
    "\n",
    "#### **PyTorch**:\n",
    "- Requires implementing a **custom `nn.Module`** class.\n",
    "- Explicitly defines model layers (e.g., `nn.Linear`, `nn.Embedding`) and forward passes.\n",
    "- Greater flexibility for designing new architectures or modifying base models.\n",
    "\n",
    "---\n",
    "\n",
    "### **4. Training Loop**\n",
    "\n",
    "#### **Hugging Face `Trainer`**:\n",
    "- Handles the training loop internally:\n",
    "  - Optimizer and scheduler setup (e.g., AdamW, linear decay).\n",
    "  - Automatic batching and gradient computation.\n",
    "  - Built-in logging, saving checkpoints, and evaluating during training.\n",
    "- Enables quick fine-tuning without writing custom loops.\n",
    "\n",
    "#### **PyTorch**:\n",
    "- Requires writing custom loops for:\n",
    "  - Forward passes (`model(input_ids)`), loss computation, and backward passes.\n",
    "  - Manually updating optimizer and scheduler states.\n",
    "  - Handling batching, logging, and model checkpointing.\n",
    "- Provides complete flexibility to modify training logic.\n",
    "\n",
    "---\n",
    "\n",
    "### **5. Evaluation and Metrics**\n",
    "\n",
    "#### **Hugging Face `Trainer`**:\n",
    "- Easily integrates evaluation metrics with a `compute_metrics` function.\n",
    "- Automatically logs and tracks metrics such as accuracy, precision, recall, and F1 score.\n",
    "- Supports integrations with tracking tools like **WandB** or **TensorBoard**.\n",
    "\n",
    "#### **PyTorch**:\n",
    "- Requires explicit implementation of evaluation loops and metric calculations.\n",
    "- Metrics need to be computed manually or using libraries like `scikit-learn`.\n",
    "- Logging and tracking must be integrated separately (e.g., TensorBoard, WandB).\n",
    "\n",
    "---\n",
    "\n",
    "### **6. Use Cases**\n",
    "\n",
    "#### **Hugging Face `Trainer`**:\n",
    "- Quick fine-tuning of pre-trained models on standard tasks (e.g., classification, NER, QA).\n",
    "- Suited for researchers and practitioners needing results without delving into low-level code.\n",
    "- Optimized for transfer learning workflows with pre-trained transformer models.\n",
    "\n",
    "#### **PyTorch**:\n",
    "- Ideal for custom models, architectures, or training pipelines.\n",
    "- Essential for research and experimentation involving novel or non-standard tasks.\n",
    "- Preferred in production environments requiring low-level control.\n",
    "\n",
    "---\n",
    "\n",
    "### **7. Customization and Flexibility**\n",
    "\n",
    "#### **Hugging Face `Trainer`**:\n",
    "- Limited flexibility in modifying the training loop and model structure.\n",
    "- Custom logic (e.g., new loss functions) requires subclassing `Trainer`.\n",
    "\n",
    "#### **PyTorch**:\n",
    "- Full control over all components, including:\n",
    "  - Model design, loss functions, optimizers, and schedulers.\n",
    "  - Training loops, batching, and logging.\n",
    "- Better suited for experiments requiring unconventional designs.\n",
    "\n",
    "---\n",
    "\n",
    "### **Summary**\n",
    "\n",
    "| Aspect               | Hugging Face `Trainer`             | PyTorch Custom Workflow            |\n",
    "|----------------------|------------------------------------|-------------------------------------|\n",
    "| **Ease of Use**       | High (Plug-and-Play)              | Moderate (Write Everything)         |\n",
    "| **Control**           | Moderate (Requires Subclassing)   | High (Complete Control)             |\n",
    "| **Use Case**          | Fine-tuning Pre-Trained Models    | Custom Models and Architectures     |\n",
    "| **Data Handling**     | Automated Tokenization/Batching   | Manual Dataset and Dataloader Setup |\n",
    "| **Training Loop**     | Built-In                          | Manual Implementation               |\n",
    "| **Metrics**           | Easy Integration                  | Explicit Implementation             |\n",
    "| **Ideal Audience**    | Applied ML Practitioners          | Researchers and Developers          |\n",
    "\n",
    "For this task, the `Trainer` was chosen for its simplicity and rapid implementation, leveraging pre-trained BERT for sentiment classification without having to manually implement training or evaluation loops.\n",
    "\n",
    "\n",
    "\n",
    "\n",
    "\n",
    "\n",
    "\n",
    "\n",
    "\n",
    "\n",
    "\n",
    "\n",
    "\n",
    "\n",
    "\n",
    "\n",
    "\n"
   ]
  },
  {
   "cell_type": "markdown",
   "metadata": {},
   "source": []
  },
  {
   "cell_type": "markdown",
   "metadata": {},
   "source": [
    "# Imports and Setup"
   ]
  },
  {
   "cell_type": "code",
   "execution_count": 4,
   "metadata": {},
   "outputs": [],
   "source": []
  },
  {
   "cell_type": "code",
   "execution_count": 1,
   "metadata": {},
   "outputs": [],
   "source": [
    "import os\n",
    "os.environ[\"TRANSFORMERS_NO_TF\"] = \"1\"\n"
   ]
  },
  {
   "cell_type": "code",
   "execution_count": 2,
   "metadata": {},
   "outputs": [
    {
     "name": "stderr",
     "output_type": "stream",
     "text": [
      "/Users/rashijain/opt/anaconda3/envs/genai_env_pytorch/lib/python3.9/site-packages/tqdm/auto.py:21: TqdmWarning: IProgress not found. Please update jupyter and ipywidgets. See https://ipywidgets.readthedocs.io/en/stable/user_install.html\n",
      "  from .autonotebook import tqdm as notebook_tqdm\n"
     ]
    }
   ],
   "source": [
    "import torch\n",
    "from transformers import BertTokenizer, BertForSequenceClassification, AdamW\n",
    "from torch.utils.data import DataLoader\n",
    "from datasets import load_dataset\n",
    "from sklearn.metrics import classification_report, confusion_matrix\n",
    "import matplotlib.pyplot as plt\n",
    "import seaborn as sns\n",
    "import pandas as pd\n"
   ]
  },
  {
   "cell_type": "markdown",
   "metadata": {},
   "source": [
    "# DataLoader    "
   ]
  },
  {
   "cell_type": "code",
   "execution_count": null,
   "metadata": {},
   "outputs": [],
   "source": []
  },
  {
   "cell_type": "code",
   "execution_count": 3,
   "metadata": {},
   "outputs": [],
   "source": [
    "from datasets import load_dataset\n",
    "dataset = load_dataset(\"imdb\", streaming=True)\n"
   ]
  },
  {
   "cell_type": "code",
   "execution_count": 4,
   "metadata": {},
   "outputs": [],
   "source": [
    "# Data Loader\n",
    "\n",
    "# Load dataset\n",
    "from datasets import load_dataset\n",
    "dataset = load_dataset(\"imdb\")\n",
    "\n",
    "\n",
    "# Limit to 2000 samples for quicker runs\n",
    "train_data = dataset[\"train\"].shuffle(seed=42).select(range(2000))\n",
    "test_data = dataset[\"test\"].shuffle(seed=42).select(range(2000))\n",
    "train_data = train_data.train_test_split(test_size=0.1, seed=42)\n",
    "train_data, val_data = train_data[\"train\"], train_data[\"test\"]\n",
    "\n",
    "# Train and Evaluate"
   ]
  },
  {
   "cell_type": "code",
   "execution_count": 5,
   "metadata": {},
   "outputs": [
    {
     "data": {
      "text/plain": [
       "Dataset({\n",
       "    features: ['text', 'label'],\n",
       "    num_rows: 1800\n",
       "})"
      ]
     },
     "execution_count": 5,
     "metadata": {},
     "output_type": "execute_result"
    }
   ],
   "source": [
    "train_data"
   ]
  },
  {
   "cell_type": "code",
   "execution_count": 6,
   "metadata": {},
   "outputs": [
    {
     "data": {
      "text/plain": [
       "Dataset({\n",
       "    features: ['text', 'label'],\n",
       "    num_rows: 2000\n",
       "})"
      ]
     },
     "execution_count": 6,
     "metadata": {},
     "output_type": "execute_result"
    }
   ],
   "source": [
    "test_data"
   ]
  },
  {
   "cell_type": "code",
   "execution_count": null,
   "metadata": {},
   "outputs": [],
   "source": []
  },
  {
   "cell_type": "markdown",
   "metadata": {},
   "source": [
    "# EDA"
   ]
  },
  {
   "cell_type": "markdown",
   "metadata": {},
   "source": [
    " ### Basic Summary Statistics"
   ]
  },
  {
   "cell_type": "code",
   "execution_count": 7,
   "metadata": {},
   "outputs": [
    {
     "name": "stdout",
     "output_type": "stream",
     "text": [
      "Missing values in train data:\n",
      "text     0\n",
      "label    0\n",
      "dtype: int64\n",
      "\n",
      "Missing values in validation data:\n",
      "text     0\n",
      "label    0\n",
      "dtype: int64\n",
      "\n",
      "Missing values in test data:\n",
      "text     0\n",
      "label    0\n",
      "dtype: int64\n"
     ]
    }
   ],
   "source": [
    "import pandas as pd\n",
    "\n",
    "# Convert datasets to pandas DataFrames\n",
    "train_df = pd.DataFrame(train_data)\n",
    "val_df = pd.DataFrame(val_data)\n",
    "test_df = pd.DataFrame(test_data)\n",
    "\n",
    "\n",
    "\n",
    "\n",
    "\n",
    "# Check for missing values in the train, validation, and test data\n",
    "print(\"Missing values in train data:\")\n",
    "print(train_df.isnull().sum())\n",
    "\n",
    "print(\"\\nMissing values in validation data:\")\n",
    "print(val_df.isnull().sum())\n",
    "\n",
    "print(\"\\nMissing values in test data:\")\n",
    "print(test_df.isnull().sum())\n",
    "\n"
   ]
  },
  {
   "cell_type": "code",
   "execution_count": 8,
   "metadata": {},
   "outputs": [
    {
     "data": {
      "text/html": [
       "<div>\n",
       "<style scoped>\n",
       "    .dataframe tbody tr th:only-of-type {\n",
       "        vertical-align: middle;\n",
       "    }\n",
       "\n",
       "    .dataframe tbody tr th {\n",
       "        vertical-align: top;\n",
       "    }\n",
       "\n",
       "    .dataframe thead th {\n",
       "        text-align: right;\n",
       "    }\n",
       "</style>\n",
       "<table border=\"1\" class=\"dataframe\">\n",
       "  <thead>\n",
       "    <tr style=\"text-align: right;\">\n",
       "      <th></th>\n",
       "      <th>text</th>\n",
       "      <th>label</th>\n",
       "    </tr>\n",
       "  </thead>\n",
       "  <tbody>\n",
       "    <tr>\n",
       "      <th>0</th>\n",
       "      <td>I've never been to Paris, but after seeing \"Pa...</td>\n",
       "      <td>0</td>\n",
       "    </tr>\n",
       "    <tr>\n",
       "      <th>1</th>\n",
       "      <td>Never viewed this film until recently on TCM a...</td>\n",
       "      <td>1</td>\n",
       "    </tr>\n",
       "  </tbody>\n",
       "</table>\n",
       "</div>"
      ],
      "text/plain": [
       "                                                text  label\n",
       "0  I've never been to Paris, but after seeing \"Pa...      0\n",
       "1  Never viewed this film until recently on TCM a...      1"
      ]
     },
     "execution_count": 8,
     "metadata": {},
     "output_type": "execute_result"
    }
   ],
   "source": [
    "train_df.head(2)"
   ]
  },
  {
   "cell_type": "code",
   "execution_count": 9,
   "metadata": {},
   "outputs": [
    {
     "data": {
      "text/plain": [
       "'I\\'ve never been to Paris, but after seeing \"Paris, Je t\\'aime\" I\\'m crazy to visit this city! I\\'ve been to NY several times and I LOVE the city and its boroughs. I kinda expected to be touched by this film, to feel like jumping into a plane and fly there right away, but, lo and behold, I regret the time and money I spent with it. There are no love stories between people or a person and the city. There\\'s a lot of dysfunctional meetings and relations or people who know each other and it just doesn\\'t work out fine. Maybe this reflects a characteristic of the city, where it\\'s said to have thousands of people living on their own. Can\\'t you find love in New York?'"
      ]
     },
     "execution_count": 9,
     "metadata": {},
     "output_type": "execute_result"
    }
   ],
   "source": [
    "train_df.head(2)['text'][0]"
   ]
  },
  {
   "cell_type": "code",
   "execution_count": 10,
   "metadata": {},
   "outputs": [
    {
     "data": {
      "text/plain": [
       "'Never viewed this film until recently on TCM and found this story concerning Poland and a small town which had to suffer with the Nazi occupation of the local towns just like many other European Cities for example: Norway. The First World War was over and people in this town were still suffering from their lost soldiers and the wounded which War always creates. Alexander Knox, ( Wilhelm Gimm)\"Gorky Park\" returns from the war with a lost leg and was the former school teacher in town. He was brought up a German and was not very happy with the Polish people and they in turn did not fully accept him either. As the Hitler party grew to power Wilhelm Grimm desired to become a Nazi in order to return and punish this small Polish town for their treatment towards him which was really all in his mind. Marsha Hunt,(Marja Pacierkowski),\"Chloe\\'s Prayer\", played an outstanding role as a woman who lost her husband and was romantically involved with Whilhelm Gimm. There are many flashbacks and some very real truths about how the Nazi destroyed people\\'s families and their entire lives. The cattle cars are shown in this picture with Jewish people heading to the Nazi gas chambers. If you have not seen this film, and like this subject matter, give it some of your time; this film is very down to earth for a 1944 film and a story you will not forget too quickly.'"
      ]
     },
     "execution_count": 10,
     "metadata": {},
     "output_type": "execute_result"
    }
   ],
   "source": [
    "train_df.head(2)['text'][1]"
   ]
  },
  {
   "cell_type": "markdown",
   "metadata": {},
   "source": []
  },
  {
   "cell_type": "markdown",
   "metadata": {},
   "source": [
    "### Check for Duplicates"
   ]
  },
  {
   "cell_type": "code",
   "execution_count": 11,
   "metadata": {},
   "outputs": [
    {
     "name": "stdout",
     "output_type": "stream",
     "text": [
      "Duplicates in Train Data: 0\n",
      "Duplicates in Validation Data: 0\n",
      "Duplicates in Test Data: 1\n"
     ]
    }
   ],
   "source": [
    "# Check for duplicates in the train, validation, and test data\n",
    "print(\"Duplicates in Train Data:\", train_df.duplicated().sum())\n",
    "print(\"Duplicates in Validation Data:\", val_df.duplicated().sum())\n",
    "print(\"Duplicates in Test Data:\", test_df.duplicated().sum())\n"
   ]
  },
  {
   "cell_type": "markdown",
   "metadata": {},
   "source": [
    "### Check Label Distribution"
   ]
  },
  {
   "cell_type": "code",
   "execution_count": 12,
   "metadata": {},
   "outputs": [
    {
     "name": "stdout",
     "output_type": "stream",
     "text": [
      "Train Label Distribution:\n",
      "label\n",
      "1    907\n",
      "0    893\n",
      "Name: count, dtype: int64\n",
      "\n",
      "Validation Label Distribution:\n",
      "label\n",
      "0    107\n",
      "1     93\n",
      "Name: count, dtype: int64\n",
      "\n",
      "Test Label Distribution:\n",
      "label\n",
      "1    1000\n",
      "0    1000\n",
      "Name: count, dtype: int64\n"
     ]
    }
   ],
   "source": [
    "# Check label distribution in train, validation, and test datasets\n",
    "print(\"Train Label Distribution:\")\n",
    "print(train_df['label'].value_counts())\n",
    "\n",
    "print(\"\\nValidation Label Distribution:\")\n",
    "print(val_df['label'].value_counts())\n",
    "\n",
    "print(\"\\nTest Label Distribution:\")\n",
    "print(test_df['label'].value_counts())\n"
   ]
  },
  {
   "cell_type": "markdown",
   "metadata": {},
   "source": [
    "###  Text Length Distribution"
   ]
  },
  {
   "cell_type": "code",
   "execution_count": 13,
   "metadata": {},
   "outputs": [
    {
     "data": {
      "image/png": "[encoded data removed]",
      "text/plain": [
       "<Figure size 1500x500 with 3 Axes>"
      ]
     },
     "metadata": {},
     "output_type": "display_data"
    }
   ],
   "source": [
    "# Add text length column\n",
    "train_df['text_length'] = train_df['text'].apply(len)\n",
    "val_df['text_length'] = val_df['text'].apply(len)\n",
    "test_df['text_length'] = test_df['text'].apply(len)\n",
    "\n",
    "# Plot histograms of text length for train, validation, and test sets\n",
    "import matplotlib.pyplot as plt\n",
    "\n",
    "plt.figure(figsize=(15, 5))\n",
    "plt.subplot(1, 3, 1)\n",
    "plt.hist(train_df['text_length'], bins=30, color='blue', alpha=0.7)\n",
    "plt.title('Train Data Text Length')\n",
    "\n",
    "plt.subplot(1, 3, 2)\n",
    "plt.hist(val_df['text_length'], bins=30, color='green', alpha=0.7)\n",
    "plt.title('Validation Data Text Length')\n",
    "\n",
    "plt.subplot(1, 3, 3)\n",
    "plt.hist(test_df['text_length'], bins=30, color='red', alpha=0.7)\n",
    "plt.title('Test Data Text Length')\n",
    "\n",
    "plt.tight_layout()\n",
    "plt.show()\n"
   ]
  },
  {
   "cell_type": "markdown",
   "metadata": {},
   "source": [
    "### Label Distribution Plot"
   ]
  },
  {
   "cell_type": "code",
   "execution_count": 14,
   "metadata": {},
   "outputs": [
    {
     "data": {
      "image/png": "[encoded data removed]",
      "text/plain": [
       "<Figure size 1500x500 with 3 Axes>"
      ]
     },
     "metadata": {},
     "output_type": "display_data"
    }
   ],
   "source": [
    "# Plot label distribution for train, validation, and test datasets\n",
    "import matplotlib.pyplot as plt\n",
    "\n",
    "# Set up the figure and axes\n",
    "plt.figure(figsize=(15, 5))\n",
    "\n",
    "# Train Label Distribution\n",
    "plt.subplot(1, 3, 1)\n",
    "train_df['label'].value_counts().plot(kind='bar', color=['blue', 'orange'])\n",
    "plt.title('Train Label Distribution')\n",
    "plt.xlabel('Label')\n",
    "plt.ylabel('Count')\n",
    "\n",
    "# Validation Label Distribution\n",
    "plt.subplot(1, 3, 2)\n",
    "val_df['label'].value_counts().plot(kind='bar', color=['blue', 'orange'])\n",
    "plt.title('Validation Label Distribution')\n",
    "plt.xlabel('Label')\n",
    "plt.ylabel('Count')\n",
    "\n",
    "# Test Label Distribution\n",
    "plt.subplot(1, 3, 3)\n",
    "test_df['label'].value_counts().plot(kind='bar', color=['blue', 'orange'])\n",
    "plt.title('Test Label Distribution')\n",
    "plt.xlabel('Label')\n",
    "plt.ylabel('Count')\n",
    "\n",
    "# Adjust layout\n",
    "plt.tight_layout()\n",
    "plt.show()\n"
   ]
  },
  {
   "cell_type": "code",
   "execution_count": 15,
   "metadata": {},
   "outputs": [
    {
     "data": {
      "image/png": "[encoded data removed]",
      "text/plain": [
       "<Figure size 640x480 with 1 Axes>"
      ]
     },
     "metadata": {},
     "output_type": "display_data"
    },
    {
     "name": "stdout",
     "output_type": "stream",
     "text": [
      "Maximum text length: 6032\n",
      "Average text length: 1300.3633333333332\n"
     ]
    }
   ],
   "source": [
    "# Calculate the length of each text in the train dataset\n",
    "train_df['text_length'] = train_df['text'].apply(len)\n",
    "\n",
    "# Plot the text length distribution\n",
    "import matplotlib.pyplot as plt\n",
    "\n",
    "plt.hist(train_df['text_length'], bins=50, color='skyblue', edgecolor='black')\n",
    "plt.title('Text Length Distribution in Train Data')\n",
    "plt.xlabel('Length of Text (Number of Characters)')\n",
    "plt.ylabel('Frequency')\n",
    "plt.show()\n",
    "\n",
    "# Get the maximum and average length of the texts\n",
    "print(\"Maximum text length:\", train_df['text_length'].max())\n",
    "print(\"Average text length:\", train_df['text_length'].mean())\n"
   ]
  },
  {
   "cell_type": "markdown",
   "metadata": {},
   "source": [
    "Conclusion:\n",
    "Start with max_length=512 as a baseline, since it is efficient and works well for most transformer models.\n",
    "If your model supports longer sequences, try max_length=1024 and observe the effect on performance.\n",
    "Consider the nature of your dataset and the importance of longer context before deciding on a larger max_length.\n",
    "\n",
    "\n",
    "* Truncation\n",
    "Truncation will be applied to any text longer than the chosen max_length. If you set max_length=512 and have text lengths of 1300 on average, it will truncate the input text to the first 512 tokens.\n",
    "The decision about truncation can be made based on the nature of your task:\n",
    "If long texts contain significant information at the end (e.g., conclusions, summaries), you might want to truncate at the beginning of the text (truncation=True, truncation_strategy='longest_first'), retaining the important context at the end.\n",
    "If the start of the text is more important (e.g., in classification tasks where the beginning might contain key context), keep the beginning and discard the end.\n"
   ]
  },
  {
   "cell_type": "markdown",
   "metadata": {},
   "source": [
    "## DataPrepration"
   ]
  },
  {
   "cell_type": "markdown",
   "metadata": {},
   "source": [
    "### Tokenization using Hugging Face’s Tokenizer"
   ]
  },
  {
   "cell_type": "code",
   "execution_count": 16,
   "metadata": {},
   "outputs": [
    {
     "name": "stdout",
     "output_type": "stream",
     "text": [
      "Example tokenized input_ids: [101, 1045, 1005, 2310, 2196, 2042, 2000, 3000, 1010, 2021, 2044, 3773, 1000, 3000, 1010, 15333, 1056, 1005, 6614, 2063, 1000, 1045, 1005, 1049, 4689, 2000, 3942, 2023, 2103, 999, 1045, 1005, 2310, 2042, 2000, 6396, 2195, 2335, 1998, 1045, 2293, 1996, 2103, 1998, 2049, 21413, 1012, 1045, 17704, 3517, 2000, 2022, 5028, 2011, 2023, 2143, 1010, 2000, 2514, 2066, 8660, 2046, 1037, 4946, 1998, 4875, 2045, 2157, 2185, 1010, 2021, 1010, 8840, 1998, 27541, 1010, 1045, 9038, 1996, 2051, 1998, 2769, 1045, 2985, 2007, 2009, 1012, 2045, 2024, 2053, 2293, 3441, 2090, 2111, 2030, 1037, 2711, 1998, 1996, 2103, 1012, 2045, 1005, 1055, 1037, 2843, 1997, 28466, 2389, 6295, 1998, 4262, 2030, 2111, 2040, 2113, 2169, 2060, 1998, 2009, 2074, 2987, 1005, 1056, 2147, 2041, 2986, 102]\n",
      "Example attention_mask: [1, 1, 1, 1, 1, 1, 1, 1, 1, 1, 1, 1, 1, 1, 1, 1, 1, 1, 1, 1, 1, 1, 1, 1, 1, 1, 1, 1, 1, 1, 1, 1, 1, 1, 1, 1, 1, 1, 1, 1, 1, 1, 1, 1, 1, 1, 1, 1, 1, 1, 1, 1, 1, 1, 1, 1, 1, 1, 1, 1, 1, 1, 1, 1, 1, 1, 1, 1, 1, 1, 1, 1, 1, 1, 1, 1, 1, 1, 1, 1, 1, 1, 1, 1, 1, 1, 1, 1, 1, 1, 1, 1, 1, 1, 1, 1, 1, 1, 1, 1, 1, 1, 1, 1, 1, 1, 1, 1, 1, 1, 1, 1, 1, 1, 1, 1, 1, 1, 1, 1, 1, 1, 1, 1, 1, 1, 1, 1]\n"
     ]
    }
   ],
   "source": [
    "from transformers import BertTokenizer\n",
    "\n",
    "# Initialize the tokenizer for BERT\n",
    "tokenizer = BertTokenizer.from_pretrained('bert-base-uncased')\n",
    "\n",
    "# Tokenize the data and generate attention masks\n",
    "def tokenize_function(examples):\n",
    "    return tokenizer(\n",
    "        examples['text'],\n",
    "        padding=\"max_length\",       # Pads the sequence to max_length\n",
    "        truncation=True,             # Truncates sequences longer than max_length\n",
    "        max_length=128,             # Sets max length of the sequences\n",
    "        return_attention_mask=True  # Return attention mask along with input_ids\n",
    "    )\n",
    "\n",
    "# Apply tokenization to the train, validation, and test datasets\n",
    "train_data_tokenized = train_data.map(\n",
    "    lambda x: {**tokenize_function(x), \"labels\": x[\"label\"]}, \n",
    "    batched=True\n",
    ")\n",
    "val_data_tokenized = val_data.map(\n",
    "    lambda x: {**tokenize_function(x), \"labels\": x[\"label\"]}, \n",
    "    batched=True\n",
    ")\n",
    "test_data_tokenized = test_data.map(\n",
    "    lambda x: {**tokenize_function(x), \"labels\": x[\"label\"]}, \n",
    "    batched=True\n",
    ")\n",
    "\n",
    "# Check the tokenized output (input_ids and attention_mask)\n",
    "print(f\"Example tokenized input_ids: {train_data_tokenized[0]['input_ids']}\")\n",
    "print(f\"Example attention_mask: {train_data_tokenized[0]['attention_mask']}\")\n",
    "\n",
    "\n",
    "\n",
    "\n"
   ]
  },
  {
   "cell_type": "markdown",
   "metadata": {},
   "source": [
    "#### Explanation: \n",
    "* Tokenizer: The BertTokenizer converts text into tokens (integers), where each integer corresponds to a specific word piece or token from the vocabulary.\n",
    "* Padding and Truncation: We ensure each input is the same length (max_length=512), which is the standard for BERT.\n",
    "* input_ids: These are the tokenized representations of the text, which you can use as input for embedding generation or model training."
   ]
  },
  {
   "cell_type": "markdown",
   "metadata": {},
   "source": [
    "The **max length** parameter for tokenization is the maximum number of tokens that the tokenizer will generate for each input text. This parameter determines how much of the input text is considered when transforming it into token IDs.\n",
    "\n",
    "### How is the `max_length` determined?\n",
    "\n",
    "1. **Model Constraints**: Many transformer models, such as BERT, RoBERTa, and others, have a **maximum input length** they can handle. For instance:\n",
    "   - **BERT**: The maximum length of input sequences is 512 tokens.\n",
    "   - **RoBERTa**: Similarly, RoBERTa also has a maximum sequence length of 512 tokens.\n",
    "   - **DistilBERT**: Has a maximum sequence length of 512 tokens as well.\n",
    "\n",
    "   This is typically defined by the architecture of the model and is a hard limit.\n",
    "\n",
    "2. **Length of Text**: If you use a `max_length` that is longer than the length of your input text, the tokenizer will pad the text to that length. If the text is shorter than `max_length`, padding tokens (usually with `0` or a special padding token) are added.\n",
    "\n",
    "3. **Truncation**: If the input text exceeds the `max_length`, the tokenizer will truncate the text, keeping only the first `max_length` tokens. This means that some part of the input text will be discarded.\n",
    "\n",
    "4. **Context Considerations**: The maximum sequence length can also be influenced by the nature of the problem:\n",
    "   - For **short texts** like movie reviews (like in your example), a smaller max length (e.g., 128 or 256) may suffice.\n",
    "   - For **longer documents**, you may want to use the maximum sequence length (e.g., 512) to ensure the entire context of the text is captured, but this can introduce inefficiency in processing longer sequences.\n",
    "\n",
    "### How to Set `max_length`?\n",
    "\n",
    "1. **Default Model Length**: Often, you can rely on the model's default maximum length, which is typically 512 for most transformer models like BERT. In the case of BERT, the `max_length` should ideally not exceed 512 tokens.\n",
    "\n",
    "2. **Analyzing Text Lengths**: You can analyze the distribution of text lengths in your dataset and decide the `max_length` based on this. For example, if most texts in your dataset are short (less than 100 tokens), setting a `max_length` of 128 or 256 might be more efficient.\n",
    "\n",
    "3. **Adjusting for Performance**: Setting a smaller `max_length` can reduce memory usage and speed up training, especially if your model frequently processes long documents. However, truncating too much information might hurt performance if the text contains crucial information that is beyond the truncation threshold.\n",
    "\n",
    "### Example: Checking the Text Length Distribution\n",
    "Before setting a `max_length`, it’s helpful to look at the distribution of text lengths to decide the best value. Here’s how you can visualize the length distribution:\n",
    "\n",
    "```python\n",
    "# Calculate the length of each text in the train dataset\n",
    "train_df['text_length'] = train_df['text'].apply(len)\n",
    "\n",
    "# Plot the text length distribution\n",
    "import matplotlib.pyplot as plt\n",
    "\n",
    "plt.hist(train_df['text_length'], bins=50, color='skyblue', edgecolor='black')\n",
    "plt.title('Text Length Distribution in Train Data')\n",
    "plt.xlabel('Length of Text (Number of Characters)')\n",
    "plt.ylabel('Frequency')\n",
    "plt.show()\n",
    "\n",
    "# Get the maximum and average length of the texts\n",
    "print(\"Maximum text length:\", train_df['text_length'].max())\n",
    "print(\"Average text length:\", train_df['text_length'].mean())\n",
    "```\n",
    "\n",
    "### Key Takeaways:\n",
    "- **Maximum length** depends on the model architecture (e.g., BERT has 512 tokens as the max).\n",
    "- Texts longer than the max length will be truncated; shorter texts will be padded.\n",
    "- For practical purposes, you can set `max_length` based on the text length distribution in your dataset. If most of your texts are shorter than 100 tokens, you can choose a smaller `max_length` (e.g., 128), but if there’s a significant portion that exceeds, consider setting it to 256 or 512.\n",
    "\n",
    "Let me know if you need more clarification or assistance with setting the `max_length`!"
   ]
  },
  {
   "cell_type": "markdown",
   "metadata": {},
   "source": [
    " ### Attention Mask\n",
    " \n",
    " When the text sequences are shorter than the `max_length` and padded), you should also provide an **attention mask**. The attention mask tells the model which tokens are real (non-padding) and which tokens are padding, so that the model does not pay attention to padded tokens during processing.\n",
    "\n",
    "### What is an Attention Mask?\n",
    "- An **attention mask** is a binary tensor of the same length as the input sequence, where:\n",
    "  - `1` indicates a real token (i.e., a token that should be attended to).\n",
    "  - `0` indicates a padding token (i.e., a token that should be ignored by the model during processing).\n",
    "\n",
    "This mask is essential for models like BERT, as they need to know which tokens are padding and which are actual text to avoid attending to the padding during calculations.\n"
   ]
  },
  {
   "cell_type": "markdown",
   "metadata": {},
   "source": [
    "## Embedding Generation - NOT REQUIRED"
   ]
  },
  {
   "cell_type": "markdown",
   "metadata": {},
   "source": [
    "The embeddings are generated from the last_hidden_state output of the model, which represents the contextualized token embeddings.\n",
    "\n",
    "BERT generates embeddings automatically during its forward pass, and you can directly use those embeddings for tasks like classification without explicitly extracting them first. Let's clarify **why embeddings are generated explicitly in some workflows** versus **why you might skip that step and directly fine-tune BERT for classification**.\n",
    "\n",
    "---\n",
    "\n",
    "#### **Why Generate Embeddings?**\n",
    "\n",
    "1. **Feature Extraction for Other Models or Tasks**:\n",
    "   - Sometimes, you may want to use BERT’s embeddings as input features for downstream models like Random Forests, SVMs, or lightweight neural networks. For example:\n",
    "     - You could use embeddings to perform clustering (e.g., k-means).\n",
    "     - Use them for retrieval tasks where you calculate similarity between embeddings.\n",
    "   - In such cases, you extract the embeddings (from the last hidden state or the `[CLS]` token) and process them separately.\n",
    "\n",
    "2. **Task-Specific Representations**:\n",
    "   - By taking embeddings from the **last hidden state**, you can process them in a custom way:\n",
    "     - Pool embeddings for specific tokens.\n",
    "     - Use averaging or weighted pooling for sentence-level representations.\n",
    "   - This approach offers flexibility in defining how you want to represent your text for a specific task.\n",
    "\n",
    "3. **Efficiency for Non-End-to-End Pipelines**:\n",
    "   - If you’re working with a task where BERT is only used as a feature extractor (not fine-tuned), this method avoids re-computing embeddings every time during training. You compute embeddings once and save them for reuse.\n",
    "\n",
    "---\n",
    "\n",
    "#### **Why Use BERT Directly for Classification?**\n",
    "\n",
    "If your end goal is **classification**, it’s often better to use BERT directly, fine-tuning it on your specific dataset. Here's why:\n",
    "\n",
    "1. **End-to-End Training**:\n",
    "   - Fine-tuning BERT allows it to adjust its weights specifically for your task, improving performance. For example:\n",
    "     - In sentiment analysis, BERT can learn to emphasize sentiment-bearing words during fine-tuning.\n",
    "   - By training the classification layer and the BERT encoder jointly, you ensure the embeddings are optimized for your task.\n",
    "\n",
    "2. **Built-In Classification Head**:\n",
    "   - BERT provides a **classification head** on top of the `[CLS]` token. This is specifically designed for tasks like sentiment analysis or binary classification. Fine-tuning updates both the classification head and BERT weights to align with your task.\n",
    "\n",
    "3. **Simplicity**:\n",
    "   - Using BERT for direct classification simplifies the pipeline. Instead of extracting embeddings and training a separate model, you just fine-tune BERT with minimal preprocessing.\n",
    "\n",
    "---\n",
    "\n",
    "#### **When to Choose Which Approach?**\n",
    "\n",
    "| **Approach**                  | **Use Case**                                                                                     |\n",
    "|--------------------------------|--------------------------------------------------------------------------------------------------|\n",
    "| **Embedding Extraction**       | - You need embeddings for tasks like clustering, similarity search, or hybrid pipelines.<br> - You want to use BERT features with other ML models (e.g., Random Forests). <br> - Computational constraints prevent fine-tuning. |\n",
    "| **Direct BERT Fine-Tuning**    | - Your goal is task-specific classification (e.g., sentiment analysis, text classification). <br> - You have labeled data for supervised fine-tuning. <br> - You want the best possible performance from BERT.                      |\n",
    "\n",
    "---\n",
    "\n",
    "#### **Summary**\n",
    "1. **Why generate embeddings manually?**\n",
    "   - For non-end-to-end tasks or when embeddings are reused for other purposes (e.g., clustering or similarity).\n",
    "\n",
    "2. **Why use BERT directly for classification?**\n",
    "   - For task-specific fine-tuning and better performance in supervised learning tasks.\n",
    "\n",
    "If your task is **sentiment analysis**, you should likely fine-tune BERT for classification unless you have a specific reason to extract embeddings.\n",
    "\n"
   ]
  },
  {
   "cell_type": "code",
   "execution_count": 17,
   "metadata": {},
   "outputs": [],
   "source": [
    "# ##### Not Required ####\n",
    "\n",
    "\n",
    "# import torch\n",
    "# from transformers import BertTokenizer, BertModel\n",
    "\n",
    "# model = BertModel.from_pretrained('bert-base-uncased')\n",
    "\n",
    "\n",
    "\n",
    "# # Convert to PyTorch tensors for embedding generation\n",
    "# def generate_embeddings(data):\n",
    "#     input_ids = torch.tensor(data['input_ids'])  # Input IDs\n",
    "#     attention_mask = torch.tensor(data['attention_mask'])  # Attention mask\n",
    "    \n",
    "#     with torch.no_grad():\n",
    "#         outputs = model(input_ids, attention_mask=attention_mask)  # Forward pass with attention mask\n",
    "#         embeddings = outputs.last_hidden_state  # Get the last hidden state as embeddings\n",
    "    \n",
    "#     return embeddings\n",
    "\n",
    "# # Generate embeddings for train, validation, and test sets\n",
    "# train_embeddings = generate_embeddings(train_data_tokenized)\n",
    "# val_embeddings = generate_embeddings(val_data_tokenized)\n",
    "# test_embeddings = generate_embeddings(test_data_tokenized)\n",
    "\n",
    "# # Check the shape of the embeddings for one sample (batch size, sequence length, hidden size)\n",
    "# print(f\"Train embeddings shape: {train_embeddings.shape}\")\n",
    "# print(f\"Validation embeddings shape: {val_embeddings.shape}\")\n",
    "# print(f\"Test embeddings shape: {test_embeddings.shape}\")\n"
   ]
  },
  {
   "cell_type": "markdown",
   "metadata": {},
   "source": [
    "#### Embedding Visualization"
   ]
  },
  {
   "cell_type": "code",
   "execution_count": 18,
   "metadata": {},
   "outputs": [],
   "source": [
    "# from sklearn.manifold import TSNE\n",
    "# import matplotlib.pyplot as plt\n",
    "\n",
    "# # Convert embeddings to 2D using t-SNE\n",
    "# def visualize_embeddings(embeddings, labels):\n",
    "#     # We take the mean of the token embeddings for each sentence\n",
    "#     sentence_embeddings = embeddings.mean(dim=1).numpy()  # Shape: (num_samples, hidden_size)\n",
    "\n",
    "#     # Perform t-SNE to reduce to 2D\n",
    "#     tsne = TSNE(n_components=2, random_state=42)\n",
    "#     tsne_results = tsne.fit_transform(sentence_embeddings)\n",
    "\n",
    "#     # Plot the results\n",
    "#     plt.figure(figsize=(10, 8))\n",
    "#     scatter = plt.scatter(tsne_results[:, 0], tsne_results[:, 1], c=labels, cmap='viridis', alpha=0.7)\n",
    "#     plt.title(\"t-SNE of Sentence Embeddings\")\n",
    "#     plt.xlabel(\"t-SNE Dimension 1\")\n",
    "#     plt.ylabel(\"t-SNE Dimension 2\")\n",
    "#     plt.colorbar(scatter)\n",
    "#     plt.show()\n",
    "\n",
    "# # Example: Visualizing train set embeddings (assuming labels are available as train_data_tokenized['label'])\n",
    "# visualize_embeddings(train_embeddings, train_data_tokenized['label'])\n"
   ]
  },
  {
   "cell_type": "markdown",
   "metadata": {},
   "source": [
    "Embedding plot visualization is useful for understanding the **distribution of data** in a lower-dimensional space. Here’s how and why it's valuable, especially in NLP tasks:\n",
    "\n",
    "### Example Interpretation of a Plot\n",
    "\n",
    "Let’s say you visualize sentiment embeddings using **t-SNE**:\n",
    "\n",
    "1. **Clusters**: \n",
    "   - Positive and negative reviews form distinct, compact clusters. This suggests that the embeddings capture sentiment well.\n",
    "\n",
    "   Example:\n",
    "   ```\n",
    "   Positive Reviews: Cluster 1 (top right)\n",
    "   Negative Reviews: Cluster 2 (bottom left)\n",
    "   ```\n",
    "\n",
    "2. **Overlap**:\n",
    "   - If some points from the positive and negative clusters overlap, it might indicate:\n",
    "     - Ambiguous samples (e.g., mixed sentiment).\n",
    "     - Issues in tokenization or model architecture.\n",
    "\n",
    "3. **Outliers**:\n",
    "   - Points far from any cluster could indicate noisy data, such as typos or very short/long reviews.\n",
    "\n",
    "---\n",
    "\n",
    "#### Should You Always Visualize?\n",
    "Not necessarily. Visualization is a **diagnostic tool**:\n",
    "- Use it to **explore data quality** and **understand patterns**.\n",
    "- Once you're confident in the embeddings, proceed to model training and evaluation.\n",
    "\n",
    "---\n",
    "\n",
    "#### Final Note\n",
    "Embedding visualization isn’t always necessary for production but can be **invaluable for debugging** and understanding your data/model pipeline. Let me know if you want a concrete example with code and walkthrough!"
   ]
  },
  {
   "cell_type": "code",
   "execution_count": 19,
   "metadata": {},
   "outputs": [
    {
     "name": "stderr",
     "output_type": "stream",
     "text": [
      "Some weights of BertForSequenceClassification were not initialized from the model checkpoint at bert-base-uncased and are newly initialized: ['classifier.bias', 'classifier.weight']\n",
      "You should probably TRAIN this model on a down-stream task to be able to use it for predictions and inference.\n"
     ]
    }
   ],
   "source": [
    "# import wandb\n",
    "# wandb.init(project=\"bert-fine-tuning\", settings=wandb.Settings(init_timeout=120))\n",
    "\n",
    "\n",
    "\n",
    "from transformers import BertForSequenceClassification\n",
    "\n",
    "model = BertForSequenceClassification.from_pretrained(\"bert-base-uncased\", num_labels=2)\n",
    "\n"
   ]
  },
  {
   "cell_type": "markdown",
   "metadata": {},
   "source": [
    "# Train the Model"
   ]
  },
  {
   "cell_type": "code",
   "execution_count": null,
   "metadata": {},
   "outputs": [],
   "source": []
  },
  {
   "cell_type": "code",
   "execution_count": 20,
   "metadata": {},
   "outputs": [
    {
     "name": "stdout",
     "output_type": "stream",
     "text": [
      "Current tracking URI: file:///Users/rashijain/Documents/GitHub/SentimentPredictionML/mlruns\n"
     ]
    },
    {
     "name": "stderr",
     "output_type": "stream",
     "text": [
      "/Users/rashijain/opt/anaconda3/envs/genai_env_pytorch/lib/python3.9/site-packages/pydantic/_internal/_config.py:345: UserWarning: Valid config keys have changed in V2:\n",
      "* 'schema_extra' has been renamed to 'json_schema_extra'\n",
      "  warnings.warn(message, UserWarning)\n"
     ]
    }
   ],
   "source": [
    "import mlflow\n",
    "import os\n",
    "\n",
    "# Set MLflow tracking URI to a local directory\n",
    "tracking_dir = os.path.abspath(\"./mlruns\")\n",
    "mlflow.set_tracking_uri(f\"file://{tracking_dir}\")\n",
    "\n",
    "# Print current tracking URI\n",
    "print(f\"Current tracking URI: {mlflow.get_tracking_uri()}\")\n",
    "\n",
    "# List all registered models\n",
    "client = mlflow.tracking.MlflowClient()\n",
    "for rm in client.search_registered_models():\n",
    "    print(f\"\\nModel: {rm.name}\")\n",
    "    for mv in client.search_model_versions(f\"name='{rm.name}'\"):\n",
    "        print(f\"Version {mv.version} - Stage: {mv.current_stage}\")"
   ]
  },
  {
   "cell_type": "code",
   "execution_count": null,
   "metadata": {},
   "outputs": [],
   "source": []
  },
  {
   "cell_type": "code",
   "execution_count": 21,
   "metadata": {},
   "outputs": [
    {
     "name": "stdout",
     "output_type": "stream",
     "text": [
      "PyTorch Version: 2.2.2\n",
      "NumPy Version: 1.24.3\n",
      "[1.]\n"
     ]
    }
   ],
   "source": [
    "import torch\n",
    "import numpy as np\n",
    "\n",
    "print(\"PyTorch Version:\", torch.__version__)\n",
    "print(\"NumPy Version:\", np.__version__)\n",
    "\n",
    "# Check if PyTorch can access NumPy\n",
    "print(torch.tensor([1.0]).numpy())  # Should work\n"
   ]
  },
  {
   "cell_type": "code",
   "execution_count": 22,
   "metadata": {},
   "outputs": [],
   "source": [
    "os.makedirs(\"./results\", exist_ok=True)\n",
    "os.makedirs(\"./logs\", exist_ok=True)\n"
   ]
  },
  {
   "cell_type": "code",
   "execution_count": 24,
   "metadata": {},
   "outputs": [],
   "source": []
  },
  {
   "cell_type": "code",
   "execution_count": 25,
   "metadata": {},
   "outputs": [
    {
     "name": "stderr",
     "output_type": "stream",
     "text": [
      "2025/02/04 22:11:01 INFO mlflow.tracking.fluent: Experiment with name 'Sentiment Analysis with BERT v2' does not exist. Creating a new experiment.\n"
     ]
    },
    {
     "data": {
      "text/plain": [
       "<Experiment: artifact_location='file:///Users/rashijain/Documents/GitHub/SentimentPredictionML/mlruns/831666166690868250', creation_time=1738728661185, experiment_id='831666166690868250', last_update_time=1738728661185, lifecycle_stage='active', name='Sentiment Analysis with BERT v2', tags={}>"
      ]
     },
     "execution_count": 25,
     "metadata": {},
     "output_type": "execute_result"
    }
   ],
   "source": [
    "import mlflow\n",
    "import mlflow.pytorch\n",
    "from transformers import BertTokenizer, BertForSequenceClassification, Trainer, TrainingArguments\n",
    "from sklearn.metrics import precision_recall_fscore_support, accuracy_score\n",
    "import torch\n",
    "import numpy as np\n",
    "\n",
    "\n",
    "# Create experiment\n",
    "mlflow.set_experiment(\"Sentiment Analysis with BERT v2\")"
   ]
  },
  {
   "cell_type": "code",
   "execution_count": 23,
   "metadata": {},
   "outputs": [
    {
     "data": {
      "text/plain": [
       "Dataset({\n",
       "    features: ['text', 'label', 'input_ids', 'token_type_ids', 'attention_mask', 'labels'],\n",
       "    num_rows: 1800\n",
       "})"
      ]
     },
     "execution_count": 23,
     "metadata": {},
     "output_type": "execute_result"
    }
   ],
   "source": [
    "train_data_tokenized"
   ]
  },
  {
   "cell_type": "code",
   "execution_count": 25,
   "metadata": {},
   "outputs": [
    {
     "name": "stderr",
     "output_type": "stream",
     "text": [
      "/Users/rashijain/opt/anaconda3/envs/genai_env_pytorch/lib/python3.9/site-packages/transformers/training_args.py:1575: FutureWarning: `evaluation_strategy` is deprecated and will be removed in version 4.46 of 🤗 Transformers. Use `eval_strategy` instead\n",
      "  warnings.warn(\n"
     ]
    },
    {
     "name": "stdout",
     "output_type": "stream",
     "text": [
      "Loading model and tokenizer...\n"
     ]
    },
    {
     "name": "stderr",
     "output_type": "stream",
     "text": [
      "Some weights of BertForSequenceClassification were not initialized from the model checkpoint at bert-base-uncased and are newly initialized: ['classifier.bias', 'classifier.weight']\n",
      "You should probably TRAIN this model on a down-stream task to be able to use it for predictions and inference.\n",
      "2025/02/04 23:25:33 INFO mlflow.tracking.fluent: Experiment with name 'BERT Sentiment Analysis' does not exist. Creating a new experiment.\n"
     ]
    },
    {
     "name": "stdout",
     "output_type": "stream",
     "text": [
      "Initializing Trainer...\n",
      "MLflow Run ID: 9ebbade9201b445191cc63c480239f2a\n",
      "Logging training parameters to MLflow...\n",
      "Starting training...\n"
     ]
    },
    {
     "data": {
      "text/html": [
       "\n",
       "    <div>\n",
       "      \n",
       "      <progress value='225' max='225' style='width:300px; height:20px; vertical-align: middle;'></progress>\n",
       "      [225/225 22:58, Epoch 1/1]\n",
       "    </div>\n",
       "    <table border=\"1\" class=\"dataframe\">\n",
       "  <thead>\n",
       " <tr style=\"text-align: left;\">\n",
       "      <th>Epoch</th>\n",
       "      <th>Training Loss</th>\n",
       "      <th>Validation Loss</th>\n",
       "      <th>Accuracy</th>\n",
       "      <th>Precision</th>\n",
       "      <th>Recall</th>\n",
       "      <th>F1</th>\n",
       "    </tr>\n",
       "  </thead>\n",
       "  <tbody>\n",
       "    <tr>\n",
       "      <td>1</td>\n",
       "      <td>0.467400</td>\n",
       "      <td>0.468720</td>\n",
       "      <td>0.805000</td>\n",
       "      <td>0.804893</td>\n",
       "      <td>0.805000</td>\n",
       "      <td>0.804926</td>\n",
       "    </tr>\n",
       "  </tbody>\n",
       "</table><p>"
      ],
      "text/plain": [
       "<IPython.core.display.HTML object>"
      ]
     },
     "metadata": {},
     "output_type": "display_data"
    },
    {
     "name": "stdout",
     "output_type": "stream",
     "text": [
      "Training completed.\n",
      "Evaluating model...\n"
     ]
    },
    {
     "data": {
      "text/html": [
       "\n",
       "    <div>\n",
       "      \n",
       "      <progress value='177' max='13' style='width:300px; height:20px; vertical-align: middle;'></progress>\n",
       "      [13/13 38:34]\n",
       "    </div>\n",
       "    "
      ],
      "text/plain": [
       "<IPython.core.display.HTML object>"
      ]
     },
     "metadata": {},
     "output_type": "display_data"
    },
    {
     "name": "stdout",
     "output_type": "stream",
     "text": [
      "Evaluation Metrics: {'eval_loss': 0.46871986985206604, 'eval_accuracy': 0.805, 'eval_precision': 0.8048933172302736, 'eval_recall': 0.805, 'eval_f1': 0.804926461345066, 'eval_runtime': 34.516, 'eval_samples_per_second': 5.794, 'eval_steps_per_second': 0.377, 'epoch': 1.0}\n",
      "Logging evaluation metrics to MLflow...\n",
      "Saving model and tokenizer...\n",
      "Logging model and tokenizer to MLflow...\n",
      "Run Completed! View details in MLflow UI with Run ID: 9ebbade9201b445191cc63c480239f2a\n"
     ]
    }
   ],
   "source": [
    "import os\n",
    "import mlflow\n",
    "import mlflow.pytorch\n",
    "import torch\n",
    "from transformers import BertTokenizer, BertForSequenceClassification, Trainer, TrainingArguments\n",
    "from sklearn.metrics import precision_recall_fscore_support, accuracy_score\n",
    "\n",
    "# Ensure directories exist\n",
    "os.makedirs(\"final_model\", exist_ok=True)\n",
    "os.makedirs(\"final_tokenizer\", exist_ok=True)\n",
    "os.makedirs(\"./logs\", exist_ok=True)\n",
    "\n",
    "# Function to compute evaluation metrics\n",
    "def compute_metrics(eval_pred):\n",
    "    logits, labels = eval_pred\n",
    "    predictions = logits.argmax(axis=-1)\n",
    "    precision, recall, f1, _ = precision_recall_fscore_support(labels, predictions, average='weighted')\n",
    "    accuracy = accuracy_score(labels, predictions)\n",
    "    return {\"accuracy\": accuracy, \"precision\": precision, \"recall\": recall, \"f1\": f1}\n",
    "\n",
    "# Training arguments with TensorBoard logging\n",
    "tensorboard_logdir = \"./logs/tensorboard\"\n",
    "training_args = TrainingArguments(\n",
    "    output_dir=\"./results\",\n",
    "    logging_dir=tensorboard_logdir,\n",
    "    num_train_epochs=1,\n",
    "    per_device_train_batch_size=8,\n",
    "    per_device_eval_batch_size=16,\n",
    "    save_strategy=\"no\",\n",
    "    logging_steps=200,\n",
    "    evaluation_strategy=\"epoch\",\n",
    "    dataloader_pin_memory=False,\n",
    "    report_to=[\"tensorboard\"],  # Ensure TensorBoard logging\n",
    ")\n",
    "\n",
    "# Load model and tokenizer\n",
    "print(\"Loading model and tokenizer...\")\n",
    "tokenizer = BertTokenizer.from_pretrained(\"bert-base-uncased\")\n",
    "model = BertForSequenceClassification.from_pretrained(\"bert-base-uncased\", num_labels=2)\n",
    "\n",
    "# Trainer setup\n",
    "print(\"Initializing Trainer...\")\n",
    "trainer = Trainer(\n",
    "    model=model,\n",
    "    args=training_args,\n",
    "    train_dataset=train_data_tokenized,  # Ensure these datasets are correctly prepared\n",
    "    eval_dataset=val_data_tokenized,\n",
    "    compute_metrics=compute_metrics\n",
    ")\n",
    "\n",
    "# Start MLflow tracking\n",
    "mlflow.set_experiment(\"BERT Sentiment Analysis\")\n",
    "with mlflow.start_run() as run:\n",
    "    print(f\"MLflow Run ID: {run.info.run_id}\")\n",
    "    \n",
    "    # Log model parameters\n",
    "    print(\"Logging training parameters to MLflow...\")\n",
    "    mlflow.log_param(\"model_name\", \"bert-base-uncased\")\n",
    "    mlflow.log_param(\"num_labels\", 2)\n",
    "    mlflow.log_param(\"batch_size\", training_args.per_device_train_batch_size)\n",
    "    mlflow.log_param(\"epochs\", training_args.num_train_epochs)\n",
    "    mlflow.log_param(\"learning_rate\", training_args.learning_rate)\n",
    "    \n",
    "    # Train the model\n",
    "    print(\"Starting training...\")\n",
    "    trainer.train()\n",
    "    print(\"Training completed.\")\n",
    "    \n",
    "    # Evaluate the model\n",
    "    print(\"Evaluating model...\")\n",
    "    metrics = trainer.evaluate()\n",
    "    print(f\"Evaluation Metrics: {metrics}\")\n",
    "    \n",
    "    # Log evaluation metrics\n",
    "    print(\"Logging evaluation metrics to MLflow...\")\n",
    "    for metric_name, value in metrics.items():\n",
    "        mlflow.log_metric(metric_name, value)\n",
    "    \n",
    "    # Save the trained model and tokenizer\n",
    "    print(\"Saving model and tokenizer...\")\n",
    "    trainer.save_model(\"final_model\")\n",
    "    tokenizer.save_pretrained(\"final_tokenizer\")\n",
    "    \n",
    "    # Log artifacts to MLflow\n",
    "    print(\"Logging model and tokenizer to MLflow...\")\n",
    "    mlflow.pytorch.log_model(model, \"model\")\n",
    "    mlflow.log_artifacts(\"final_tokenizer\", artifact_path=\"tokenizer\")\n",
    "    \n",
    "print(f\"Run Completed! View details in MLflow UI with Run ID: {run.info.run_id}\")\n",
    "\n",
    "# To launch TensorBoard, run this command in the terminal:\n",
    "# tensorboard --logdir=./logs/tensorboard\n"
   ]
  },
  {
   "cell_type": "markdown",
   "metadata": {},
   "source": [
    "# Evaluate the Model"
   ]
  },
  {
   "cell_type": "code",
   "execution_count": 29,
   "metadata": {},
   "outputs": [
    {
     "name": "stdout",
     "output_type": "stream",
     "text": [
      "Evaluation Results: {'eval_loss': 0.46871986985206604, 'eval_accuracy': 0.805, 'eval_precision': 0.8048933172302736, 'eval_recall': 0.805, 'eval_f1': 0.804926461345066, 'eval_runtime': 47.914, 'eval_samples_per_second': 4.174, 'eval_steps_per_second': 0.271, 'epoch': 1.0}\n",
      "Error during evaluation logging: [Errno 2] No such file or directory: 'confusion_matrix.png'\n"
     ]
    }
   ],
   "source": [
    "import mlflow\n",
    "\n",
    "def evaluate_and_log(run_id: str):\n",
    "    \"\"\"\n",
    "    Evaluate model and log metrics to an existing MLflow run\n",
    "    \n",
    "    Args:\n",
    "        run_id (str): MLflow run ID from training\n",
    "    \"\"\"\n",
    "    try:\n",
    "        with mlflow.start_run(run_id=run_id) as run:\n",
    "            # Evaluate\n",
    "            eval_results = trainer.evaluate()\n",
    "            print(\"Evaluation Results:\", eval_results)\n",
    "            \n",
    "            # Log validation metrics\n",
    "            for metric_name, metric_value in eval_results.items():\n",
    "                mlflow.log_metric(f\"val_{metric_name}\", metric_value)\n",
    "                \n",
    "            # You can also log additional artifacts\n",
    "            mlflow.log_artifact(\"confusion_matrix.png\")\n",
    "            \n",
    "    except Exception as e:\n",
    "        print(f\"Error during evaluation logging: {str(e)}\")\n",
    "\n",
    "run_id=run.info.run_id\n",
    "\n",
    "\n",
    "# Use the function\n",
    "evaluate_and_log(run_id)"
   ]
  },
  {
   "cell_type": "markdown",
   "metadata": {},
   "source": [
    " # Test the Model"
   ]
  },
  {
   "cell_type": "code",
   "execution_count": 32,
   "metadata": {},
   "outputs": [
    {
     "name": "stdout",
     "output_type": "stream",
     "text": [
      "Test Results: {'eval_loss': 0.40146583318710327, 'eval_accuracy': 0.8405, 'eval_precision': 0.8417717326170681, 'eval_recall': 0.8405, 'eval_f1': 0.8403514869707546, 'eval_runtime': 453.0023, 'eval_samples_per_second': 4.415, 'eval_steps_per_second': 0.276, 'epoch': 1.0}\n"
     ]
    }
   ],
   "source": [
    "# Use the same run ID from training\n",
    "\n",
    "run_id=run.info.run_id\n",
    "\n",
    "# Evaluate on test data and log to the same run\n",
    "with mlflow.start_run(run_id=run_id) as run:\n",
    "    # Evaluate on test data\n",
    "    test_results = trainer.evaluate(test_data_tokenized)\n",
    "    print(\"Test Results:\", test_results)\n",
    "    \n",
    "    # Log test metrics with test_ prefix to distinguish from train/val metrics\n",
    "    for metric_name, metric_value in test_results.items():\n",
    "        mlflow.log_metric(f\"test_{metric_name}\", metric_value)"
   ]
  },
  {
   "cell_type": "markdown",
   "metadata": {},
   "source": [
    "## Analyze the Worst Residuals\n",
    "Identify the Worst Residuals\n",
    "Residuals are the difference between true labels and predictions. You can evaluate these after the test set evaluation:"
   ]
  },
  {
   "cell_type": "code",
   "execution_count": 30,
   "metadata": {},
   "outputs": [
    {
     "name": "stdout",
     "output_type": "stream",
     "text": [
      "Accuracy: 0.84\n",
      "Precision: 0.84\n",
      "Recall: 0.84\n",
      "F1 Score: 0.84\n",
      "\n",
      "Classification Report:\n",
      "              precision    recall  f1-score   support\n",
      "\n",
      "           0       0.83      0.84      0.84      1000\n",
      "           1       0.84      0.83      0.84      1000\n",
      "\n",
      "    accuracy                           0.84      2000\n",
      "   macro avg       0.84      0.84      0.84      2000\n",
      "weighted avg       0.84      0.84      0.84      2000\n",
      "\n"
     ]
    }
   ],
   "source": [
    "from sklearn.metrics import classification_report, accuracy_score, precision_recall_fscore_support\n",
    "import matplotlib.pyplot as plt\n",
    "\n",
    "# Get predictions on test set\n",
    "predictions = trainer.predict(test_data_tokenized)\n",
    "\n",
    "# Extract logits, true labels, and predicted labels\n",
    "logits = predictions.predictions\n",
    "labels = predictions.label_ids\n",
    "predicted_labels = logits.argmax(axis=-1)\n",
    "\n",
    "# Compute metrics\n",
    "accuracy = accuracy_score(labels, predicted_labels)\n",
    "precision, recall, f1, _ = precision_recall_fscore_support(labels, predicted_labels, average='weighted')\n",
    "\n",
    "# Print metrics\n",
    "print(f\"Accuracy: {accuracy:.2f}\")\n",
    "print(f\"Precision: {precision:.2f}\")\n",
    "print(f\"Recall: {recall:.2f}\")\n",
    "print(f\"F1 Score: {f1:.2f}\")\n",
    "print(\"\\nClassification Report:\")\n",
    "print(classification_report(labels, predicted_labels))\n"
   ]
  },
  {
   "cell_type": "code",
   "execution_count": 31,
   "metadata": {},
   "outputs": [
    {
     "name": "stdout",
     "output_type": "stream",
     "text": [
      "True Positives (TP): 833\n",
      "True Negatives (TN): 838\n",
      "False Positives (FP): 162\n",
      "False Negatives (FN): 167\n"
     ]
    }
   ],
   "source": [
    "from sklearn.metrics import confusion_matrix\n",
    "\n",
    "# Compute the confusion matrix\n",
    "conf_matrix = confusion_matrix(labels, predicted_labels)\n",
    "tn, fp, fn, tp = conf_matrix.ravel()\n",
    "\n",
    "# Print confusion matrix components\n",
    "print(f\"True Positives (TP): {tp}\")\n",
    "print(f\"True Negatives (TN): {tn}\")\n",
    "print(f\"False Positives (FP): {fp}\")\n",
    "print(f\"False Negatives (FN): {fn}\")\n"
   ]
  },
  {
   "cell_type": "code",
   "execution_count": 32,
   "metadata": {},
   "outputs": [
    {
     "data": {
      "image/png": "[encoded data removed]",
      "text/plain": [
       "<Figure size 800x500 with 1 Axes>"
      ]
     },
     "metadata": {},
     "output_type": "display_data"
    }
   ],
   "source": [
    "# Data for the plot\n",
    "categories = ['True Positives (TP)', 'True Negatives (TN)', 'False Positives (FP)', 'False Negatives (FN)']\n",
    "values = [tp, tn, fp, fn]\n",
    "\n",
    "# Plot\n",
    "plt.figure(figsize=(8, 5))\n",
    "plt.bar(categories, values, color=['green', 'blue', 'orange', 'red'])\n",
    "plt.title(\"Confusion Matrix Components\")\n",
    "plt.ylabel(\"Count\")\n",
    "plt.xlabel(\"Metric\")\n",
    "plt.xticks(rotation=45)\n",
    "plt.show()\n"
   ]
  },
  {
   "cell_type": "code",
   "execution_count": 33,
   "metadata": {},
   "outputs": [
    {
     "data": {
      "image/png": "[encoded data removed]",
      "text/plain": [
       "<Figure size 600x600 with 2 Axes>"
      ]
     },
     "metadata": {},
     "output_type": "display_data"
    }
   ],
   "source": [
    "import seaborn as sns\n",
    "import numpy as np\n",
    "\n",
    "# Normalize the confusion matrix for better interpretability\n",
    "conf_matrix_normalized = conf_matrix.astype('float') / conf_matrix.sum(axis=1)[:, np.newaxis]\n",
    "\n",
    "# Plot heatmap\n",
    "plt.figure(figsize=(6, 6))\n",
    "sns.heatmap(conf_matrix_normalized, annot=True, fmt=\".2f\", cmap=\"Blues\", xticklabels=['Negative', 'Positive'], yticklabels=['Negative', 'Positive'])\n",
    "plt.title(\"Confusion Matrix (Normalized)\")\n",
    "plt.ylabel(\"Actual Labels\")\n",
    "plt.xlabel(\"Predicted Labels\")\n",
    "plt.show()\n"
   ]
  },
  {
   "cell_type": "code",
   "execution_count": 34,
   "metadata": {},
   "outputs": [
    {
     "data": {
      "image/png": "[encoded data removed]",
      "text/plain": [
       "<Figure size 600x600 with 2 Axes>"
      ]
     },
     "metadata": {},
     "output_type": "display_data"
    }
   ],
   "source": [
    "# Plot confusion matrix heatmap\n",
    "plt.figure(figsize=(6, 6))\n",
    "sns.heatmap(conf_matrix, annot=True, fmt=\"d\", cmap=\"Blues\", xticklabels=['Negative', 'Positive'], yticklabels=['Negative', 'Positive'])\n",
    "\n",
    "# Add titles and labels\n",
    "plt.title(\"Confusion Matrix (Raw Counts)\")\n",
    "plt.ylabel(\"Actual Labels\")\n",
    "plt.xlabel(\"Predicted Labels\")\n",
    "plt.show()\n"
   ]
  },
  {
   "cell_type": "markdown",
   "metadata": {},
   "source": [
    "## Analyze Worst Logits\n",
    "To analyze the least confident predictions (e.g., closest to the decision boundary), find the logits with minimal absolute differences between the two highest values:"
   ]
  },
  {
   "cell_type": "code",
   "execution_count": 35,
   "metadata": {},
   "outputs": [
    {
     "name": "stdout",
     "output_type": "stream",
     "text": [
      "\n",
      "==================================================\n",
      "Input Text: That's awesome!\n",
      "\n",
      "=== Tokenized Inputs ===\n",
      "input_ids:\n",
      "tensor([[  101,  2008,  1005,  1055, 12476,   999,   102]])\n",
      "Shape: torch.Size([1, 7])\n",
      "token_type_ids:\n",
      "tensor([[0, 0, 0, 0, 0, 0, 0]])\n",
      "Shape: torch.Size([1, 7])\n",
      "attention_mask:\n",
      "tensor([[1, 1, 1, 1, 1, 1, 1]])\n",
      "Shape: torch.Size([1, 7])\n",
      "\n",
      "=== Raw Model Output ===\n",
      "Logits:\n",
      "tensor([[-1.0856,  1.6938]])\n",
      "Shape: torch.Size([1, 2])\n",
      "\n",
      "=== Probabilities Tensor ===\n",
      "tensor([[0.0584, 0.9416]])\n",
      "Shape: torch.Size([1, 2])\n",
      "\n",
      "=== Final Prediction ===\n",
      "Prediction Index: 1\n",
      "Confidence Score: 0.9416\n",
      "\n",
      "Final Result:\n",
      "Prediction: Positive\n",
      "Confidence: 94.16%\n",
      "\n",
      "==================================================\n",
      "Input Text: This is great.\n",
      "\n",
      "=== Tokenized Inputs ===\n",
      "input_ids:\n",
      "tensor([[ 101, 2023, 2003, 2307, 1012,  102]])\n",
      "Shape: torch.Size([1, 6])\n",
      "token_type_ids:\n",
      "tensor([[0, 0, 0, 0, 0, 0]])\n",
      "Shape: torch.Size([1, 6])\n",
      "attention_mask:\n",
      "tensor([[1, 1, 1, 1, 1, 1]])\n",
      "Shape: torch.Size([1, 6])\n",
      "\n",
      "=== Raw Model Output ===\n",
      "Logits:\n",
      "tensor([[-1.5276,  1.9867]])\n",
      "Shape: torch.Size([1, 2])\n",
      "\n",
      "=== Probabilities Tensor ===\n",
      "tensor([[0.0289, 0.9711]])\n",
      "Shape: torch.Size([1, 2])\n",
      "\n",
      "=== Final Prediction ===\n",
      "Prediction Index: 1\n",
      "Confidence Score: 0.9711\n",
      "\n",
      "Final Result:\n",
      "Prediction: Positive\n",
      "Confidence: 97.11%\n",
      "\n",
      "==================================================\n",
      "Input Text: Great movie!\n",
      "\n",
      "=== Tokenized Inputs ===\n",
      "input_ids:\n",
      "tensor([[ 101, 2307, 3185,  999,  102]])\n",
      "Shape: torch.Size([1, 5])\n",
      "token_type_ids:\n",
      "tensor([[0, 0, 0, 0, 0]])\n",
      "Shape: torch.Size([1, 5])\n",
      "attention_mask:\n",
      "tensor([[1, 1, 1, 1, 1]])\n",
      "Shape: torch.Size([1, 5])\n",
      "\n",
      "=== Raw Model Output ===\n",
      "Logits:\n",
      "tensor([[-1.4983,  1.9469]])\n",
      "Shape: torch.Size([1, 2])\n",
      "\n",
      "=== Probabilities Tensor ===\n",
      "tensor([[0.0309, 0.9691]])\n",
      "Shape: torch.Size([1, 2])\n",
      "\n",
      "=== Final Prediction ===\n",
      "Prediction Index: 1\n",
      "Confidence Score: 0.9691\n",
      "\n",
      "Final Result:\n",
      "Prediction: Positive\n",
      "Confidence: 96.91%\n",
      "\n",
      "==================================================\n",
      "Input Text: Tthats great\n",
      "\n",
      "=== Tokenized Inputs ===\n",
      "input_ids:\n",
      "tensor([[  101, 23746, 12707,  2015,  2307,   102]])\n",
      "Shape: torch.Size([1, 6])\n",
      "token_type_ids:\n",
      "tensor([[0, 0, 0, 0, 0, 0]])\n",
      "Shape: torch.Size([1, 6])\n",
      "attention_mask:\n",
      "tensor([[1, 1, 1, 1, 1, 1]])\n",
      "Shape: torch.Size([1, 6])\n",
      "\n",
      "=== Raw Model Output ===\n",
      "Logits:\n",
      "tensor([[-0.8282,  1.5088]])\n",
      "Shape: torch.Size([1, 2])\n",
      "\n",
      "=== Probabilities Tensor ===\n",
      "tensor([[0.0881, 0.9119]])\n",
      "Shape: torch.Size([1, 2])\n",
      "\n",
      "=== Final Prediction ===\n",
      "Prediction Index: 1\n",
      "Confidence Score: 0.9119\n",
      "\n",
      "Final Result:\n",
      "Prediction: Positive\n",
      "Confidence: 91.19%\n",
      "\n",
      "==================================================\n",
      "Input Text: This was terrible.\n",
      "\n",
      "=== Tokenized Inputs ===\n",
      "input_ids:\n",
      "tensor([[ 101, 2023, 2001, 6659, 1012,  102]])\n",
      "Shape: torch.Size([1, 6])\n",
      "token_type_ids:\n",
      "tensor([[0, 0, 0, 0, 0, 0]])\n",
      "Shape: torch.Size([1, 6])\n",
      "attention_mask:\n",
      "tensor([[1, 1, 1, 1, 1, 1]])\n",
      "Shape: torch.Size([1, 6])\n",
      "\n",
      "=== Raw Model Output ===\n",
      "Logits:\n",
      "tensor([[ 1.5150, -1.4191]])\n",
      "Shape: torch.Size([1, 2])\n",
      "\n",
      "=== Probabilities Tensor ===\n",
      "tensor([[0.9495, 0.0505]])\n",
      "Shape: torch.Size([1, 2])\n",
      "\n",
      "=== Final Prediction ===\n",
      "Prediction Index: 0\n",
      "Confidence Score: 0.9495\n",
      "\n",
      "Final Result:\n",
      "Prediction: Negative\n",
      "Confidence: 94.95%\n",
      "\n",
      "==================================================\n",
      "Input Text: Bad movie!\n",
      "\n",
      "=== Tokenized Inputs ===\n",
      "input_ids:\n",
      "tensor([[ 101, 2919, 3185,  999,  102]])\n",
      "Shape: torch.Size([1, 5])\n",
      "token_type_ids:\n",
      "tensor([[0, 0, 0, 0, 0]])\n",
      "Shape: torch.Size([1, 5])\n",
      "attention_mask:\n",
      "tensor([[1, 1, 1, 1, 1]])\n",
      "Shape: torch.Size([1, 5])\n",
      "\n",
      "=== Raw Model Output ===\n",
      "Logits:\n",
      "tensor([[ 1.2729, -1.3381]])\n",
      "Shape: torch.Size([1, 2])\n",
      "\n",
      "=== Probabilities Tensor ===\n",
      "tensor([[0.9316, 0.0684]])\n",
      "Shape: torch.Size([1, 2])\n",
      "\n",
      "=== Final Prediction ===\n",
      "Prediction Index: 0\n",
      "Confidence Score: 0.9316\n",
      "\n",
      "Final Result:\n",
      "Prediction: Negative\n",
      "Confidence: 93.16%\n"
     ]
    }
   ],
   "source": [
    "from transformers import AutoModelForSequenceClassification, AutoTokenizer\n",
    "import torch\n",
    "\n",
    "def predict_sentiment(text: str) -> tuple[str, float]:\n",
    "    \"\"\"\n",
    "    Predict sentiment for given text using the saved model with debug output.\n",
    "    \n",
    "    Args:\n",
    "        text (str): Input text for sentiment analysis\n",
    "        \n",
    "    Returns:\n",
    "        tuple[str, float]: (prediction label, confidence score)\n",
    "    \"\"\"\n",
    "    try:\n",
    "        # Load model and tokenizer from saved paths\n",
    "        model = AutoModelForSequenceClassification.from_pretrained(\"./final_model\")\n",
    "        tokenizer = AutoTokenizer.from_pretrained(\"./final_tokenizer\")\n",
    "        \n",
    "        # Prepare model for inference\n",
    "        model.eval()\n",
    "        \n",
    "        # Tokenize input and print debug info\n",
    "        inputs = tokenizer(\n",
    "            text,\n",
    "            truncation=True,\n",
    "            padding=True,\n",
    "            max_length=512,\n",
    "            return_tensors=\"pt\"\n",
    "        )\n",
    "        \n",
    "        print(\"\\n=== Tokenized Inputs ===\")\n",
    "        for key, value in inputs.items():\n",
    "            print(f\"{key}:\")\n",
    "            print(value)\n",
    "            print(f\"Shape: {value.shape}\")\n",
    "        \n",
    "        # Make prediction\n",
    "        with torch.no_grad():\n",
    "            outputs = model(**inputs)\n",
    "            \n",
    "            print(\"\\n=== Raw Model Output ===\")\n",
    "            print(\"Logits:\")\n",
    "            print(outputs.logits)\n",
    "            print(f\"Shape: {outputs.logits.shape}\")\n",
    "            \n",
    "            probabilities = torch.softmax(outputs.logits, dim=-1)\n",
    "            print(\"\\n=== Probabilities Tensor ===\")\n",
    "            print(probabilities)\n",
    "            print(f\"Shape: {probabilities.shape}\")\n",
    "            \n",
    "            prediction = torch.argmax(outputs.logits, dim=-1).item()\n",
    "            confidence = probabilities[0][prediction].item()\n",
    "            \n",
    "            print(\"\\n=== Final Prediction ===\")\n",
    "            print(f\"Prediction Index: {prediction}\")\n",
    "            print(f\"Confidence Score: {confidence:.4f}\")\n",
    "        \n",
    "        # Convert prediction to label\n",
    "        label = \"Positive\" if prediction == 1 else \"Negative\"\n",
    "        \n",
    "        return label, confidence\n",
    "        \n",
    "    except Exception as e:\n",
    "        print(f\"Error during prediction: {str(e)}\")\n",
    "        return \"Error\", 0.0\n",
    "\n",
    "test_cases = [\n",
    "    \"That's awesome!\",\n",
    "    \"This is great.\",\n",
    "    \"Great movie!\",\n",
    "    \"Tthats great\",  # original\n",
    "    \"This was terrible.\",\n",
    "    \"Bad movie!\"\n",
    "]\n",
    "\n",
    "for text in test_cases:\n",
    "    print(\"\\n\" + \"=\"*50)\n",
    "    print(f\"Input Text: {text}\")\n",
    "    label, confidence = predict_sentiment(text)\n",
    "    print(f\"\\nFinal Result:\")\n",
    "    print(f\"Prediction: {label}\")\n",
    "    print(f\"Confidence: {confidence:.2%}\")"
   ]
  },
  {
   "cell_type": "code",
   "execution_count": null,
   "metadata": {},
   "outputs": [],
   "source": []
  },
  {
   "cell_type": "markdown",
   "metadata": {},
   "source": [
    "# Notebook Ends here, check below for other experimentation and mlflow related stuff done for fun :)\n"
   ]
  },
  {
   "cell_type": "markdown",
   "metadata": {},
   "source": [
    "# MLFlow Runs and Registering Model\n",
    "\n",
    "Can be done using UI as Well\n",
    "\n"
   ]
  },
  {
   "cell_type": "code",
   "execution_count": 37,
   "metadata": {},
   "outputs": [
    {
     "name": "stdout",
     "output_type": "stream",
     "text": [
      "Model path: mlruns/797932937620554129/0d3595c410494ce3bdc68912ef5a6318/artifacts/model\n"
     ]
    }
   ],
   "source": [
    "import mlflow\n",
    "\n",
    "# Get the latest run\n",
    "runs = mlflow.search_runs(order_by=[\"start_time desc\"])\n",
    "run_id = runs.iloc[0].run_id  # Get the latest run ID\n",
    "experiment_id = runs.iloc[0].experiment_id\n",
    "\n",
    "model_path = f\"mlruns/{experiment_id}/{run_id}/artifacts/model\"\n",
    "print(f\"Model path: {model_path}\")\n"
   ]
  },
  {
   "cell_type": "code",
   "execution_count": 38,
   "metadata": {},
   "outputs": [
    {
     "name": "stdout",
     "output_type": "stream",
     "text": [
      "config.json  mlruns/797932937620554129/0d3595c410494ce3bdc68912ef5a6318/artifacts/model\n",
      "model.safetensors  mlruns/797932937620554129/0d3595c410494ce3bdc68912ef5a6318/artifacts/model\n",
      "training_args.bin  mlruns/797932937620554129/0d3595c410494ce3bdc68912ef5a6318/artifacts/model\n",
      "Model files copied to final_model.\n"
     ]
    }
   ],
   "source": [
    "import shutil\n",
    "import os\n",
    "\n",
    "# final_model_dir = \"final_model\"\n",
    "# os.makedirs(final_model_dir, exist_ok=True)\n",
    "\n",
    "# Define MLflow model directory\n",
    "mlflow_model_dir = model_path  # From step 2\n",
    "\n",
    "# Copy required files\n",
    "required_files = [\"config.json\", \"model.safetensors\", \"training_args.bin\"]\n",
    "for file in required_files:\n",
    "    src = os.path.join(mlflow_model_dir, file)\n",
    "    # dst = os.path.join(final_model_dir, file)\n",
    "    \n",
    "    print(f\"{file}  {mlflow_model_dir}\")\n",
    "\n",
    "print(\"Model files copied to final_model.\")\n"
   ]
  },
  {
   "cell_type": "code",
   "execution_count": null,
   "metadata": {},
   "outputs": [],
   "source": []
  },
  {
   "cell_type": "code",
   "execution_count": 36,
   "metadata": {},
   "outputs": [
    {
     "name": "stdout",
     "output_type": "stream",
     "text": [
      "Text: I've been a fan of Jim Henson and his characters since the very beginning. The most beguiling thing about them was the love and innocence and camaraderie shown. Kermit was a role model of deep thinking and problem solving. A spiritual character, yet sweetly and believably so. All the other characters were slightly eccentric but it demonstrated how different kinds of beings can co-exist in a caring manner together, respecting each other's difference.<br /><br />Following movies have somewhat kept the same vibe. Yet this \"It's a Very Merry Muppet Christmas Movie\" would have Jim Henson spinning in his grave. These characters have been completely re-written to be horny, nasty, selfish, and cheesy.<br /><br />The cast goes on to portray God as an uncaring corporate head, with a mean streak. Angels as spineless, non-spiritual corporate staff, and the movie was so bad I had to stop watching. I had bought it for my great-nephew but fortunately I preview anything I give a child.<br /><br />This movie deserved the trash bin instead and has no socially redeeming content or charm.<br /><br />Shame, shame on the people who re-wrote the characters and departed from Jim Henson's original heart-centered, socially conscious version. It does a terrible disservice to a great hearted man who is no longer around to defend his creations.\n",
      "True Label: 0, Predicted: 1\n",
      "Logits: [-2.183063   1.4993055]\n",
      "Confidence Gap: 3.682368516921997\n"
     ]
    }
   ],
   "source": [
    "# Calculate confidence gap\n",
    "confidence_gaps = np.abs(logits[:, 0] - logits[:, 1])\n",
    "\n",
    "# Identify incorrect predictions\n",
    "incorrect_indices = [i for i, (true, pred) in enumerate(zip(labels, predicted_labels)) if true != pred]\n",
    "\n",
    "# Filter for incorrect predictions and their confidence gaps\n",
    "incorrect_gaps = [(idx, confidence_gaps[idx]) for idx in incorrect_indices]\n",
    "\n",
    "# Find the index of the incorrect prediction with the largest confidence gap\n",
    "if incorrect_gaps:\n",
    "    worst_idx, max_gap = max(incorrect_gaps, key=lambda x: x[1])\n",
    "\n",
    "    # Print details of the worst misclassification\n",
    "    worst_idx = int(worst_idx)  # Ensure compatibility with HuggingFace datasets\n",
    "    print(f\"Text: {test_data[worst_idx]['text']}\")\n",
    "    print(f\"True Label: {labels[worst_idx]}, Predicted: {predicted_labels[worst_idx]}\")\n",
    "    print(f\"Logits: {logits[worst_idx]}\")\n",
    "    print(f\"Confidence Gap: {max_gap}\")\n",
    "else:\n",
    "    print(\"No incorrect predictions found.\")\n"
   ]
  },
  {
   "cell_type": "markdown",
   "metadata": {},
   "source": [
    "# Save the Model (not required- saved using MLFLOW)"
   ]
  },
  {
   "cell_type": "markdown",
   "metadata": {},
   "source": [
    " Use Hugging Face's built-in save_pretrained() method to save the model, tokenizer, and configuration files.\n",
    "\n",
    "\n",
    " This will save:\n",
    "\n",
    "* The model weights (pytorch_model.bin).\n",
    "* The model configuration (config.json).\n",
    "* The tokenizer files (vocab.txt, tokenizer.json, etc.)."
   ]
  },
  {
   "cell_type": "code",
   "execution_count": null,
   "metadata": {},
   "outputs": [],
   "source": [
    "# import mlflow\n",
    "\n",
    "# # Print the tracking URI\n",
    "# print(f\"Tracking URI: {mlflow.get_tracking_uri()}\")\n",
    "\n",
    "# # Print the artifact URI\n",
    "# with mlflow.start_run() as run:\n",
    "#     print(f\"Artifact URI: {mlflow.get_artifact_uri()}\")"
   ]
  },
  {
   "cell_type": "markdown",
   "metadata": {},
   "source": [
    "Saving the Best Checkpoint- If you've enabled load_best_model_at_end=True in your training arguments, you can save the best checkpoint:"
   ]
  },
  {
   "cell_type": "code",
   "execution_count": 34,
   "metadata": {},
   "outputs": [],
   "source": [
    "# best_checkpoint_dir = trainer.state.best_model_checkpoint\n",
    "# trainer.save_model(f\"{best_checkpoint_dir}/final_best_model\")\n"
   ]
  },
  {
   "cell_type": "code",
   "execution_count": null,
   "metadata": {},
   "outputs": [],
   "source": []
  },
  {
   "cell_type": "code",
   "execution_count": null,
   "metadata": {},
   "outputs": [],
   "source": [
    "mlflow.search_runs()"
   ]
  },
  {
   "cell_type": "code",
   "execution_count": null,
   "metadata": {},
   "outputs": [],
   "source": []
  },
  {
   "cell_type": "code",
   "execution_count": null,
   "metadata": {},
   "outputs": [],
   "source": []
  },
  {
   "cell_type": "markdown",
   "metadata": {},
   "source": [
    "# Checking the loading of model for API Use"
   ]
  },
  {
   "cell_type": "markdown",
   "metadata": {},
   "source": [
    "## Generalization for Inference:\n",
    "\n",
    "AutoModelForSequenceClassification is a generic model class that automatically detects and loads a model architecture (e.g., BERT, RoBERTa, etc.) from a saved checkpoint, assuming it was fine-tuned for classification tasks.\n",
    "This ensures that the code for inference is model-agnostic, meaning you can easily switch to another pre-trained or fine-tuned model without changing the loading code."
   ]
  },
  {
   "cell_type": "code",
   "execution_count": 70,
   "metadata": {},
   "outputs": [
    {
     "name": "stdout",
     "output_type": "stream",
     "text": [
      "Text: BAD!\n",
      "Prediction: Negative\n",
      "Confidence: 61.34%\n"
     ]
    }
   ],
   "source": [
    "from transformers import AutoModelForSequenceClassification, AutoTokenizer\n",
    "import torch\n",
    "import os\n",
    "\n",
    "# Define paths\n",
    "model_path = \"./final_model\"\n",
    "tokenizer_path = \"./final_tokenizer\"\n",
    "\n",
    "try:\n",
    "    # Load model and tokenizer from local paths\n",
    "    model = AutoModelForSequenceClassification.from_pretrained(model_path)\n",
    "    tokenizer = AutoTokenizer.from_pretrained(tokenizer_path)\n",
    "    \n",
    "    # Set model to evaluation mode\n",
    "    model.eval()\n",
    "    \n",
    "    # Example usage\n",
    "    text = \"BAD!\"\n",
    "    \n",
    "    # Tokenize input\n",
    "    inputs = tokenizer(text, return_tensors=\"pt\", truncation=True, max_length=512)\n",
    "    \n",
    "    # Make prediction\n",
    "    with torch.no_grad():\n",
    "        outputs = model(**inputs)\n",
    "        predictions = torch.softmax(outputs.logits, dim=-1)\n",
    "        predicted_class = outputs.logits.argmax(dim=-1).item()\n",
    "    \n",
    "    # Convert prediction to label\n",
    "    label = \"Positive\" if predicted_class == 1 else \"Negative\"\n",
    "    confidence = predictions[0][predicted_class].item()\n",
    "    \n",
    "    print(f\"Text: {text}\")\n",
    "    print(f\"Prediction: {label}\")\n",
    "    print(f\"Confidence: {confidence:.2%}\")\n",
    "\n",
    "except Exception as e:\n",
    "    print(f\"Error loading model: {str(e)}\")\n",
    "    print(f\"Current working directory: {os.getcwd()}\")\n",
    "    print(f\"Model path exists: {os.path.exists(model_path)}\")\n",
    "    print(f\"Tokenizer path exists: {os.path.exists(tokenizer_path)}\")"
   ]
  },
  {
   "cell_type": "markdown",
   "metadata": {},
   "source": [
    "## Exporting to TorchScript (Optional)\n",
    "For certain APIs or deployment environments, exporting the model to TorchScript can improve performance.\n",
    "\n",
    "\n",
    "Compress Models: Use tools like ONNX or TorchScript to reduce model size and improve inference speed."
   ]
  },
  {
   "cell_type": "code",
   "execution_count": null,
   "metadata": {},
   "outputs": [],
   "source": [
    "# import torch\n",
    "\n",
    "# # Export to TorchScript\n",
    "# scripted_model = torch.jit.script(model)\n",
    "# scripted_model.save(\"./final_model/model.pt\")\n"
   ]
  },
  {
   "cell_type": "markdown",
   "metadata": {},
   "source": [
    "# Integrating Saved model with API"
   ]
  },
  {
   "cell_type": "code",
   "execution_count": null,
   "metadata": {},
   "outputs": [],
   "source": [
    "from fastapi import FastAPI\n",
    "\n",
    "app = FastAPI()\n",
    "\n",
    "@app.get(\"/\")\n",
    "def read_root():\n",
    "    return {\"message\": \"Hello, World!\"}\n"
   ]
  },
  {
   "cell_type": "code",
   "execution_count": null,
   "metadata": {},
   "outputs": [],
   "source": [
    "from fastapi import FastAPI\n",
    "from transformers import AutoModelForSequenceClassification, AutoTokenizer\n",
    "import torch\n",
    "\n",
    "app = FastAPI()\n",
    "\n",
    "# Load model and tokenizer\n",
    "model = AutoModelForSequenceClassification.from_pretrained(\"./final_model\")\n",
    "tokenizer = AutoTokenizer.from_pretrained(\"./final_model\")\n",
    "\n",
    "@app.post(\"/predict/\")\n",
    "def predict(text: str):\n",
    "    inputs = tokenizer(text, return_tensors=\"pt\")\n",
    "    outputs = model(**inputs)\n",
    "    predicted_class = torch.argmax(outputs.logits, dim=-1).item()\n",
    "    return {\"text\": text, \"predicted_class\": predicted_class}\n"
   ]
  },
  {
   "cell_type": "code",
   "execution_count": null,
   "metadata": {},
   "outputs": [],
   "source": []
  },
  {
   "cell_type": "markdown",
   "metadata": {},
   "source": []
  },
  {
   "cell_type": "markdown",
   "metadata": {},
   "source": [
    "# Modular API Creation (this part to be done in app.py in the notebook location)"
   ]
  },
  {
   "cell_type": "markdown",
   "metadata": {},
   "source": [
    "We'll use FastAPI to create a lightweight API that accepts input from the UI and returns predictions from your model. FastAPI is Python-based, easy to set up, and integrates well with models like yours.\n",
    "\n"
   ]
  },
  {
   "cell_type": "code",
   "execution_count": null,
   "metadata": {},
   "outputs": [],
   "source": [
    "from fastapi import FastAPI\n",
    "from pydantic import BaseModel\n",
    "import torch\n",
    "from transformers import AutoTokenizer\n",
    "import mlflow.pyfunc\n",
    "\n",
    "# Set MLflow tracking URI to the local mlruns directory\n",
    "mlflow.set_tracking_uri(\"file:///C:/Users/s0n0611/Documents/Data Science Work/Github/the-incredible-pytorch/mlruns\")\n",
    "\n",
    "# Update this line with the correct model URI\n",
    "logged_model = \"models:/SentimentAnalysisModel/1\"  # Replace with your model's name and version\n",
    "\n",
    "# Load the model as a PyFunc model\n",
    "model = mlflow.pyfunc.load_model(logged_model)\n",
    "\n",
    "# Load tokenizer separately if needed (assuming tokenizer is stored locally)\n",
    "tokenizer = AutoTokenizer.from_pretrained(\"./final_model\")  # Adjust if tokenizer is saved differently\n",
    "\n",
    "# FastAPI application\n",
    "app = FastAPI()\n",
    "\n",
    "class TextInput(BaseModel):\n",
    "    text: str\n",
    "\n",
    "@app.post(\"/predict\")\n",
    "async def predict(input_data: TextInput):\n",
    "    # Tokenize input\n",
    "    inputs = tokenizer(input_data.text, return_tensors=\"pt\", truncation=True, padding=True)\n",
    "    \n",
    "    # Model prediction\n",
    "    logits = model.predict(inputs)  # Adjust if the model is wrapped differently in MLflow\n",
    "    predicted_class = torch.argmax(torch.tensor(logits), dim=-1).item()\n",
    "\n",
    "    # Convert numeric label to text\n",
    "    sentiment = \"Positive\" if predicted_class == 1 else \"Negative\"\n",
    "\n",
    "    return {\"prediction\": predicted_class, \"sentiment\": sentiment}"
   ]
  },
  {
   "cell_type": "code",
   "execution_count": null,
   "metadata": {},
   "outputs": [],
   "source": []
  },
  {
   "cell_type": "markdown",
   "metadata": {},
   "source": []
  },
  {
   "cell_type": "markdown",
   "metadata": {},
   "source": []
  },
  {
   "cell_type": "markdown",
   "metadata": {},
   "source": []
  },
  {
   "cell_type": "markdown",
   "metadata": {},
   "source": []
  },
  {
   "cell_type": "markdown",
   "metadata": {},
   "source": [
    "# Perform Predictions\n",
    "To make predictions on new data, tokenize the input and use the trained model:\n",
    "\n"
   ]
  },
  {
   "cell_type": "code",
   "execution_count": null,
   "metadata": {},
   "outputs": [],
   "source": [
    "inputs = tokenizer(\n",
    "    [\"Example sentence for classification.\"],\n",
    "    padding=\"max_length\",\n",
    "    truncation=True,\n",
    "    return_tensors=\"pt\"\n",
    ")\n",
    "\n",
    "outputs = model(**inputs)\n",
    "logits = outputs.logits\n",
    "predictions = torch.argmax(logits, dim=-1)\n",
    "print(predictions)  # Class label\n"
   ]
  },
  {
   "cell_type": "code",
   "execution_count": null,
   "metadata": {},
   "outputs": [],
   "source": []
  },
  {
   "cell_type": "code",
   "execution_count": null,
   "metadata": {},
   "outputs": [],
   "source": []
  }
 ],
 "metadata": {
  "kernelspec": {
   "display_name": "genai_env_pytorch",
   "language": "python",
   "name": "python3"
  },
  "language_info": {
   "codemirror_mode": {
    "name": "ipython",
    "version": 3
   },
   "file_extension": ".py",
   "mimetype": "text/x-python",
   "name": "python",
   "nbconvert_exporter": "python",
   "pygments_lexer": "ipython3",
   "version": "3.9.21"
  }
 },
 "nbformat": 4,
 "nbformat_minor": 2
}
