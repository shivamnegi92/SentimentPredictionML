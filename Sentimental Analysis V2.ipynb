{
 "cells": [
  {
   "cell_type": "markdown",
   "metadata": {},
   "source": [
    "# IMDB Review Classification Model - Using Hugging Face BERT , MLFLOW, WANDB, FastAPI\n",
    "In the IMDB dataset from Hugging Face's `datasets` library:\n",
    "\n",
    "- The **`label` column** represents the sentiment of the review:\n",
    "  - `0`: **Negative review** (Bad review)\n",
    "  - `1`: **Positive review** (Good review)\n",
    "\n",
    "\n",
    "### Example:\n",
    "- **Review Text**: *\"The movie was amazing! The performances were top-notch.\"*\n",
    "  - **Label**: `1` (Positive review)\n",
    "\n",
    "- **Review Text**: *\"This was a waste of time. The plot was terrible and the acting worse.\"*\n",
    "  - **Label**: `0` (Negative review)\n",
    "\n",
    "\n",
    "# Sentiment Analysis Project\n",
    "\n",
    "## Overview\n",
    "This project leverages **BERT**, **Hugging Face's Trainer**, and modern MLOps tools to build, train, evaluate, and deploy a sentiment analysis model.\n",
    "\n",
    "---\n",
    "\n",
    "### **Technologies Used**\n",
    "\n",
    "1. **BERT (Bidirectional Encoder Representations from Transformers)**  \n",
    "   - Pre-trained transformer model for text classification.  \n",
    "   - Fine-tuned for binary sentiment analysis (Positive/Negative).\n",
    "\n",
    "2. **Hugging Face Trainer**  \n",
    "   - Simplified training and evaluation pipeline.  \n",
    "   - Handles datasets, metrics, and model saving efficiently.\n",
    "\n",
    "3. **W&B (Weights & Biases)**  \n",
    "   - Tracks experiments in real-time with advanced visualizations.  \n",
    "   - Used for hyperparameter optimization and team collaboration.\n",
    "\n",
    "4. **MLflow**  \n",
    "   - Manages experiment tracking, model registry, and deployment lifecycle.  \n",
    "   - Tracks metrics, parameters, and artifacts for reproducibility.\n",
    "\n",
    "5. **FastAPI**  \n",
    "   - Provides an API endpoint for real-time sentiment predictions.  \n",
    "   - Integrates the fine-tuned BERT model for serving predictions.\n",
    "\n",
    "6. **Streamlit**  \n",
    "   - Interactive web interface for testing predictions.  \n",
    "   - Allows users to input text and view classification results.\n",
    "\n",
    "---\n",
    "\n",
    "### **Workflow**\n",
    "\n",
    "1. **Model Training**  \n",
    "   - Fine-tune BERT using Hugging Face Trainer.  \n",
    "   - Log metrics and parameters to W&B and MLflow.\n",
    "\n",
    "2. **Experiment Tracking**  \n",
    "   - W&B for real-time visualization and hyperparameter sweeps.  \n",
    "   - MLflow for model lifecycle management.\n",
    "\n",
    "3. **Deployment**  \n",
    "   - Serve the model via FastAPI for real-time inference.  \n",
    "   - Build a user-friendly interface with Streamlit.\n",
    "\n",
    "4. **Monitoring & Iteration**  \n",
    "   - Continuously improve with insights from W&B and MLflow dashboards.  \n",
    "\n",
    "\n",
    "\n",
    "\n",
    "Here’s a concise summary of the steps involved in building and evaluating a sentiment classification model using BERT and the Hugging Face `Trainer` library:\n",
    "\n",
    "---\n",
    "\n",
    "### **1. Dataset Loading and Preprocessing**\n",
    "- **Dataset**: Loaded the **IMDB** dataset using Hugging Face's `datasets` library.\n",
    "- **Subset Selection**: Limited to 2,000 samples each for faster experimentation.\n",
    "- **Splitting**: Split the dataset into training (90%), validation (10%), and test datasets.\n",
    "\n",
    "---\n",
    "\n",
    "### **2. Tokenization**\n",
    "- Used a **pre-trained BERT tokenizer** (`bert-base-uncased`) to tokenize the text data.\n",
    "  - Added padding and truncation to ensure uniform input length.\n",
    "  - Chose a **maximum length** (`max_length`) based on the dataset distribution and model constraints.\n",
    "\n",
    "---\n",
    "\n",
    "### **3. Model Setup**\n",
    "- Initialized a pre-trained **BERT model for sequence classification** (`BertForSequenceClassification`).\n",
    "  - The model was fine-tuned for binary classification (positive/negative sentiment).\n",
    "  - Specified `num_labels=2` for binary classification.\n",
    "\n",
    "---\n",
    "\n",
    "### **4. Training Configuration**\n",
    "- Defined the **TrainingArguments**:\n",
    "  - Batch size, learning rate, number of epochs, and logging configuration.\n",
    "  - Used `AdamW` optimizer and a linear learning rate scheduler.\n",
    "- Utilized the Hugging Face **Trainer**:\n",
    "  - Handled model training, validation, and evaluation loops efficiently.\n",
    "  - Passed tokenized datasets (`train_data_tokenized`, `val_data_tokenized`) and model as inputs.\n",
    "\n",
    "---\n",
    "\n",
    "### **5. Model Training**\n",
    "- Fine-tuned the BERT model using the `trainer.train()` method.\n",
    "- Regularly monitored training and validation performance.\n",
    "\n",
    "---\n",
    "\n",
    "### **6. Evaluation**\n",
    "- Used the test set to evaluate the model.\n",
    "- Calculated key metrics:\n",
    "  - **Accuracy**, **Precision**, **Recall**, **F1 Score** using Hugging Face's `compute_metrics` function.\n",
    "  - Plotted a **confusion matrix** (True Positives, True Negatives, False Positives, False Negatives) for raw counts.\n",
    "\n",
    "---\n",
    "\n",
    "### **7. Error Analysis**\n",
    "- **Logits Analysis**:\n",
    "  - Calculated the **confidence gap** between logits for each prediction.\n",
    "  - Identified and analyzed cases with the **largest confidence gap** (least confident predictions).\n",
    "- **Misclassification Analysis**:\n",
    "  - Highlighted samples with the worst classification performance (e.g., high confidence but incorrect prediction).\n",
    "  - Analyzed the actual text and labels to identify patterns.\n",
    "\n",
    "---\n",
    "\n",
    "### **8. Recommendations for Improvement**\n",
    "- Addressed overconfidence by:\n",
    "  - Tuning thresholds for classification.\n",
    "  - Investigating model predictions and edge cases.\n",
    "- Suggested ways to visualize and interpret errors for actionable insights.\n",
    "\n",
    "---\n",
    "\n",
    "### **Visualizations**\n",
    "- Plotted metrics such as **Precision**, **Recall**, and **F1 Score**.\n",
    "- Displayed a **confusion matrix** as a grid with raw counts.\n",
    "- Highlighted least confid\n",
    "\n",
    "\n",
    "\n",
    "### **Key Differences: Hugging Face `Trainer` vs. PyTorch Custom Workflow**\n",
    "\n",
    "Using the Hugging Face `Trainer` library and a custom PyTorch-based implementation represent two distinct approaches to building machine learning workflows. Here's how they differ:\n",
    "\n",
    "---\n",
    "\n",
    "### **1. Abstraction Level**\n",
    "\n",
    "#### **Hugging Face `Trainer`**:\n",
    "- **High-level abstraction**: Designed for rapid experimentation and reduces boilerplate code.\n",
    "- Automatically handles common tasks:\n",
    "  - Tokenization, batching, optimizer, scheduler setup.\n",
    "  - Model training, validation, and evaluation loops.\n",
    "- Ideal for researchers or practitioners who prioritize speed and simplicity.\n",
    "\n",
    "#### **PyTorch Custom Workflow**:\n",
    "- **Low-level control**: Requires manually defining every component.\n",
    "- Explicitly handles:\n",
    "  - **Dataloader**: Loading and batching data.\n",
    "  - **NN Module**: Custom model architecture (e.g., layers).\n",
    "  - Training loop: Forward pass, backward pass, and gradient updates.\n",
    "- Suitable for those needing flexibility or creating custom architectures.\n",
    "\n",
    "---\n",
    "\n",
    "### **2. Data Handling**\n",
    "\n",
    "#### **Hugging Face `Trainer`**:\n",
    "- Tokenizes and processes datasets using `Datasets` and `DataCollator` utilities.\n",
    "- Automatically integrates with `Dataset` objects for batching and data preparation.\n",
    "- Encodes inputs (e.g., `input_ids`, `attention_mask`) behind the scenes.\n",
    "\n",
    "#### **PyTorch**:\n",
    "- Requires manually defining a **Dataset class** to prepare raw data.\n",
    "- Uses **DataLoader** to handle batching and shuffling.\n",
    "- Explicitly processes inputs and outputs before passing them to the model.\n",
    "\n",
    "---\n",
    "\n",
    "### **3. Model Definition**\n",
    "\n",
    "#### **Hugging Face `Trainer`**:\n",
    "- Uses pre-defined **transformer models** (e.g., `BertForSequenceClassification`) from the `transformers` library.\n",
    "- Model selection involves minimal setup—just specify `num_labels` for the classification task.\n",
    "- Adapts pre-trained transformer layers for downstream tasks with minimal modification.\n",
    "\n",
    "#### **PyTorch**:\n",
    "- Requires implementing a **custom `nn.Module`** class.\n",
    "- Explicitly defines model layers (e.g., `nn.Linear`, `nn.Embedding`) and forward passes.\n",
    "- Greater flexibility for designing new architectures or modifying base models.\n",
    "\n",
    "---\n",
    "\n",
    "### **4. Training Loop**\n",
    "\n",
    "#### **Hugging Face `Trainer`**:\n",
    "- Handles the training loop internally:\n",
    "  - Optimizer and scheduler setup (e.g., AdamW, linear decay).\n",
    "  - Automatic batching and gradient computation.\n",
    "  - Built-in logging, saving checkpoints, and evaluating during training.\n",
    "- Enables quick fine-tuning without writing custom loops.\n",
    "\n",
    "#### **PyTorch**:\n",
    "- Requires writing custom loops for:\n",
    "  - Forward passes (`model(input_ids)`), loss computation, and backward passes.\n",
    "  - Manually updating optimizer and scheduler states.\n",
    "  - Handling batching, logging, and model checkpointing.\n",
    "- Provides complete flexibility to modify training logic.\n",
    "\n",
    "---\n",
    "\n",
    "### **5. Evaluation and Metrics**\n",
    "\n",
    "#### **Hugging Face `Trainer`**:\n",
    "- Easily integrates evaluation metrics with a `compute_metrics` function.\n",
    "- Automatically logs and tracks metrics such as accuracy, precision, recall, and F1 score.\n",
    "- Supports integrations with tracking tools like **WandB** or **TensorBoard**.\n",
    "\n",
    "#### **PyTorch**:\n",
    "- Requires explicit implementation of evaluation loops and metric calculations.\n",
    "- Metrics need to be computed manually or using libraries like `scikit-learn`.\n",
    "- Logging and tracking must be integrated separately (e.g., TensorBoard, WandB).\n",
    "\n",
    "---\n",
    "\n",
    "### **6. Use Cases**\n",
    "\n",
    "#### **Hugging Face `Trainer`**:\n",
    "- Quick fine-tuning of pre-trained models on standard tasks (e.g., classification, NER, QA).\n",
    "- Suited for researchers and practitioners needing results without delving into low-level code.\n",
    "- Optimized for transfer learning workflows with pre-trained transformer models.\n",
    "\n",
    "#### **PyTorch**:\n",
    "- Ideal for custom models, architectures, or training pipelines.\n",
    "- Essential for research and experimentation involving novel or non-standard tasks.\n",
    "- Preferred in production environments requiring low-level control.\n",
    "\n",
    "---\n",
    "\n",
    "### **7. Customization and Flexibility**\n",
    "\n",
    "#### **Hugging Face `Trainer`**:\n",
    "- Limited flexibility in modifying the training loop and model structure.\n",
    "- Custom logic (e.g., new loss functions) requires subclassing `Trainer`.\n",
    "\n",
    "#### **PyTorch**:\n",
    "- Full control over all components, including:\n",
    "  - Model design, loss functions, optimizers, and schedulers.\n",
    "  - Training loops, batching, and logging.\n",
    "- Better suited for experiments requiring unconventional designs.\n",
    "\n",
    "---\n",
    "\n",
    "### **Summary**\n",
    "\n",
    "| Aspect               | Hugging Face `Trainer`             | PyTorch Custom Workflow            |\n",
    "|----------------------|------------------------------------|-------------------------------------|\n",
    "| **Ease of Use**       | High (Plug-and-Play)              | Moderate (Write Everything)         |\n",
    "| **Control**           | Moderate (Requires Subclassing)   | High (Complete Control)             |\n",
    "| **Use Case**          | Fine-tuning Pre-Trained Models    | Custom Models and Architectures     |\n",
    "| **Data Handling**     | Automated Tokenization/Batching   | Manual Dataset and Dataloader Setup |\n",
    "| **Training Loop**     | Built-In                          | Manual Implementation               |\n",
    "| **Metrics**           | Easy Integration                  | Explicit Implementation             |\n",
    "| **Ideal Audience**    | Applied ML Practitioners          | Researchers and Developers          |\n",
    "\n",
    "For this task, the `Trainer` was chosen for its simplicity and rapid implementation, leveraging pre-trained BERT for sentiment classification without having to manually implement training or evaluation loops.\n",
    "\n",
    "\n",
    "\n",
    "\n",
    "\n",
    "\n",
    "\n",
    "\n",
    "\n",
    "\n",
    "\n",
    "\n",
    "\n",
    "\n",
    "\n",
    "\n",
    "\n"
   ]
  },
  {
   "cell_type": "markdown",
   "metadata": {},
   "source": []
  },
  {
   "cell_type": "markdown",
   "metadata": {},
   "source": [
    "# Imports and Setup"
   ]
  },
  {
   "cell_type": "code",
   "execution_count": 4,
   "metadata": {},
   "outputs": [],
   "source": []
  },
  {
   "cell_type": "code",
   "execution_count": 1,
   "metadata": {},
   "outputs": [],
   "source": [
    "import os\n",
    "os.environ[\"TRANSFORMERS_NO_TF\"] = \"1\"\n"
   ]
  },
  {
   "cell_type": "code",
   "execution_count": 2,
   "metadata": {},
   "outputs": [
    {
     "name": "stderr",
     "output_type": "stream",
     "text": [
      "\n",
      "A module that was compiled using NumPy 1.x cannot be run in\n",
      "NumPy 2.2.2 as it may crash. To support both 1.x and 2.x\n",
      "versions of NumPy, modules must be compiled with NumPy 2.0.\n",
      "Some module may need to rebuild instead e.g. with 'pybind11>=2.12'.\n",
      "\n",
      "If you are a user of the module, the easiest solution will be to\n",
      "downgrade to 'numpy<2' or try to upgrade the affected module.\n",
      "We expect that some modules will need time to support NumPy 2.\n",
      "\n",
      "Traceback (most recent call last):  File \"<frozen runpy>\", line 198, in _run_module_as_main\n",
      "  File \"<frozen runpy>\", line 88, in _run_code\n",
      "  File \"/Users/rashijain/opt/anaconda3/envs/genai_app_env/lib/python3.12/site-packages/ipykernel_launcher.py\", line 18, in <module>\n",
      "    app.launch_new_instance()\n",
      "  File \"/Users/rashijain/opt/anaconda3/envs/genai_app_env/lib/python3.12/site-packages/traitlets/config/application.py\", line 1075, in launch_instance\n",
      "    app.start()\n",
      "  File \"/Users/rashijain/opt/anaconda3/envs/genai_app_env/lib/python3.12/site-packages/ipykernel/kernelapp.py\", line 739, in start\n",
      "    self.io_loop.start()\n",
      "  File \"/Users/rashijain/opt/anaconda3/envs/genai_app_env/lib/python3.12/site-packages/tornado/platform/asyncio.py\", line 205, in start\n",
      "    self.asyncio_loop.run_forever()\n",
      "  File \"/Users/rashijain/opt/anaconda3/envs/genai_app_env/lib/python3.12/asyncio/base_events.py\", line 640, in run_forever\n",
      "    self._run_once()\n",
      "  File \"/Users/rashijain/opt/anaconda3/envs/genai_app_env/lib/python3.12/asyncio/base_events.py\", line 1992, in _run_once\n",
      "    handle._run()\n",
      "  File \"/Users/rashijain/opt/anaconda3/envs/genai_app_env/lib/python3.12/asyncio/events.py\", line 88, in _run\n",
      "    self._context.run(self._callback, *self._args)\n",
      "  File \"/Users/rashijain/opt/anaconda3/envs/genai_app_env/lib/python3.12/site-packages/ipykernel/kernelbase.py\", line 545, in dispatch_queue\n",
      "    await self.process_one()\n",
      "  File \"/Users/rashijain/opt/anaconda3/envs/genai_app_env/lib/python3.12/site-packages/ipykernel/kernelbase.py\", line 534, in process_one\n",
      "    await dispatch(*args)\n",
      "  File \"/Users/rashijain/opt/anaconda3/envs/genai_app_env/lib/python3.12/site-packages/ipykernel/kernelbase.py\", line 437, in dispatch_shell\n",
      "    await result\n",
      "  File \"/Users/rashijain/opt/anaconda3/envs/genai_app_env/lib/python3.12/site-packages/ipykernel/ipkernel.py\", line 362, in execute_request\n",
      "    await super().execute_request(stream, ident, parent)\n",
      "  File \"/Users/rashijain/opt/anaconda3/envs/genai_app_env/lib/python3.12/site-packages/ipykernel/kernelbase.py\", line 778, in execute_request\n",
      "    reply_content = await reply_content\n",
      "  File \"/Users/rashijain/opt/anaconda3/envs/genai_app_env/lib/python3.12/site-packages/ipykernel/ipkernel.py\", line 449, in do_execute\n",
      "    res = shell.run_cell(\n",
      "  File \"/Users/rashijain/opt/anaconda3/envs/genai_app_env/lib/python3.12/site-packages/ipykernel/zmqshell.py\", line 549, in run_cell\n",
      "    return super().run_cell(*args, **kwargs)\n",
      "  File \"/Users/rashijain/opt/anaconda3/envs/genai_app_env/lib/python3.12/site-packages/IPython/core/interactiveshell.py\", line 3075, in run_cell\n",
      "    result = self._run_cell(\n",
      "  File \"/Users/rashijain/opt/anaconda3/envs/genai_app_env/lib/python3.12/site-packages/IPython/core/interactiveshell.py\", line 3130, in _run_cell\n",
      "    result = runner(coro)\n",
      "  File \"/Users/rashijain/opt/anaconda3/envs/genai_app_env/lib/python3.12/site-packages/IPython/core/async_helpers.py\", line 128, in _pseudo_sync_runner\n",
      "    coro.send(None)\n",
      "  File \"/Users/rashijain/opt/anaconda3/envs/genai_app_env/lib/python3.12/site-packages/IPython/core/interactiveshell.py\", line 3334, in run_cell_async\n",
      "    has_raised = await self.run_ast_nodes(code_ast.body, cell_name,\n",
      "  File \"/Users/rashijain/opt/anaconda3/envs/genai_app_env/lib/python3.12/site-packages/IPython/core/interactiveshell.py\", line 3517, in run_ast_nodes\n",
      "    if await self.run_code(code, result, async_=asy):\n",
      "  File \"/Users/rashijain/opt/anaconda3/envs/genai_app_env/lib/python3.12/site-packages/IPython/core/interactiveshell.py\", line 3577, in run_code\n",
      "    exec(code_obj, self.user_global_ns, self.user_ns)\n",
      "  File \"/var/folders/94/qs5nh6q96jx9hflyqtzr04r00000gn/T/ipykernel_41371/76372470.py\", line 1, in <module>\n",
      "    import torch\n",
      "  File \"/Users/rashijain/opt/anaconda3/envs/genai_app_env/lib/python3.12/site-packages/torch/__init__.py\", line 1477, in <module>\n",
      "    from .functional import *  # noqa: F403\n",
      "  File \"/Users/rashijain/opt/anaconda3/envs/genai_app_env/lib/python3.12/site-packages/torch/functional.py\", line 9, in <module>\n",
      "    import torch.nn.functional as F\n",
      "  File \"/Users/rashijain/opt/anaconda3/envs/genai_app_env/lib/python3.12/site-packages/torch/nn/__init__.py\", line 1, in <module>\n",
      "    from .modules import *  # noqa: F403\n",
      "  File \"/Users/rashijain/opt/anaconda3/envs/genai_app_env/lib/python3.12/site-packages/torch/nn/modules/__init__.py\", line 35, in <module>\n",
      "    from .transformer import TransformerEncoder, TransformerDecoder, \\\n",
      "  File \"/Users/rashijain/opt/anaconda3/envs/genai_app_env/lib/python3.12/site-packages/torch/nn/modules/transformer.py\", line 20, in <module>\n",
      "    device: torch.device = torch.device(torch._C._get_default_device()),  # torch.device('cpu'),\n",
      "/Users/rashijain/opt/anaconda3/envs/genai_app_env/lib/python3.12/site-packages/torch/nn/modules/transformer.py:20: UserWarning: Failed to initialize NumPy: _ARRAY_API not found (Triggered internally at /Users/runner/work/pytorch/pytorch/pytorch/torch/csrc/utils/tensor_numpy.cpp:84.)\n",
      "  device: torch.device = torch.device(torch._C._get_default_device()),  # torch.device('cpu'),\n"
     ]
    }
   ],
   "source": [
    "import torch\n",
    "from transformers import BertTokenizer, BertForSequenceClassification, AdamW\n",
    "from torch.utils.data import DataLoader\n",
    "from datasets import load_dataset\n",
    "from sklearn.metrics import classification_report, confusion_matrix\n",
    "import matplotlib.pyplot as plt\n",
    "import seaborn as sns\n",
    "import pandas as pd\n"
   ]
  },
  {
   "cell_type": "markdown",
   "metadata": {},
   "source": [
    "# DataLoader    "
   ]
  },
  {
   "cell_type": "code",
   "execution_count": 7,
   "metadata": {},
   "outputs": [],
   "source": []
  },
  {
   "cell_type": "code",
   "execution_count": 3,
   "metadata": {},
   "outputs": [],
   "source": [
    "from datasets import load_dataset\n",
    "dataset = load_dataset(\"imdb\", streaming=True)\n"
   ]
  },
  {
   "cell_type": "code",
   "execution_count": 4,
   "metadata": {},
   "outputs": [],
   "source": [
    "# Data Loader\n",
    "\n",
    "# Load dataset\n",
    "from datasets import load_dataset\n",
    "dataset = load_dataset(\"imdb\")\n",
    "\n",
    "# Load dataset\n",
    "dataset = load_dataset(\"imdb\")\n",
    "\n",
    "# Limit to 2000 samples for quicker runs\n",
    "train_data = dataset[\"train\"].shuffle(seed=42).select(range(2000))\n",
    "test_data = dataset[\"test\"].shuffle(seed=42).select(range(2000))\n",
    "train_data = train_data.train_test_split(test_size=0.1, seed=42)\n",
    "train_data, val_data = train_data[\"train\"], train_data[\"test\"]\n",
    "\n",
    "# Train and Evaluate"
   ]
  },
  {
   "cell_type": "code",
   "execution_count": 5,
   "metadata": {},
   "outputs": [
    {
     "data": {
      "text/plain": [
       "Dataset({\n",
       "    features: ['text', 'label'],\n",
       "    num_rows: 1800\n",
       "})"
      ]
     },
     "execution_count": 5,
     "metadata": {},
     "output_type": "execute_result"
    }
   ],
   "source": [
    "train_data"
   ]
  },
  {
   "cell_type": "code",
   "execution_count": 6,
   "metadata": {},
   "outputs": [
    {
     "data": {
      "text/plain": [
       "Dataset({\n",
       "    features: ['text', 'label'],\n",
       "    num_rows: 2000\n",
       "})"
      ]
     },
     "execution_count": 6,
     "metadata": {},
     "output_type": "execute_result"
    }
   ],
   "source": [
    "test_data"
   ]
  },
  {
   "cell_type": "markdown",
   "metadata": {},
   "source": [
    "# EDA"
   ]
  },
  {
   "cell_type": "markdown",
   "metadata": {},
   "source": [
    " ### Basic Summary Statistics"
   ]
  },
  {
   "cell_type": "code",
   "execution_count": 7,
   "metadata": {},
   "outputs": [
    {
     "name": "stdout",
     "output_type": "stream",
     "text": [
      "Missing values in train data:\n",
      "text     0\n",
      "label    0\n",
      "dtype: int64\n",
      "\n",
      "Missing values in validation data:\n",
      "text     0\n",
      "label    0\n",
      "dtype: int64\n",
      "\n",
      "Missing values in test data:\n",
      "text     0\n",
      "label    0\n",
      "dtype: int64\n"
     ]
    }
   ],
   "source": [
    "import pandas as pd\n",
    "\n",
    "# Convert datasets to pandas DataFrames\n",
    "train_df = pd.DataFrame(train_data)\n",
    "val_df = pd.DataFrame(val_data)\n",
    "test_df = pd.DataFrame(test_data)\n",
    "\n",
    "\n",
    "\n",
    "\n",
    "\n",
    "# Check for missing values in the train, validation, and test data\n",
    "print(\"Missing values in train data:\")\n",
    "print(train_df.isnull().sum())\n",
    "\n",
    "print(\"\\nMissing values in validation data:\")\n",
    "print(val_df.isnull().sum())\n",
    "\n",
    "print(\"\\nMissing values in test data:\")\n",
    "print(test_df.isnull().sum())\n",
    "\n"
   ]
  },
  {
   "cell_type": "code",
   "execution_count": 8,
   "metadata": {},
   "outputs": [
    {
     "data": {
      "text/html": [
       "<div>\n",
       "<style scoped>\n",
       "    .dataframe tbody tr th:only-of-type {\n",
       "        vertical-align: middle;\n",
       "    }\n",
       "\n",
       "    .dataframe tbody tr th {\n",
       "        vertical-align: top;\n",
       "    }\n",
       "\n",
       "    .dataframe thead th {\n",
       "        text-align: right;\n",
       "    }\n",
       "</style>\n",
       "<table border=\"1\" class=\"dataframe\">\n",
       "  <thead>\n",
       "    <tr style=\"text-align: right;\">\n",
       "      <th></th>\n",
       "      <th>text</th>\n",
       "      <th>label</th>\n",
       "    </tr>\n",
       "  </thead>\n",
       "  <tbody>\n",
       "    <tr>\n",
       "      <th>0</th>\n",
       "      <td>I've never been to Paris, but after seeing \"Pa...</td>\n",
       "      <td>0</td>\n",
       "    </tr>\n",
       "    <tr>\n",
       "      <th>1</th>\n",
       "      <td>Never viewed this film until recently on TCM a...</td>\n",
       "      <td>1</td>\n",
       "    </tr>\n",
       "  </tbody>\n",
       "</table>\n",
       "</div>"
      ],
      "text/plain": [
       "                                                text  label\n",
       "0  I've never been to Paris, but after seeing \"Pa...      0\n",
       "1  Never viewed this film until recently on TCM a...      1"
      ]
     },
     "execution_count": 8,
     "metadata": {},
     "output_type": "execute_result"
    }
   ],
   "source": [
    "train_df.head(2)"
   ]
  },
  {
   "cell_type": "code",
   "execution_count": 9,
   "metadata": {},
   "outputs": [
    {
     "data": {
      "text/plain": [
       "'I\\'ve never been to Paris, but after seeing \"Paris, Je t\\'aime\" I\\'m crazy to visit this city! I\\'ve been to NY several times and I LOVE the city and its boroughs. I kinda expected to be touched by this film, to feel like jumping into a plane and fly there right away, but, lo and behold, I regret the time and money I spent with it. There are no love stories between people or a person and the city. There\\'s a lot of dysfunctional meetings and relations or people who know each other and it just doesn\\'t work out fine. Maybe this reflects a characteristic of the city, where it\\'s said to have thousands of people living on their own. Can\\'t you find love in New York?'"
      ]
     },
     "execution_count": 9,
     "metadata": {},
     "output_type": "execute_result"
    }
   ],
   "source": [
    "train_df.head(2)['text'][0]"
   ]
  },
  {
   "cell_type": "code",
   "execution_count": 10,
   "metadata": {},
   "outputs": [
    {
     "data": {
      "text/plain": [
       "'Never viewed this film until recently on TCM and found this story concerning Poland and a small town which had to suffer with the Nazi occupation of the local towns just like many other European Cities for example: Norway. The First World War was over and people in this town were still suffering from their lost soldiers and the wounded which War always creates. Alexander Knox, ( Wilhelm Gimm)\"Gorky Park\" returns from the war with a lost leg and was the former school teacher in town. He was brought up a German and was not very happy with the Polish people and they in turn did not fully accept him either. As the Hitler party grew to power Wilhelm Grimm desired to become a Nazi in order to return and punish this small Polish town for their treatment towards him which was really all in his mind. Marsha Hunt,(Marja Pacierkowski),\"Chloe\\'s Prayer\", played an outstanding role as a woman who lost her husband and was romantically involved with Whilhelm Gimm. There are many flashbacks and some very real truths about how the Nazi destroyed people\\'s families and their entire lives. The cattle cars are shown in this picture with Jewish people heading to the Nazi gas chambers. If you have not seen this film, and like this subject matter, give it some of your time; this film is very down to earth for a 1944 film and a story you will not forget too quickly.'"
      ]
     },
     "execution_count": 10,
     "metadata": {},
     "output_type": "execute_result"
    }
   ],
   "source": [
    "train_df.head(2)['text'][1]"
   ]
  },
  {
   "cell_type": "markdown",
   "metadata": {},
   "source": []
  },
  {
   "cell_type": "markdown",
   "metadata": {},
   "source": [
    "### Check for Duplicates"
   ]
  },
  {
   "cell_type": "code",
   "execution_count": 11,
   "metadata": {},
   "outputs": [
    {
     "name": "stdout",
     "output_type": "stream",
     "text": [
      "Duplicates in Train Data: 0\n",
      "Duplicates in Validation Data: 0\n",
      "Duplicates in Test Data: 1\n"
     ]
    }
   ],
   "source": [
    "# Check for duplicates in the train, validation, and test data\n",
    "print(\"Duplicates in Train Data:\", train_df.duplicated().sum())\n",
    "print(\"Duplicates in Validation Data:\", val_df.duplicated().sum())\n",
    "print(\"Duplicates in Test Data:\", test_df.duplicated().sum())\n"
   ]
  },
  {
   "cell_type": "markdown",
   "metadata": {},
   "source": [
    "### Check Label Distribution"
   ]
  },
  {
   "cell_type": "code",
   "execution_count": 12,
   "metadata": {},
   "outputs": [
    {
     "name": "stdout",
     "output_type": "stream",
     "text": [
      "Train Label Distribution:\n",
      "label\n",
      "1    907\n",
      "0    893\n",
      "Name: count, dtype: int64\n",
      "\n",
      "Validation Label Distribution:\n",
      "label\n",
      "0    107\n",
      "1     93\n",
      "Name: count, dtype: int64\n",
      "\n",
      "Test Label Distribution:\n",
      "label\n",
      "1    1000\n",
      "0    1000\n",
      "Name: count, dtype: int64\n"
     ]
    }
   ],
   "source": [
    "# Check label distribution in train, validation, and test datasets\n",
    "print(\"Train Label Distribution:\")\n",
    "print(train_df['label'].value_counts())\n",
    "\n",
    "print(\"\\nValidation Label Distribution:\")\n",
    "print(val_df['label'].value_counts())\n",
    "\n",
    "print(\"\\nTest Label Distribution:\")\n",
    "print(test_df['label'].value_counts())\n"
   ]
  },
  {
   "cell_type": "markdown",
   "metadata": {},
   "source": [
    "###  Text Length Distribution"
   ]
  },
  {
   "cell_type": "code",
   "execution_count": 13,
   "metadata": {},
   "outputs": [
    {
     "data": {
      "image/png": "[encoded data removed]",
      "text/plain": [
       "<Figure size 1500x500 with 3 Axes>"
      ]
     },
     "metadata": {},
     "output_type": "display_data"
    }
   ],
   "source": [
    "# Add text length column\n",
    "train_df['text_length'] = train_df['text'].apply(len)\n",
    "val_df['text_length'] = val_df['text'].apply(len)\n",
    "test_df['text_length'] = test_df['text'].apply(len)\n",
    "\n",
    "# Plot histograms of text length for train, validation, and test sets\n",
    "import matplotlib.pyplot as plt\n",
    "\n",
    "plt.figure(figsize=(15, 5))\n",
    "plt.subplot(1, 3, 1)\n",
    "plt.hist(train_df['text_length'], bins=30, color='blue', alpha=0.7)\n",
    "plt.title('Train Data Text Length')\n",
    "\n",
    "plt.subplot(1, 3, 2)\n",
    "plt.hist(val_df['text_length'], bins=30, color='green', alpha=0.7)\n",
    "plt.title('Validation Data Text Length')\n",
    "\n",
    "plt.subplot(1, 3, 3)\n",
    "plt.hist(test_df['text_length'], bins=30, color='red', alpha=0.7)\n",
    "plt.title('Test Data Text Length')\n",
    "\n",
    "plt.tight_layout()\n",
    "plt.show()\n"
   ]
  },
  {
   "cell_type": "markdown",
   "metadata": {},
   "source": [
    "### Label Distribution Plot"
   ]
  },
  {
   "cell_type": "code",
   "execution_count": 14,
   "metadata": {},
   "outputs": [
    {
     "data": {
      "image/png": "[encoded data removed]",
      "text/plain": [
       "<Figure size 1500x500 with 3 Axes>"
      ]
     },
     "metadata": {},
     "output_type": "display_data"
    }
   ],
   "source": [
    "# Plot label distribution for train, validation, and test datasets\n",
    "import matplotlib.pyplot as plt\n",
    "\n",
    "# Set up the figure and axes\n",
    "plt.figure(figsize=(15, 5))\n",
    "\n",
    "# Train Label Distribution\n",
    "plt.subplot(1, 3, 1)\n",
    "train_df['label'].value_counts().plot(kind='bar', color=['blue', 'orange'])\n",
    "plt.title('Train Label Distribution')\n",
    "plt.xlabel('Label')\n",
    "plt.ylabel('Count')\n",
    "\n",
    "# Validation Label Distribution\n",
    "plt.subplot(1, 3, 2)\n",
    "val_df['label'].value_counts().plot(kind='bar', color=['blue', 'orange'])\n",
    "plt.title('Validation Label Distribution')\n",
    "plt.xlabel('Label')\n",
    "plt.ylabel('Count')\n",
    "\n",
    "# Test Label Distribution\n",
    "plt.subplot(1, 3, 3)\n",
    "test_df['label'].value_counts().plot(kind='bar', color=['blue', 'orange'])\n",
    "plt.title('Test Label Distribution')\n",
    "plt.xlabel('Label')\n",
    "plt.ylabel('Count')\n",
    "\n",
    "# Adjust layout\n",
    "plt.tight_layout()\n",
    "plt.show()\n"
   ]
  },
  {
   "cell_type": "code",
   "execution_count": 15,
   "metadata": {},
   "outputs": [
    {
     "data": {
      "image/png": "[encoded data removed]",
      "text/plain": [
       "<Figure size 640x480 with 1 Axes>"
      ]
     },
     "metadata": {},
     "output_type": "display_data"
    },
    {
     "name": "stdout",
     "output_type": "stream",
     "text": [
      "Maximum text length: 6032\n",
      "Average text length: 1300.3633333333332\n"
     ]
    }
   ],
   "source": [
    "# Calculate the length of each text in the train dataset\n",
    "train_df['text_length'] = train_df['text'].apply(len)\n",
    "\n",
    "# Plot the text length distribution\n",
    "import matplotlib.pyplot as plt\n",
    "\n",
    "plt.hist(train_df['text_length'], bins=50, color='skyblue', edgecolor='black')\n",
    "plt.title('Text Length Distribution in Train Data')\n",
    "plt.xlabel('Length of Text (Number of Characters)')\n",
    "plt.ylabel('Frequency')\n",
    "plt.show()\n",
    "\n",
    "# Get the maximum and average length of the texts\n",
    "print(\"Maximum text length:\", train_df['text_length'].max())\n",
    "print(\"Average text length:\", train_df['text_length'].mean())\n"
   ]
  },
  {
   "cell_type": "markdown",
   "metadata": {},
   "source": [
    "Conclusion:\n",
    "Start with max_length=512 as a baseline, since it is efficient and works well for most transformer models.\n",
    "If your model supports longer sequences, try max_length=1024 and observe the effect on performance.\n",
    "Consider the nature of your dataset and the importance of longer context before deciding on a larger max_length.\n",
    "\n",
    "\n",
    "* Truncation\n",
    "Truncation will be applied to any text longer than the chosen max_length. If you set max_length=512 and have text lengths of 1300 on average, it will truncate the input text to the first 512 tokens.\n",
    "The decision about truncation can be made based on the nature of your task:\n",
    "If long texts contain significant information at the end (e.g., conclusions, summaries), you might want to truncate at the beginning of the text (truncation=True, truncation_strategy='longest_first'), retaining the important context at the end.\n",
    "If the start of the text is more important (e.g., in classification tasks where the beginning might contain key context), keep the beginning and discard the end.\n"
   ]
  },
  {
   "cell_type": "markdown",
   "metadata": {},
   "source": [
    "## DataPrepration"
   ]
  },
  {
   "cell_type": "markdown",
   "metadata": {},
   "source": [
    "### Tokenization using Hugging Face’s Tokenizer"
   ]
  },
  {
   "cell_type": "code",
   "execution_count": 16,
   "metadata": {},
   "outputs": [
    {
     "name": "stdout",
     "output_type": "stream",
     "text": [
      "Example tokenized input_ids: [101, 1045, 1005, 2310, 2196, 2042, 2000, 3000, 1010, 2021, 2044, 3773, 1000, 3000, 1010, 15333, 1056, 1005, 6614, 2063, 1000, 1045, 1005, 1049, 4689, 2000, 3942, 2023, 2103, 999, 1045, 1005, 2310, 2042, 2000, 6396, 2195, 2335, 1998, 1045, 2293, 1996, 2103, 1998, 2049, 21413, 1012, 1045, 17704, 3517, 2000, 2022, 5028, 2011, 2023, 2143, 1010, 2000, 2514, 2066, 8660, 2046, 1037, 4946, 1998, 4875, 2045, 2157, 2185, 1010, 2021, 1010, 8840, 1998, 27541, 1010, 1045, 9038, 1996, 2051, 1998, 2769, 1045, 2985, 2007, 2009, 1012, 2045, 2024, 2053, 2293, 3441, 2090, 2111, 2030, 1037, 2711, 1998, 1996, 2103, 1012, 2045, 1005, 1055, 1037, 2843, 1997, 28466, 2389, 6295, 1998, 4262, 2030, 2111, 2040, 2113, 2169, 2060, 1998, 2009, 2074, 2987, 1005, 1056, 2147, 2041, 2986, 102]\n",
      "Example attention_mask: [1, 1, 1, 1, 1, 1, 1, 1, 1, 1, 1, 1, 1, 1, 1, 1, 1, 1, 1, 1, 1, 1, 1, 1, 1, 1, 1, 1, 1, 1, 1, 1, 1, 1, 1, 1, 1, 1, 1, 1, 1, 1, 1, 1, 1, 1, 1, 1, 1, 1, 1, 1, 1, 1, 1, 1, 1, 1, 1, 1, 1, 1, 1, 1, 1, 1, 1, 1, 1, 1, 1, 1, 1, 1, 1, 1, 1, 1, 1, 1, 1, 1, 1, 1, 1, 1, 1, 1, 1, 1, 1, 1, 1, 1, 1, 1, 1, 1, 1, 1, 1, 1, 1, 1, 1, 1, 1, 1, 1, 1, 1, 1, 1, 1, 1, 1, 1, 1, 1, 1, 1, 1, 1, 1, 1, 1, 1, 1]\n"
     ]
    }
   ],
   "source": [
    "from transformers import BertTokenizer\n",
    "\n",
    "# Initialize the tokenizer for BERT\n",
    "tokenizer = BertTokenizer.from_pretrained('bert-base-uncased')\n",
    "\n",
    "# Tokenize the data and generate attention masks\n",
    "def tokenize_function(examples):\n",
    "    return tokenizer(\n",
    "        examples['text'],\n",
    "        padding=\"max_length\",       # Pads the sequence to max_length\n",
    "        truncation=True,             # Truncates sequences longer than max_length\n",
    "        max_length=128,             # Sets max length of the sequences\n",
    "        return_attention_mask=True  # Return attention mask along with input_ids\n",
    "    )\n",
    "\n",
    "# Apply tokenization to the train, validation, and test datasets\n",
    "train_data_tokenized = train_data.map(\n",
    "    lambda x: {**tokenize_function(x), \"labels\": x[\"label\"]}, \n",
    "    batched=True\n",
    ")\n",
    "val_data_tokenized = val_data.map(\n",
    "    lambda x: {**tokenize_function(x), \"labels\": x[\"label\"]}, \n",
    "    batched=True\n",
    ")\n",
    "test_data_tokenized = test_data.map(\n",
    "    lambda x: {**tokenize_function(x), \"labels\": x[\"label\"]}, \n",
    "    batched=True\n",
    ")\n",
    "\n",
    "# Check the tokenized output (input_ids and attention_mask)\n",
    "print(f\"Example tokenized input_ids: {train_data_tokenized[0]['input_ids']}\")\n",
    "print(f\"Example attention_mask: {train_data_tokenized[0]['attention_mask']}\")\n",
    "\n",
    "\n",
    "\n",
    "\n"
   ]
  },
  {
   "cell_type": "markdown",
   "metadata": {},
   "source": [
    "#### Explanation: \n",
    "* Tokenizer: The BertTokenizer converts text into tokens (integers), where each integer corresponds to a specific word piece or token from the vocabulary.\n",
    "* Padding and Truncation: We ensure each input is the same length (max_length=512), which is the standard for BERT.\n",
    "* input_ids: These are the tokenized representations of the text, which you can use as input for embedding generation or model training."
   ]
  },
  {
   "cell_type": "markdown",
   "metadata": {},
   "source": [
    "The **max length** parameter for tokenization is the maximum number of tokens that the tokenizer will generate for each input text. This parameter determines how much of the input text is considered when transforming it into token IDs.\n",
    "\n",
    "### How is the `max_length` determined?\n",
    "\n",
    "1. **Model Constraints**: Many transformer models, such as BERT, RoBERTa, and others, have a **maximum input length** they can handle. For instance:\n",
    "   - **BERT**: The maximum length of input sequences is 512 tokens.\n",
    "   - **RoBERTa**: Similarly, RoBERTa also has a maximum sequence length of 512 tokens.\n",
    "   - **DistilBERT**: Has a maximum sequence length of 512 tokens as well.\n",
    "\n",
    "   This is typically defined by the architecture of the model and is a hard limit.\n",
    "\n",
    "2. **Length of Text**: If you use a `max_length` that is longer than the length of your input text, the tokenizer will pad the text to that length. If the text is shorter than `max_length`, padding tokens (usually with `0` or a special padding token) are added.\n",
    "\n",
    "3. **Truncation**: If the input text exceeds the `max_length`, the tokenizer will truncate the text, keeping only the first `max_length` tokens. This means that some part of the input text will be discarded.\n",
    "\n",
    "4. **Context Considerations**: The maximum sequence length can also be influenced by the nature of the problem:\n",
    "   - For **short texts** like movie reviews (like in your example), a smaller max length (e.g., 128 or 256) may suffice.\n",
    "   - For **longer documents**, you may want to use the maximum sequence length (e.g., 512) to ensure the entire context of the text is captured, but this can introduce inefficiency in processing longer sequences.\n",
    "\n",
    "### How to Set `max_length`?\n",
    "\n",
    "1. **Default Model Length**: Often, you can rely on the model's default maximum length, which is typically 512 for most transformer models like BERT. In the case of BERT, the `max_length` should ideally not exceed 512 tokens.\n",
    "\n",
    "2. **Analyzing Text Lengths**: You can analyze the distribution of text lengths in your dataset and decide the `max_length` based on this. For example, if most texts in your dataset are short (less than 100 tokens), setting a `max_length` of 128 or 256 might be more efficient.\n",
    "\n",
    "3. **Adjusting for Performance**: Setting a smaller `max_length` can reduce memory usage and speed up training, especially if your model frequently processes long documents. However, truncating too much information might hurt performance if the text contains crucial information that is beyond the truncation threshold.\n",
    "\n",
    "### Example: Checking the Text Length Distribution\n",
    "Before setting a `max_length`, it’s helpful to look at the distribution of text lengths to decide the best value. Here’s how you can visualize the length distribution:\n",
    "\n",
    "```python\n",
    "# Calculate the length of each text in the train dataset\n",
    "train_df['text_length'] = train_df['text'].apply(len)\n",
    "\n",
    "# Plot the text length distribution\n",
    "import matplotlib.pyplot as plt\n",
    "\n",
    "plt.hist(train_df['text_length'], bins=50, color='skyblue', edgecolor='black')\n",
    "plt.title('Text Length Distribution in Train Data')\n",
    "plt.xlabel('Length of Text (Number of Characters)')\n",
    "plt.ylabel('Frequency')\n",
    "plt.show()\n",
    "\n",
    "# Get the maximum and average length of the texts\n",
    "print(\"Maximum text length:\", train_df['text_length'].max())\n",
    "print(\"Average text length:\", train_df['text_length'].mean())\n",
    "```\n",
    "\n",
    "### Key Takeaways:\n",
    "- **Maximum length** depends on the model architecture (e.g., BERT has 512 tokens as the max).\n",
    "- Texts longer than the max length will be truncated; shorter texts will be padded.\n",
    "- For practical purposes, you can set `max_length` based on the text length distribution in your dataset. If most of your texts are shorter than 100 tokens, you can choose a smaller `max_length` (e.g., 128), but if there’s a significant portion that exceeds, consider setting it to 256 or 512.\n",
    "\n",
    "Let me know if you need more clarification or assistance with setting the `max_length`!"
   ]
  },
  {
   "cell_type": "markdown",
   "metadata": {},
   "source": [
    " ### Attention Mask\n",
    " \n",
    " When the text sequences are shorter than the `max_length` and padded), you should also provide an **attention mask**. The attention mask tells the model which tokens are real (non-padding) and which tokens are padding, so that the model does not pay attention to padded tokens during processing.\n",
    "\n",
    "### What is an Attention Mask?\n",
    "- An **attention mask** is a binary tensor of the same length as the input sequence, where:\n",
    "  - `1` indicates a real token (i.e., a token that should be attended to).\n",
    "  - `0` indicates a padding token (i.e., a token that should be ignored by the model during processing).\n",
    "\n",
    "This mask is essential for models like BERT, as they need to know which tokens are padding and which are actual text to avoid attending to the padding during calculations.\n"
   ]
  },
  {
   "cell_type": "markdown",
   "metadata": {},
   "source": [
    "## Embedding Generation - NOT REQUIRED"
   ]
  },
  {
   "cell_type": "markdown",
   "metadata": {},
   "source": [
    "The embeddings are generated from the last_hidden_state output of the model, which represents the contextualized token embeddings.\n",
    "\n",
    "BERT generates embeddings automatically during its forward pass, and you can directly use those embeddings for tasks like classification without explicitly extracting them first. Let's clarify **why embeddings are generated explicitly in some workflows** versus **why you might skip that step and directly fine-tune BERT for classification**.\n",
    "\n",
    "---\n",
    "\n",
    "#### **Why Generate Embeddings?**\n",
    "\n",
    "1. **Feature Extraction for Other Models or Tasks**:\n",
    "   - Sometimes, you may want to use BERT’s embeddings as input features for downstream models like Random Forests, SVMs, or lightweight neural networks. For example:\n",
    "     - You could use embeddings to perform clustering (e.g., k-means).\n",
    "     - Use them for retrieval tasks where you calculate similarity between embeddings.\n",
    "   - In such cases, you extract the embeddings (from the last hidden state or the `[CLS]` token) and process them separately.\n",
    "\n",
    "2. **Task-Specific Representations**:\n",
    "   - By taking embeddings from the **last hidden state**, you can process them in a custom way:\n",
    "     - Pool embeddings for specific tokens.\n",
    "     - Use averaging or weighted pooling for sentence-level representations.\n",
    "   - This approach offers flexibility in defining how you want to represent your text for a specific task.\n",
    "\n",
    "3. **Efficiency for Non-End-to-End Pipelines**:\n",
    "   - If you’re working with a task where BERT is only used as a feature extractor (not fine-tuned), this method avoids re-computing embeddings every time during training. You compute embeddings once and save them for reuse.\n",
    "\n",
    "---\n",
    "\n",
    "#### **Why Use BERT Directly for Classification?**\n",
    "\n",
    "If your end goal is **classification**, it’s often better to use BERT directly, fine-tuning it on your specific dataset. Here's why:\n",
    "\n",
    "1. **End-to-End Training**:\n",
    "   - Fine-tuning BERT allows it to adjust its weights specifically for your task, improving performance. For example:\n",
    "     - In sentiment analysis, BERT can learn to emphasize sentiment-bearing words during fine-tuning.\n",
    "   - By training the classification layer and the BERT encoder jointly, you ensure the embeddings are optimized for your task.\n",
    "\n",
    "2. **Built-In Classification Head**:\n",
    "   - BERT provides a **classification head** on top of the `[CLS]` token. This is specifically designed for tasks like sentiment analysis or binary classification. Fine-tuning updates both the classification head and BERT weights to align with your task.\n",
    "\n",
    "3. **Simplicity**:\n",
    "   - Using BERT for direct classification simplifies the pipeline. Instead of extracting embeddings and training a separate model, you just fine-tune BERT with minimal preprocessing.\n",
    "\n",
    "---\n",
    "\n",
    "#### **When to Choose Which Approach?**\n",
    "\n",
    "| **Approach**                  | **Use Case**                                                                                     |\n",
    "|--------------------------------|--------------------------------------------------------------------------------------------------|\n",
    "| **Embedding Extraction**       | - You need embeddings for tasks like clustering, similarity search, or hybrid pipelines.<br> - You want to use BERT features with other ML models (e.g., Random Forests). <br> - Computational constraints prevent fine-tuning. |\n",
    "| **Direct BERT Fine-Tuning**    | - Your goal is task-specific classification (e.g., sentiment analysis, text classification). <br> - You have labeled data for supervised fine-tuning. <br> - You want the best possible performance from BERT.                      |\n",
    "\n",
    "---\n",
    "\n",
    "#### **Summary**\n",
    "1. **Why generate embeddings manually?**\n",
    "   - For non-end-to-end tasks or when embeddings are reused for other purposes (e.g., clustering or similarity).\n",
    "\n",
    "2. **Why use BERT directly for classification?**\n",
    "   - For task-specific fine-tuning and better performance in supervised learning tasks.\n",
    "\n",
    "If your task is **sentiment analysis**, you should likely fine-tune BERT for classification unless you have a specific reason to extract embeddings.\n",
    "\n"
   ]
  },
  {
   "cell_type": "code",
   "execution_count": 17,
   "metadata": {},
   "outputs": [],
   "source": [
    "# ##### Not Required ####\n",
    "\n",
    "\n",
    "# import torch\n",
    "# from transformers import BertTokenizer, BertModel\n",
    "\n",
    "# model = BertModel.from_pretrained('bert-base-uncased')\n",
    "\n",
    "\n",
    "\n",
    "# # Convert to PyTorch tensors for embedding generation\n",
    "# def generate_embeddings(data):\n",
    "#     input_ids = torch.tensor(data['input_ids'])  # Input IDs\n",
    "#     attention_mask = torch.tensor(data['attention_mask'])  # Attention mask\n",
    "    \n",
    "#     with torch.no_grad():\n",
    "#         outputs = model(input_ids, attention_mask=attention_mask)  # Forward pass with attention mask\n",
    "#         embeddings = outputs.last_hidden_state  # Get the last hidden state as embeddings\n",
    "    \n",
    "#     return embeddings\n",
    "\n",
    "# # Generate embeddings for train, validation, and test sets\n",
    "# train_embeddings = generate_embeddings(train_data_tokenized)\n",
    "# val_embeddings = generate_embeddings(val_data_tokenized)\n",
    "# test_embeddings = generate_embeddings(test_data_tokenized)\n",
    "\n",
    "# # Check the shape of the embeddings for one sample (batch size, sequence length, hidden size)\n",
    "# print(f\"Train embeddings shape: {train_embeddings.shape}\")\n",
    "# print(f\"Validation embeddings shape: {val_embeddings.shape}\")\n",
    "# print(f\"Test embeddings shape: {test_embeddings.shape}\")\n"
   ]
  },
  {
   "cell_type": "markdown",
   "metadata": {},
   "source": [
    "#### Embedding Visualization"
   ]
  },
  {
   "cell_type": "code",
   "execution_count": 18,
   "metadata": {},
   "outputs": [],
   "source": [
    "# from sklearn.manifold import TSNE\n",
    "# import matplotlib.pyplot as plt\n",
    "\n",
    "# # Convert embeddings to 2D using t-SNE\n",
    "# def visualize_embeddings(embeddings, labels):\n",
    "#     # We take the mean of the token embeddings for each sentence\n",
    "#     sentence_embeddings = embeddings.mean(dim=1).numpy()  # Shape: (num_samples, hidden_size)\n",
    "\n",
    "#     # Perform t-SNE to reduce to 2D\n",
    "#     tsne = TSNE(n_components=2, random_state=42)\n",
    "#     tsne_results = tsne.fit_transform(sentence_embeddings)\n",
    "\n",
    "#     # Plot the results\n",
    "#     plt.figure(figsize=(10, 8))\n",
    "#     scatter = plt.scatter(tsne_results[:, 0], tsne_results[:, 1], c=labels, cmap='viridis', alpha=0.7)\n",
    "#     plt.title(\"t-SNE of Sentence Embeddings\")\n",
    "#     plt.xlabel(\"t-SNE Dimension 1\")\n",
    "#     plt.ylabel(\"t-SNE Dimension 2\")\n",
    "#     plt.colorbar(scatter)\n",
    "#     plt.show()\n",
    "\n",
    "# # Example: Visualizing train set embeddings (assuming labels are available as train_data_tokenized['label'])\n",
    "# visualize_embeddings(train_embeddings, train_data_tokenized['label'])\n"
   ]
  },
  {
   "cell_type": "markdown",
   "metadata": {},
   "source": [
    "Embedding plot visualization is useful for understanding the **distribution of data** in a lower-dimensional space. Here’s how and why it's valuable, especially in NLP tasks:\n",
    "\n",
    "### Example Interpretation of a Plot\n",
    "\n",
    "Let’s say you visualize sentiment embeddings using **t-SNE**:\n",
    "\n",
    "1. **Clusters**: \n",
    "   - Positive and negative reviews form distinct, compact clusters. This suggests that the embeddings capture sentiment well.\n",
    "\n",
    "   Example:\n",
    "   ```\n",
    "   Positive Reviews: Cluster 1 (top right)\n",
    "   Negative Reviews: Cluster 2 (bottom left)\n",
    "   ```\n",
    "\n",
    "2. **Overlap**:\n",
    "   - If some points from the positive and negative clusters overlap, it might indicate:\n",
    "     - Ambiguous samples (e.g., mixed sentiment).\n",
    "     - Issues in tokenization or model architecture.\n",
    "\n",
    "3. **Outliers**:\n",
    "   - Points far from any cluster could indicate noisy data, such as typos or very short/long reviews.\n",
    "\n",
    "---\n",
    "\n",
    "#### Should You Always Visualize?\n",
    "Not necessarily. Visualization is a **diagnostic tool**:\n",
    "- Use it to **explore data quality** and **understand patterns**.\n",
    "- Once you're confident in the embeddings, proceed to model training and evaluation.\n",
    "\n",
    "---\n",
    "\n",
    "#### Final Note\n",
    "Embedding visualization isn’t always necessary for production but can be **invaluable for debugging** and understanding your data/model pipeline. Let me know if you want a concrete example with code and walkthrough!"
   ]
  },
  {
   "cell_type": "code",
   "execution_count": 19,
   "metadata": {},
   "outputs": [
    {
     "name": "stderr",
     "output_type": "stream",
     "text": [
      "Some weights of BertForSequenceClassification were not initialized from the model checkpoint at bert-base-uncased and are newly initialized: ['classifier.bias', 'classifier.weight']\n",
      "You should probably TRAIN this model on a down-stream task to be able to use it for predictions and inference.\n"
     ]
    }
   ],
   "source": [
    "# import wandb\n",
    "# wandb.init(project=\"bert-fine-tuning\", settings=wandb.Settings(init_timeout=120))\n",
    "\n",
    "\n",
    "\n",
    "from transformers import BertForSequenceClassification\n",
    "\n",
    "model = BertForSequenceClassification.from_pretrained(\"bert-base-uncased\", num_labels=2)\n",
    "\n"
   ]
  },
  {
   "cell_type": "markdown",
   "metadata": {},
   "source": [
    "# Train the Model"
   ]
  },
  {
   "cell_type": "code",
   "execution_count": 20,
   "metadata": {},
   "outputs": [
    {
     "data": {
      "text/plain": [
       "<Experiment: artifact_location='file:///Users/rashijain/Documents/GitHub/SentimentPredictionML/mlruns/484606433662049821', creation_time=1738128933836, experiment_id='484606433662049821', last_update_time=1738128933836, lifecycle_stage='active', name='Sentiment Analysis with BERT v2', tags={}>"
      ]
     },
     "execution_count": 20,
     "metadata": {},
     "output_type": "execute_result"
    }
   ],
   "source": [
    "import os\n",
    "import mlflow\n",
    "\n",
    "# Set MLflow tracking URI to a local writable directory\n",
    "mlflow_tracking_dir = os.path.abspath(\"./mlruns\")  # Ensure it's a writable directory\n",
    "mlflow.set_tracking_uri(f\"file://{mlflow_tracking_dir}\")\n",
    "\n",
    "# Set experiment\n",
    "mlflow.set_experiment(\"Sentiment Analysis with BERT v2\")\n"
   ]
  },
  {
   "cell_type": "code",
   "execution_count": null,
   "metadata": {},
   "outputs": [],
   "source": []
  },
  {
   "cell_type": "code",
   "execution_count": 21,
   "metadata": {},
   "outputs": [],
   "source": [
    "os.makedirs(\"./results\", exist_ok=True)\n",
    "os.makedirs(\"./logs\", exist_ok=True)\n"
   ]
  },
  {
   "cell_type": "code",
   "execution_count": null,
   "metadata": {},
   "outputs": [
    {
     "name": "stderr",
     "output_type": "stream",
     "text": [
      "Some weights of BertForSequenceClassification were not initialized from the model checkpoint at bert-base-uncased and are newly initialized: ['classifier.bias', 'classifier.weight']\n",
      "You should probably TRAIN this model on a down-stream task to be able to use it for predictions and inference.\n",
      "2025/01/29 19:30:54 WARNING mlflow.utils.git_utils: Failed to import Git (the Git executable is probably not on your PATH), so Git SHA is not available. Error: Failed to initialize: Cmd('git') failed due to: exit code(69)\n",
      "  cmdline: git version\n",
      "  stderr: 'You have not agreed to the Xcode license agreements. Please run 'sudo xcodebuild -license' from within a Terminal window to review and agree to the Xcode and Apple SDKs license.'\n"
     ]
    },
    {
     "data": {
      "text/html": [
       "\n",
       "    <div>\n",
       "      \n",
       "      <progress value='279' max='675' style='width:300px; height:20px; vertical-align: middle;'></progress>\n",
       "      [279/675 23:58 < 34:16, 0.19 it/s, Epoch 1.24/3]\n",
       "    </div>\n",
       "    <table border=\"1\" class=\"dataframe\">\n",
       "  <thead>\n",
       " <tr style=\"text-align: left;\">\n",
       "      <th>Step</th>\n",
       "      <th>Training Loss</th>\n",
       "      <th>Validation Loss</th>\n",
       "    </tr>\n",
       "  </thead>\n",
       "  <tbody>\n",
       "  </tbody>\n",
       "</table><p>"
      ],
      "text/plain": [
       "<IPython.core.display.HTML object>"
      ]
     },
     "metadata": {},
     "output_type": "display_data"
    }
   ],
   "source": [
    "import mlflow\n",
    "import mlflow.pytorch\n",
    "from transformers import BertTokenizer, BertForSequenceClassification, Trainer, TrainingArguments\n",
    "from sklearn.metrics import precision_recall_fscore_support, accuracy_score\n",
    "\n",
    "# Initialize MLflow tracking\n",
    "mlflow.set_experiment(\"Sentiment Analysis with BERT v2\")\n",
    "\n",
    "# Function to compute metrics\n",
    "def compute_metrics(eval_pred):\n",
    "    logits, labels = eval_pred\n",
    "    predictions = logits.argmax(axis=-1)\n",
    "    precision, recall, f1, _ = precision_recall_fscore_support(labels, predictions, average='weighted')\n",
    "    accuracy = accuracy_score(labels, predictions)\n",
    "    return {\"accuracy\": accuracy, \"precision\": precision, \"recall\": recall, \"f1\": f1}\n",
    "\n",
    "# Training arguments\n",
    "training_args = TrainingArguments(\n",
    "    output_dir=\"./results\",        # Directory to save the final model\n",
    "    logging_dir=\"./logs\",          # Directory for TensorBoard logs\n",
    "    save_strategy=\"steps\",         # Save model after certain steps\n",
    "    save_steps=500,                # Save checkpoint every 500 steps\n",
    "    save_total_limit=3,            # Keep only the last 3 checkpoints\n",
    "    logging_steps=50,              # Log metrics every 50 steps\n",
    "    evaluation_strategy=\"steps\",   # Evaluate periodically during training\n",
    "    eval_steps=500,                # Run evaluation every 500 steps\n",
    "    load_best_model_at_end=True,   # Load the best checkpoint at the end\n",
    "    metric_for_best_model=\"accuracy\", # Metric to determine the best checkpoint\n",
    "    save_on_each_node=False,       # Save checkpoints only on the main node\n",
    "    report_to=\"tensorboard\",       # Log to TensorBoard\n",
    ")\n",
    "\n",
    "# Define model\n",
    "model = BertForSequenceClassification.from_pretrained(\"bert-base-uncased\", num_labels=2)\n",
    "\n",
    "# Trainer setup\n",
    "trainer = Trainer(\n",
    "    model=model,\n",
    "    args=training_args,\n",
    "    train_dataset=train_data_tokenized,\n",
    "    eval_dataset=val_data_tokenized,\n",
    "    compute_metrics=compute_metrics\n",
    ")\n",
    "\n",
    "# MLflow integration for training\n",
    "with mlflow.start_run() as run:\n",
    "    # Log training parameters\n",
    "    \n",
    "    \n",
    "    \n",
    "    tokenizer.save_pretrained(\"tokenizer\")\n",
    "    mlflow.log_artifacts(\"tokenizer\", artifact_path=\"tokenizer\")\n",
    "\n",
    "\n",
    "    mlflow.log_param(\"model_name\", \"bert-base-uncased\")\n",
    "    mlflow.log_param(\"num_labels\", 2)\n",
    "    mlflow.log_param(\"batch_size\", training_args.per_device_train_batch_size)\n",
    "    mlflow.log_param(\"epochs\", training_args.num_train_epochs)\n",
    "    mlflow.log_param(\"learning_rate\", training_args.learning_rate)\n",
    "\n",
    "    # Train the model\n",
    "    trainer.train()\n",
    "\n",
    "    # Evaluate the model\n",
    "    metrics = trainer.evaluate()\n",
    "    \n",
    "    # Log evaluation metrics\n",
    "    for metric_name, value in metrics.items():\n",
    "        mlflow.log_metric(metric_name, value)\n",
    "\n",
    "    # Save the trained model to MLflow\n",
    "    mlflow.pytorch.log_model(model, \"model\")\n",
    "\n",
    "    # Optionally, log additional files like the tokenizer\n",
    "    tokenizer.save_pretrained(\"./results/tokenizer\")\n",
    "    mlflow.log_artifacts(\"./results/tokenizer\", artifact_path=\"tokenizer\")\n",
    "\n",
    "# Output MLflow run information\n",
    "print(f\"Run ID: {run.info.run_id}\")\n"
   ]
  },
  {
   "cell_type": "markdown",
   "metadata": {},
   "source": [
    "# Evaluate the Model"
   ]
  },
  {
   "cell_type": "code",
   "execution_count": 27,
   "metadata": {},
   "outputs": [
    {
     "ename": "NameError",
     "evalue": "name 'trainer' is not defined",
     "output_type": "error",
     "traceback": [
      "\u001b[0;31m---------------------------------------------------------------------------\u001b[0m",
      "\u001b[0;31mNameError\u001b[0m                                 Traceback (most recent call last)",
      "Cell \u001b[0;32mIn[27], line 2\u001b[0m\n\u001b[1;32m      1\u001b[0m \u001b[38;5;66;03m# Evaluate on validation data\u001b[39;00m\n\u001b[0;32m----> 2\u001b[0m eval_results \u001b[38;5;241m=\u001b[39m trainer\u001b[38;5;241m.\u001b[39mevaluate()\n\u001b[1;32m      3\u001b[0m \u001b[38;5;28mprint\u001b[39m(eval_results)\n\u001b[1;32m      5\u001b[0m \u001b[38;5;28;01mfor\u001b[39;00m metric_name, metric_value \u001b[38;5;129;01min\u001b[39;00m eval_results\u001b[38;5;241m.\u001b[39mitems():\n",
      "\u001b[0;31mNameError\u001b[0m: name 'trainer' is not defined"
     ]
    }
   ],
   "source": [
    "# Evaluate on validation data\n",
    "eval_results = trainer.evaluate()\n",
    "print(eval_results)\n",
    "\n",
    "for metric_name, metric_value in eval_results.items():\n",
    "    mlflow.log_metric(f\"val_{metric_name}\", metric_value)\n"
   ]
  },
  {
   "cell_type": "markdown",
   "metadata": {},
   "source": [
    " # Test the Model"
   ]
  },
  {
   "cell_type": "code",
   "execution_count": 28,
   "metadata": {},
   "outputs": [
    {
     "ename": "NameError",
     "evalue": "name 'trainer' is not defined",
     "output_type": "error",
     "traceback": [
      "\u001b[0;31m---------------------------------------------------------------------------\u001b[0m",
      "\u001b[0;31mNameError\u001b[0m                                 Traceback (most recent call last)",
      "Cell \u001b[0;32mIn[28], line 2\u001b[0m\n\u001b[1;32m      1\u001b[0m \u001b[38;5;66;03m# Evaluate on test data\u001b[39;00m\n\u001b[0;32m----> 2\u001b[0m test_results \u001b[38;5;241m=\u001b[39m trainer\u001b[38;5;241m.\u001b[39mevaluate(test_data_tokenized)\n\u001b[1;32m      3\u001b[0m \u001b[38;5;28mprint\u001b[39m(test_results)\n\u001b[1;32m      5\u001b[0m \u001b[38;5;28;01mfor\u001b[39;00m metric_name, metric_value \u001b[38;5;129;01min\u001b[39;00m test_results\u001b[38;5;241m.\u001b[39mitems():\n",
      "\u001b[0;31mNameError\u001b[0m: name 'trainer' is not defined"
     ]
    }
   ],
   "source": [
    "# Evaluate on test data\n",
    "test_results = trainer.evaluate(test_data_tokenized)\n",
    "print(test_results)\n",
    "\n",
    "for metric_name, metric_value in test_results.items():\n",
    "        mlflow.log_metric(f\"test_{metric_name}\", metric_value)\n"
   ]
  },
  {
   "cell_type": "markdown",
   "metadata": {},
   "source": [
    "## Analyze the Worst Residuals\n",
    "Identify the Worst Residuals\n",
    "Residuals are the difference between true labels and predictions. You can evaluate these after the test set evaluation:"
   ]
  },
  {
   "cell_type": "code",
   "execution_count": null,
   "metadata": {},
   "outputs": [
    {
     "data": {
      "application/vnd.jupyter.widget-view+json": {
       "model_id": "92e999c27b27424aa7ee4598c3adae87",
       "version_major": 2,
       "version_minor": 0
      },
      "text/plain": [
       "  0%|          | 0/250 [00:00<?, ?it/s]"
      ]
     },
     "metadata": {},
     "output_type": "display_data"
    },
    {
     "name": "stdout",
     "output_type": "stream",
     "text": [
      "Accuracy: 0.84\n",
      "Precision: 0.84\n",
      "Recall: 0.84\n",
      "F1 Score: 0.84\n",
      "\n",
      "Classification Report:\n",
      "              precision    recall  f1-score   support\n",
      "\n",
      "           0       0.84      0.84      0.84      1000\n",
      "           1       0.84      0.84      0.84      1000\n",
      "\n",
      "    accuracy                           0.84      2000\n",
      "   macro avg       0.84      0.84      0.84      2000\n",
      "weighted avg       0.84      0.84      0.84      2000\n",
      "\n"
     ]
    }
   ],
   "source": [
    "from sklearn.metrics import classification_report, accuracy_score, precision_recall_fscore_support\n",
    "import matplotlib.pyplot as plt\n",
    "\n",
    "# Get predictions on test set\n",
    "predictions = trainer.predict(test_data_tokenized)\n",
    "\n",
    "# Extract logits, true labels, and predicted labels\n",
    "logits = predictions.predictions\n",
    "labels = predictions.label_ids\n",
    "predicted_labels = logits.argmax(axis=-1)\n",
    "\n",
    "# Compute metrics\n",
    "accuracy = accuracy_score(labels, predicted_labels)\n",
    "precision, recall, f1, _ = precision_recall_fscore_support(labels, predicted_labels, average='weighted')\n",
    "\n",
    "# Print metrics\n",
    "print(f\"Accuracy: {accuracy:.2f}\")\n",
    "print(f\"Precision: {precision:.2f}\")\n",
    "print(f\"Recall: {recall:.2f}\")\n",
    "print(f\"F1 Score: {f1:.2f}\")\n",
    "print(\"\\nClassification Report:\")\n",
    "print(classification_report(labels, predicted_labels))\n"
   ]
  },
  {
   "cell_type": "code",
   "execution_count": null,
   "metadata": {},
   "outputs": [
    {
     "name": "stdout",
     "output_type": "stream",
     "text": [
      "True Positives (TP): 845\n",
      "True Negatives (TN): 843\n",
      "False Positives (FP): 157\n",
      "False Negatives (FN): 155\n"
     ]
    }
   ],
   "source": [
    "from sklearn.metrics import confusion_matrix\n",
    "\n",
    "# Compute the confusion matrix\n",
    "conf_matrix = confusion_matrix(labels, predicted_labels)\n",
    "tn, fp, fn, tp = conf_matrix.ravel()\n",
    "\n",
    "# Print confusion matrix components\n",
    "print(f\"True Positives (TP): {tp}\")\n",
    "print(f\"True Negatives (TN): {tn}\")\n",
    "print(f\"False Positives (FP): {fp}\")\n",
    "print(f\"False Negatives (FN): {fn}\")\n"
   ]
  },
  {
   "cell_type": "code",
   "execution_count": null,
   "metadata": {},
   "outputs": [
    {
     "data": {
      "image/png": "[encoded data removed]",
      "text/plain": [
       "<Figure size 800x500 with 1 Axes>"
      ]
     },
     "metadata": {},
     "output_type": "display_data"
    }
   ],
   "source": [
    "# Data for the plot\n",
    "categories = ['True Positives (TP)', 'True Negatives (TN)', 'False Positives (FP)', 'False Negatives (FN)']\n",
    "values = [tp, tn, fp, fn]\n",
    "\n",
    "# Plot\n",
    "plt.figure(figsize=(8, 5))\n",
    "plt.bar(categories, values, color=['green', 'blue', 'orange', 'red'])\n",
    "plt.title(\"Confusion Matrix Components\")\n",
    "plt.ylabel(\"Count\")\n",
    "plt.xlabel(\"Metric\")\n",
    "plt.xticks(rotation=45)\n",
    "plt.show()\n"
   ]
  },
  {
   "cell_type": "code",
   "execution_count": null,
   "metadata": {},
   "outputs": [
    {
     "data": {
      "image/png": "[encoded data removed]",
      "text/plain": [
       "<Figure size 600x600 with 2 Axes>"
      ]
     },
     "metadata": {},
     "output_type": "display_data"
    }
   ],
   "source": [
    "import seaborn as sns\n",
    "import numpy as np\n",
    "\n",
    "# Normalize the confusion matrix for better interpretability\n",
    "conf_matrix_normalized = conf_matrix.astype('float') / conf_matrix.sum(axis=1)[:, np.newaxis]\n",
    "\n",
    "# Plot heatmap\n",
    "plt.figure(figsize=(6, 6))\n",
    "sns.heatmap(conf_matrix_normalized, annot=True, fmt=\".2f\", cmap=\"Blues\", xticklabels=['Negative', 'Positive'], yticklabels=['Negative', 'Positive'])\n",
    "plt.title(\"Confusion Matrix (Normalized)\")\n",
    "plt.ylabel(\"Actual Labels\")\n",
    "plt.xlabel(\"Predicted Labels\")\n",
    "plt.show()\n"
   ]
  },
  {
   "cell_type": "code",
   "execution_count": null,
   "metadata": {},
   "outputs": [
    {
     "data": {
      "image/png": "[encoded data removed]",
      "text/plain": [
       "<Figure size 600x600 with 2 Axes>"
      ]
     },
     "metadata": {},
     "output_type": "display_data"
    }
   ],
   "source": [
    "# Plot confusion matrix heatmap\n",
    "plt.figure(figsize=(6, 6))\n",
    "sns.heatmap(conf_matrix, annot=True, fmt=\"d\", cmap=\"Blues\", xticklabels=['Negative', 'Positive'], yticklabels=['Negative', 'Positive'])\n",
    "\n",
    "# Add titles and labels\n",
    "plt.title(\"Confusion Matrix (Raw Counts)\")\n",
    "plt.ylabel(\"Actual Labels\")\n",
    "plt.xlabel(\"Predicted Labels\")\n",
    "plt.show()\n"
   ]
  },
  {
   "cell_type": "markdown",
   "metadata": {},
   "source": [
    "## Analyze Worst Logits\n",
    "To analyze the least confident predictions (e.g., closest to the decision boundary), find the logits with minimal absolute differences between the two highest values:"
   ]
  },
  {
   "cell_type": "code",
   "execution_count": null,
   "metadata": {},
   "outputs": [
    {
     "name": "stdout",
     "output_type": "stream",
     "text": [
      "Text: Earnest effort which achieves some success to adapt the classic Odyssey story to a '30's nostalgia period piece. The adventurers this time are escaped convicts, wandering about the Depression afflicted South bungling their way into trouble.<br /><br />The greatest strength of the film is the wonderful music soundtrack, effectively evoking not only the era that this is set in, but the spiritual references that run rampant in the film. Besides its value to the tone of the movie, the music is just plain fun to listen to.<br /><br />What cripples the film is that the characters really aren't that likable. In a comedy, you need that element in order to have fun along with them in their misadventures. Instead, we have a bunch of selfish, arrogant, soulless, mean spirited nobodies who really have no positive points at all. They're not imposing enough to make you hate them either, so it's hard to relate to them at all. They're offered up as clowns, but like people who put clown makeup on and march in parades, they just aren't funny.<br /><br />Like the story that inspired it, the movie takes these guys on an \"odyssey,\" encountering a variety of symbolic (some even mystical) characters. Everybody is stamped with offensive stereotypes, the operative word being \"stupid.\" People are mocked right and left, and consequently, no one is left being particularly interesting or appealing. The movie doesn't like its own characters, and it doesn't let you like them, either.<br /><br />Riverside baptisms, beautiful sirens, stolen cars, fistfights, radio preachers, people being whipped with sticks; all are thrown at you in disjointed fashion. Some evoke a few laughs, others confuse or bore you. I did laugh when a nerdy guy beat the snot out of an especially obnoxious lead character. But there were a lot more pointlessly gratuitous scenes; an example: some '30's Dillinger-type guy strafes cows with a tommy-gun. Comedy? Symbolism? No; just mindless violence, which detracts from the intellectual nature of the original source material this story draws upon.<br /><br />Other adaptations of the Odyssey are much better. Unless you're a George Clooney fan, rent something else. But buy the soundtrack CD; the music is great.\n",
      "True Label: 0, Predicted: 1\n",
      "Logits: [-3.6200128  3.5784073]\n",
      "Confidence Gap: 7.19842004776001\n"
     ]
    }
   ],
   "source": [
    "# Calculate confidence gap\n",
    "confidence_gaps = np.abs(logits[:, 0] - logits[:, 1])\n",
    "\n",
    "# Identify incorrect predictions\n",
    "incorrect_indices = [i for i, (true, pred) in enumerate(zip(labels, predicted_labels)) if true != pred]\n",
    "\n",
    "# Filter for incorrect predictions and their confidence gaps\n",
    "incorrect_gaps = [(idx, confidence_gaps[idx]) for idx in incorrect_indices]\n",
    "\n",
    "# Find the index of the incorrect prediction with the largest confidence gap\n",
    "if incorrect_gaps:\n",
    "    worst_idx, max_gap = max(incorrect_gaps, key=lambda x: x[1])\n",
    "\n",
    "    # Print details of the worst misclassification\n",
    "    worst_idx = int(worst_idx)  # Ensure compatibility with HuggingFace datasets\n",
    "    print(f\"Text: {test_data[worst_idx]['text']}\")\n",
    "    print(f\"True Label: {labels[worst_idx]}, Predicted: {predicted_labels[worst_idx]}\")\n",
    "    print(f\"Logits: {logits[worst_idx]}\")\n",
    "    print(f\"Confidence Gap: {max_gap}\")\n",
    "else:\n",
    "    print(\"No incorrect predictions found.\")\n"
   ]
  },
  {
   "cell_type": "markdown",
   "metadata": {},
   "source": [
    "# Save the Model (not required- saved using MLFLOW)"
   ]
  },
  {
   "cell_type": "markdown",
   "metadata": {},
   "source": [
    " Use Hugging Face's built-in save_pretrained() method to save the model, tokenizer, and configuration files.\n",
    "\n",
    "\n",
    " This will save:\n",
    "\n",
    "* The model weights (pytorch_model.bin).\n",
    "* The model configuration (config.json).\n",
    "* The tokenizer files (vocab.txt, tokenizer.json, etc.)."
   ]
  },
  {
   "cell_type": "code",
   "execution_count": null,
   "metadata": {},
   "outputs": [],
   "source": []
  },
  {
   "cell_type": "markdown",
   "metadata": {},
   "source": [
    "Saving the Best Checkpoint- If you've enabled load_best_model_at_end=True in your training arguments, you can save the best checkpoint:"
   ]
  },
  {
   "cell_type": "code",
   "execution_count": 34,
   "metadata": {},
   "outputs": [
    {
     "ename": "NameError",
     "evalue": "name 'trainer' is not defined",
     "output_type": "error",
     "traceback": [
      "\u001b[0;31m---------------------------------------------------------------------------\u001b[0m",
      "\u001b[0;31mNameError\u001b[0m                                 Traceback (most recent call last)",
      "Cell \u001b[0;32mIn[34], line 1\u001b[0m\n\u001b[0;32m----> 1\u001b[0m best_checkpoint_dir \u001b[38;5;241m=\u001b[39m trainer\u001b[38;5;241m.\u001b[39mstate\u001b[38;5;241m.\u001b[39mbest_model_checkpoint\n\u001b[1;32m      2\u001b[0m trainer\u001b[38;5;241m.\u001b[39msave_model(\u001b[38;5;124mf\u001b[39m\u001b[38;5;124m\"\u001b[39m\u001b[38;5;132;01m{\u001b[39;00mbest_checkpoint_dir\u001b[38;5;132;01m}\u001b[39;00m\u001b[38;5;124m/final_best_model\u001b[39m\u001b[38;5;124m\"\u001b[39m)\n",
      "\u001b[0;31mNameError\u001b[0m: name 'trainer' is not defined"
     ]
    }
   ],
   "source": [
    "best_checkpoint_dir = trainer.state.best_model_checkpoint\n",
    "trainer.save_model(f\"{best_checkpoint_dir}/final_best_model\")\n"
   ]
  },
  {
   "cell_type": "markdown",
   "metadata": {},
   "source": [
    "# Checking the loading of model for API Use"
   ]
  },
  {
   "cell_type": "markdown",
   "metadata": {},
   "source": [
    "## Generalization for Inference:\n",
    "\n",
    "AutoModelForSequenceClassification is a generic model class that automatically detects and loads a model architecture (e.g., BERT, RoBERTa, etc.) from a saved checkpoint, assuming it was fine-tuned for classification tasks.\n",
    "This ensures that the code for inference is model-agnostic, meaning you can easily switch to another pre-trained or fine-tuned model without changing the loading code."
   ]
  },
  {
   "cell_type": "code",
   "execution_count": null,
   "metadata": {},
   "outputs": [
    {
     "ename": "OSError",
     "evalue": "[Errno 30] Read-only file system: '/C:'",
     "output_type": "error",
     "traceback": [
      "\u001b[0;31m---------------------------------------------------------------------------\u001b[0m",
      "\u001b[0;31mOSError\u001b[0m                                   Traceback (most recent call last)",
      "Cell \u001b[0;32mIn[33], line 11\u001b[0m\n\u001b[1;32m      8\u001b[0m logged_model \u001b[38;5;241m=\u001b[39m \u001b[38;5;124m\"\u001b[39m\u001b[38;5;124mmodels:/SentimentAnalysisModel/1\u001b[39m\u001b[38;5;124m\"\u001b[39m  \u001b[38;5;66;03m# Replace with your model's name and version\u001b[39;00m\n\u001b[1;32m     10\u001b[0m \u001b[38;5;66;03m# Load the model as a PyFunc model\u001b[39;00m\n\u001b[0;32m---> 11\u001b[0m model \u001b[38;5;241m=\u001b[39m mlflow\u001b[38;5;241m.\u001b[39mpyfunc\u001b[38;5;241m.\u001b[39mload_model(logged_model)\n\u001b[1;32m     14\u001b[0m tokenizer \u001b[38;5;241m=\u001b[39m AutoTokenizer\u001b[38;5;241m.\u001b[39mfrom_pretrained(\u001b[38;5;124m\"\u001b[39m\u001b[38;5;124m./final_model\u001b[39m\u001b[38;5;124m\"\u001b[39m)\n\u001b[1;32m     16\u001b[0m \u001b[38;5;66;03m# Example usage\u001b[39;00m\n",
      "File \u001b[0;32m~/opt/anaconda3/envs/genai_app_env/lib/python3.12/site-packages/mlflow/tracing/provider.py:387\u001b[0m, in \u001b[0;36mtrace_disabled.<locals>.wrapper\u001b[0;34m(*args, **kwargs)\u001b[0m\n\u001b[1;32m    385\u001b[0m             enable()\n\u001b[1;32m    386\u001b[0m     \u001b[38;5;28;01melse\u001b[39;00m:\n\u001b[0;32m--> 387\u001b[0m         is_func_called, result \u001b[38;5;241m=\u001b[39m \u001b[38;5;28;01mTrue\u001b[39;00m, f(\u001b[38;5;241m*\u001b[39margs, \u001b[38;5;241m*\u001b[39m\u001b[38;5;241m*\u001b[39mkwargs)\n\u001b[1;32m    388\u001b[0m \u001b[38;5;66;03m# We should only catch the exception from disable() and enable()\u001b[39;00m\n\u001b[1;32m    389\u001b[0m \u001b[38;5;66;03m# and let other exceptions propagate.\u001b[39;00m\n\u001b[1;32m    390\u001b[0m \u001b[38;5;28;01mexcept\u001b[39;00m MlflowTracingException \u001b[38;5;28;01mas\u001b[39;00m e:\n",
      "File \u001b[0;32m~/opt/anaconda3/envs/genai_app_env/lib/python3.12/site-packages/mlflow/pyfunc/__init__.py:1086\u001b[0m, in \u001b[0;36mload_model\u001b[0;34m(model_uri, suppress_warnings, dst_path, model_config)\u001b[0m\n\u001b[1;32m   1082\u001b[0m         entity_list\u001b[38;5;241m.\u001b[39mappend(Entity(job\u001b[38;5;241m=\u001b[39mjob_entity))\n\u001b[1;32m   1084\u001b[0m     lineage_header_info \u001b[38;5;241m=\u001b[39m LineageHeaderInfo(entities\u001b[38;5;241m=\u001b[39mentity_list) \u001b[38;5;28;01mif\u001b[39;00m entity_list \u001b[38;5;28;01melse\u001b[39;00m \u001b[38;5;28;01mNone\u001b[39;00m\n\u001b[0;32m-> 1086\u001b[0m local_path \u001b[38;5;241m=\u001b[39m _download_artifact_from_uri(\n\u001b[1;32m   1087\u001b[0m     artifact_uri\u001b[38;5;241m=\u001b[39mmodel_uri, output_path\u001b[38;5;241m=\u001b[39mdst_path, lineage_header_info\u001b[38;5;241m=\u001b[39mlineage_header_info\n\u001b[1;32m   1088\u001b[0m )\n\u001b[1;32m   1090\u001b[0m \u001b[38;5;28;01mif\u001b[39;00m \u001b[38;5;129;01mnot\u001b[39;00m suppress_warnings:\n\u001b[1;32m   1091\u001b[0m     model_requirements \u001b[38;5;241m=\u001b[39m _get_pip_requirements_from_model_path(local_path)\n",
      "File \u001b[0;32m~/opt/anaconda3/envs/genai_app_env/lib/python3.12/site-packages/mlflow/tracking/artifact_utils.py:108\u001b[0m, in \u001b[0;36m_download_artifact_from_uri\u001b[0;34m(artifact_uri, output_path, lineage_header_info)\u001b[0m\n\u001b[1;32m    100\u001b[0m \u001b[38;5;250m\u001b[39m\u001b[38;5;124;03m\"\"\"\u001b[39;00m\n\u001b[1;32m    101\u001b[0m \u001b[38;5;124;03mArgs:\u001b[39;00m\n\u001b[1;32m    102\u001b[0m \u001b[38;5;124;03m    artifact_uri: The *absolute* URI of the artifact to download.\u001b[39;00m\n\u001b[0;32m   (...)\u001b[0m\n\u001b[1;32m    105\u001b[0m \u001b[38;5;124;03m    lineage_header_info: The model lineage header info to be consumed by lineage services.\u001b[39;00m\n\u001b[1;32m    106\u001b[0m \u001b[38;5;124;03m\"\"\"\u001b[39;00m\n\u001b[1;32m    107\u001b[0m root_uri, artifact_path \u001b[38;5;241m=\u001b[39m _get_root_uri_and_artifact_path(artifact_uri)\n\u001b[0;32m--> 108\u001b[0m repo \u001b[38;5;241m=\u001b[39m get_artifact_repository(artifact_uri\u001b[38;5;241m=\u001b[39mroot_uri)\n\u001b[1;32m    110\u001b[0m \u001b[38;5;28;01mif\u001b[39;00m \u001b[38;5;28misinstance\u001b[39m(repo, ModelsArtifactRepository):\n\u001b[1;32m    111\u001b[0m     \u001b[38;5;28;01mreturn\u001b[39;00m repo\u001b[38;5;241m.\u001b[39mdownload_artifacts(\n\u001b[1;32m    112\u001b[0m         artifact_path\u001b[38;5;241m=\u001b[39martifact_path,\n\u001b[1;32m    113\u001b[0m         dst_path\u001b[38;5;241m=\u001b[39moutput_path,\n\u001b[1;32m    114\u001b[0m         lineage_header_info\u001b[38;5;241m=\u001b[39mlineage_header_info,\n\u001b[1;32m    115\u001b[0m     )\n",
      "File \u001b[0;32m~/opt/anaconda3/envs/genai_app_env/lib/python3.12/site-packages/mlflow/store/artifact/artifact_repository_registry.py:131\u001b[0m, in \u001b[0;36mget_artifact_repository\u001b[0;34m(artifact_uri)\u001b[0m\n\u001b[1;32m    118\u001b[0m \u001b[38;5;28;01mdef\u001b[39;00m \u001b[38;5;21mget_artifact_repository\u001b[39m(artifact_uri: \u001b[38;5;28mstr\u001b[39m) \u001b[38;5;241m-\u001b[39m\u001b[38;5;241m>\u001b[39m ArtifactRepository:\n\u001b[1;32m    119\u001b[0m \u001b[38;5;250m    \u001b[39m\u001b[38;5;124;03m\"\"\"\u001b[39;00m\n\u001b[1;32m    120\u001b[0m \u001b[38;5;124;03m    Get an artifact repository from the registry based on the scheme of artifact_uri\u001b[39;00m\n\u001b[1;32m    121\u001b[0m \n\u001b[0;32m   (...)\u001b[0m\n\u001b[1;32m    129\u001b[0m \u001b[38;5;124;03m        requirements.\u001b[39;00m\n\u001b[1;32m    130\u001b[0m \u001b[38;5;124;03m    \"\"\"\u001b[39;00m\n\u001b[0;32m--> 131\u001b[0m     \u001b[38;5;28;01mreturn\u001b[39;00m _artifact_repository_registry\u001b[38;5;241m.\u001b[39mget_artifact_repository(artifact_uri)\n",
      "File \u001b[0;32m~/opt/anaconda3/envs/genai_app_env/lib/python3.12/site-packages/mlflow/store/artifact/artifact_repository_registry.py:76\u001b[0m, in \u001b[0;36mArtifactRepositoryRegistry.get_artifact_repository\u001b[0;34m(self, artifact_uri)\u001b[0m\n\u001b[1;32m     71\u001b[0m \u001b[38;5;28;01mif\u001b[39;00m repository \u001b[38;5;129;01mis\u001b[39;00m \u001b[38;5;28;01mNone\u001b[39;00m:\n\u001b[1;32m     72\u001b[0m     \u001b[38;5;28;01mraise\u001b[39;00m MlflowException(\n\u001b[1;32m     73\u001b[0m         \u001b[38;5;124mf\u001b[39m\u001b[38;5;124m\"\u001b[39m\u001b[38;5;124mCould not find a registered artifact repository for: \u001b[39m\u001b[38;5;132;01m{\u001b[39;00martifact_uri\u001b[38;5;132;01m}\u001b[39;00m\u001b[38;5;124m. \u001b[39m\u001b[38;5;124m\"\u001b[39m\n\u001b[1;32m     74\u001b[0m         \u001b[38;5;124mf\u001b[39m\u001b[38;5;124m\"\u001b[39m\u001b[38;5;124mCurrently registered schemes are: \u001b[39m\u001b[38;5;132;01m{\u001b[39;00m\u001b[38;5;28mlist\u001b[39m(\u001b[38;5;28mself\u001b[39m\u001b[38;5;241m.\u001b[39m_registry\u001b[38;5;241m.\u001b[39mkeys())\u001b[38;5;132;01m}\u001b[39;00m\u001b[38;5;124m\"\u001b[39m\n\u001b[1;32m     75\u001b[0m     )\n\u001b[0;32m---> 76\u001b[0m \u001b[38;5;28;01mreturn\u001b[39;00m repository(artifact_uri)\n",
      "File \u001b[0;32m~/opt/anaconda3/envs/genai_app_env/lib/python3.12/site-packages/mlflow/store/artifact/models_artifact_repo.py:69\u001b[0m, in \u001b[0;36mModelsArtifactRepository.__init__\u001b[0;34m(self, artifact_uri)\u001b[0m\n\u001b[1;32m     63\u001b[0m     \u001b[38;5;28mself\u001b[39m\u001b[38;5;241m.\u001b[39mmodel_version \u001b[38;5;241m=\u001b[39m \u001b[38;5;28mself\u001b[39m\u001b[38;5;241m.\u001b[39mrepo\u001b[38;5;241m.\u001b[39mmodel_version\n\u001b[1;32m     64\u001b[0m \u001b[38;5;28;01melse\u001b[39;00m:\n\u001b[1;32m     65\u001b[0m     (\n\u001b[1;32m     66\u001b[0m         \u001b[38;5;28mself\u001b[39m\u001b[38;5;241m.\u001b[39mmodel_name,\n\u001b[1;32m     67\u001b[0m         \u001b[38;5;28mself\u001b[39m\u001b[38;5;241m.\u001b[39mmodel_version,\n\u001b[1;32m     68\u001b[0m         underlying_uri,\n\u001b[0;32m---> 69\u001b[0m     ) \u001b[38;5;241m=\u001b[39m ModelsArtifactRepository\u001b[38;5;241m.\u001b[39m_get_model_uri_infos(artifact_uri)\n\u001b[1;32m     70\u001b[0m     \u001b[38;5;28mself\u001b[39m\u001b[38;5;241m.\u001b[39mrepo \u001b[38;5;241m=\u001b[39m get_artifact_repository(underlying_uri)\n",
      "File \u001b[0;32m~/opt/anaconda3/envs/genai_app_env/lib/python3.12/site-packages/mlflow/store/artifact/models_artifact_repo.py:106\u001b[0m, in \u001b[0;36mModelsArtifactRepository._get_model_uri_infos\u001b[0;34m(uri)\u001b[0m\n\u001b[1;32m    101\u001b[0m \u001b[38;5;28;01mfrom\u001b[39;00m \u001b[38;5;21;01mmlflow\u001b[39;00m \u001b[38;5;28;01mimport\u001b[39;00m MlflowClient\n\u001b[1;32m    103\u001b[0m databricks_profile_uri \u001b[38;5;241m=\u001b[39m (\n\u001b[1;32m    104\u001b[0m     get_databricks_profile_uri_from_artifact_uri(uri) \u001b[38;5;129;01mor\u001b[39;00m mlflow\u001b[38;5;241m.\u001b[39mget_registry_uri()\n\u001b[1;32m    105\u001b[0m )\n\u001b[0;32m--> 106\u001b[0m client \u001b[38;5;241m=\u001b[39m MlflowClient(registry_uri\u001b[38;5;241m=\u001b[39mdatabricks_profile_uri)\n\u001b[1;32m    107\u001b[0m name, version \u001b[38;5;241m=\u001b[39m get_model_name_and_version(client, uri)\n\u001b[1;32m    108\u001b[0m download_uri \u001b[38;5;241m=\u001b[39m client\u001b[38;5;241m.\u001b[39mget_model_version_download_uri(name, version)\n",
      "File \u001b[0;32m~/opt/anaconda3/envs/genai_app_env/lib/python3.12/site-packages/mlflow/tracking/client.py:134\u001b[0m, in \u001b[0;36mMlflowClient.__init__\u001b[0;34m(self, tracking_uri, registry_uri)\u001b[0m\n\u001b[1;32m    132\u001b[0m final_tracking_uri \u001b[38;5;241m=\u001b[39m utils\u001b[38;5;241m.\u001b[39m_resolve_tracking_uri(tracking_uri)\n\u001b[1;32m    133\u001b[0m \u001b[38;5;28mself\u001b[39m\u001b[38;5;241m.\u001b[39m_registry_uri \u001b[38;5;241m=\u001b[39m registry_utils\u001b[38;5;241m.\u001b[39m_resolve_registry_uri(registry_uri, tracking_uri)\n\u001b[0;32m--> 134\u001b[0m \u001b[38;5;28mself\u001b[39m\u001b[38;5;241m.\u001b[39m_tracking_client \u001b[38;5;241m=\u001b[39m TrackingServiceClient(final_tracking_uri)\n",
      "File \u001b[0;32m~/opt/anaconda3/envs/genai_app_env/lib/python3.12/site-packages/mlflow/tracking/_tracking_service/client.py:83\u001b[0m, in \u001b[0;36mTrackingServiceClient.__init__\u001b[0;34m(self, tracking_uri)\u001b[0m\n\u001b[1;32m     78\u001b[0m \u001b[38;5;28mself\u001b[39m\u001b[38;5;241m.\u001b[39mtracking_uri \u001b[38;5;241m=\u001b[39m tracking_uri\n\u001b[1;32m     79\u001b[0m \u001b[38;5;66;03m# NB: Fetch the tracking store (`self.store`) upon client initialization to ensure that\u001b[39;00m\n\u001b[1;32m     80\u001b[0m \u001b[38;5;66;03m# the tracking URI is valid and the store can be properly resolved. We define `store` as a\u001b[39;00m\n\u001b[1;32m     81\u001b[0m \u001b[38;5;66;03m# property method to ensure that the client is serializable, even if the store is not\u001b[39;00m\n\u001b[1;32m     82\u001b[0m \u001b[38;5;66;03m# self.store\u001b[39;00m\n\u001b[0;32m---> 83\u001b[0m \u001b[38;5;28mself\u001b[39m\u001b[38;5;241m.\u001b[39mstore\n",
      "File \u001b[0;32m~/opt/anaconda3/envs/genai_app_env/lib/python3.12/site-packages/mlflow/tracking/_tracking_service/client.py:87\u001b[0m, in \u001b[0;36mTrackingServiceClient.store\u001b[0;34m(self)\u001b[0m\n\u001b[1;32m     85\u001b[0m \u001b[38;5;129m@property\u001b[39m\n\u001b[1;32m     86\u001b[0m \u001b[38;5;28;01mdef\u001b[39;00m \u001b[38;5;21mstore\u001b[39m(\u001b[38;5;28mself\u001b[39m):\n\u001b[0;32m---> 87\u001b[0m     \u001b[38;5;28;01mreturn\u001b[39;00m utils\u001b[38;5;241m.\u001b[39m_get_store(\u001b[38;5;28mself\u001b[39m\u001b[38;5;241m.\u001b[39mtracking_uri)\n",
      "File \u001b[0;32m~/opt/anaconda3/envs/genai_app_env/lib/python3.12/site-packages/mlflow/tracking/_tracking_service/utils.py:210\u001b[0m, in \u001b[0;36m_get_store\u001b[0;34m(store_uri, artifact_uri)\u001b[0m\n\u001b[1;32m    209\u001b[0m \u001b[38;5;28;01mdef\u001b[39;00m \u001b[38;5;21m_get_store\u001b[39m(store_uri\u001b[38;5;241m=\u001b[39m\u001b[38;5;28;01mNone\u001b[39;00m, artifact_uri\u001b[38;5;241m=\u001b[39m\u001b[38;5;28;01mNone\u001b[39;00m):\n\u001b[0;32m--> 210\u001b[0m     \u001b[38;5;28;01mreturn\u001b[39;00m _tracking_store_registry\u001b[38;5;241m.\u001b[39mget_store(store_uri, artifact_uri)\n",
      "File \u001b[0;32m~/opt/anaconda3/envs/genai_app_env/lib/python3.12/site-packages/mlflow/tracking/_tracking_service/registry.py:45\u001b[0m, in \u001b[0;36mTrackingStoreRegistry.get_store\u001b[0;34m(self, store_uri, artifact_uri)\u001b[0m\n\u001b[1;32m     42\u001b[0m \u001b[38;5;28;01mfrom\u001b[39;00m \u001b[38;5;21;01mmlflow\u001b[39;00m\u001b[38;5;21;01m.\u001b[39;00m\u001b[38;5;21;01mtracking\u001b[39;00m\u001b[38;5;21;01m.\u001b[39;00m\u001b[38;5;21;01m_tracking_service\u001b[39;00m \u001b[38;5;28;01mimport\u001b[39;00m utils\n\u001b[1;32m     44\u001b[0m resolved_store_uri \u001b[38;5;241m=\u001b[39m utils\u001b[38;5;241m.\u001b[39m_resolve_tracking_uri(store_uri)\n\u001b[0;32m---> 45\u001b[0m \u001b[38;5;28;01mreturn\u001b[39;00m \u001b[38;5;28mself\u001b[39m\u001b[38;5;241m.\u001b[39m_get_store_with_resolved_uri(resolved_store_uri, artifact_uri)\n",
      "File \u001b[0;32m~/opt/anaconda3/envs/genai_app_env/lib/python3.12/site-packages/mlflow/tracking/_tracking_service/registry.py:56\u001b[0m, in \u001b[0;36mTrackingStoreRegistry._get_store_with_resolved_uri\u001b[0;34m(self, resolved_store_uri, artifact_uri)\u001b[0m\n\u001b[1;32m     54\u001b[0m \u001b[38;5;28;01mwith\u001b[39;00m _building_store_lock:\n\u001b[1;32m     55\u001b[0m     builder \u001b[38;5;241m=\u001b[39m \u001b[38;5;28mself\u001b[39m\u001b[38;5;241m.\u001b[39mget_store_builder(resolved_store_uri)\n\u001b[0;32m---> 56\u001b[0m     \u001b[38;5;28;01mreturn\u001b[39;00m builder(store_uri\u001b[38;5;241m=\u001b[39mresolved_store_uri, artifact_uri\u001b[38;5;241m=\u001b[39martifact_uri)\n",
      "File \u001b[0;32m~/opt/anaconda3/envs/genai_app_env/lib/python3.12/site-packages/mlflow/tracking/_tracking_service/utils.py:134\u001b[0m, in \u001b[0;36m_get_file_store\u001b[0;34m(store_uri, **_)\u001b[0m\n\u001b[1;32m    133\u001b[0m \u001b[38;5;28;01mdef\u001b[39;00m \u001b[38;5;21m_get_file_store\u001b[39m(store_uri, \u001b[38;5;241m*\u001b[39m\u001b[38;5;241m*\u001b[39m_):\n\u001b[0;32m--> 134\u001b[0m     \u001b[38;5;28;01mreturn\u001b[39;00m FileStore(store_uri, store_uri)\n",
      "File \u001b[0;32m~/opt/anaconda3/envs/genai_app_env/lib/python3.12/site-packages/mlflow/store/tracking/file_store.py:192\u001b[0m, in \u001b[0;36mFileStore.__init__\u001b[0;34m(self, root_directory, artifact_root_uri)\u001b[0m\n\u001b[1;32m    190\u001b[0m \u001b[38;5;66;03m# Create root directory if needed\u001b[39;00m\n\u001b[1;32m    191\u001b[0m \u001b[38;5;28;01mif\u001b[39;00m \u001b[38;5;129;01mnot\u001b[39;00m exists(\u001b[38;5;28mself\u001b[39m\u001b[38;5;241m.\u001b[39mroot_directory):\n\u001b[0;32m--> 192\u001b[0m     \u001b[38;5;28mself\u001b[39m\u001b[38;5;241m.\u001b[39m_create_default_experiment()\n\u001b[1;32m    193\u001b[0m \u001b[38;5;66;03m# Create trash folder if needed\u001b[39;00m\n\u001b[1;32m    194\u001b[0m \u001b[38;5;28;01mif\u001b[39;00m \u001b[38;5;129;01mnot\u001b[39;00m exists(\u001b[38;5;28mself\u001b[39m\u001b[38;5;241m.\u001b[39mtrash_folder):\n",
      "File \u001b[0;32m~/opt/anaconda3/envs/genai_app_env/lib/python3.12/site-packages/mlflow/store/tracking/file_store.py:198\u001b[0m, in \u001b[0;36mFileStore._create_default_experiment\u001b[0;34m(self)\u001b[0m\n\u001b[1;32m    197\u001b[0m \u001b[38;5;28;01mdef\u001b[39;00m \u001b[38;5;21m_create_default_experiment\u001b[39m(\u001b[38;5;28mself\u001b[39m):\n\u001b[0;32m--> 198\u001b[0m     mkdir(\u001b[38;5;28mself\u001b[39m\u001b[38;5;241m.\u001b[39mroot_directory)\n\u001b[1;32m    199\u001b[0m     \u001b[38;5;28mself\u001b[39m\u001b[38;5;241m.\u001b[39m_create_experiment_with_id(\n\u001b[1;32m    200\u001b[0m         name\u001b[38;5;241m=\u001b[39mExperiment\u001b[38;5;241m.\u001b[39mDEFAULT_EXPERIMENT_NAME,\n\u001b[1;32m    201\u001b[0m         experiment_id\u001b[38;5;241m=\u001b[39mFileStore\u001b[38;5;241m.\u001b[39mDEFAULT_EXPERIMENT_ID,\n\u001b[1;32m    202\u001b[0m         artifact_uri\u001b[38;5;241m=\u001b[39m\u001b[38;5;28;01mNone\u001b[39;00m,\n\u001b[1;32m    203\u001b[0m         tags\u001b[38;5;241m=\u001b[39m\u001b[38;5;28;01mNone\u001b[39;00m,\n\u001b[1;32m    204\u001b[0m     )\n",
      "File \u001b[0;32m~/opt/anaconda3/envs/genai_app_env/lib/python3.12/site-packages/mlflow/utils/file_utils.py:211\u001b[0m, in \u001b[0;36mmkdir\u001b[0;34m(root, name)\u001b[0m\n\u001b[1;32m    209\u001b[0m \u001b[38;5;28;01mexcept\u001b[39;00m \u001b[38;5;167;01mOSError\u001b[39;00m \u001b[38;5;28;01mas\u001b[39;00m e:\n\u001b[1;32m    210\u001b[0m     \u001b[38;5;28;01mif\u001b[39;00m e\u001b[38;5;241m.\u001b[39merrno \u001b[38;5;241m!=\u001b[39m errno\u001b[38;5;241m.\u001b[39mEEXIST \u001b[38;5;129;01mor\u001b[39;00m \u001b[38;5;129;01mnot\u001b[39;00m os\u001b[38;5;241m.\u001b[39mpath\u001b[38;5;241m.\u001b[39misdir(target):\n\u001b[0;32m--> 211\u001b[0m         \u001b[38;5;28;01mraise\u001b[39;00m e\n\u001b[1;32m    212\u001b[0m \u001b[38;5;28;01mreturn\u001b[39;00m target\n",
      "File \u001b[0;32m~/opt/anaconda3/envs/genai_app_env/lib/python3.12/site-packages/mlflow/utils/file_utils.py:208\u001b[0m, in \u001b[0;36mmkdir\u001b[0;34m(root, name)\u001b[0m\n\u001b[1;32m    206\u001b[0m target \u001b[38;5;241m=\u001b[39m os\u001b[38;5;241m.\u001b[39mpath\u001b[38;5;241m.\u001b[39mjoin(root, name) \u001b[38;5;28;01mif\u001b[39;00m name \u001b[38;5;129;01mis\u001b[39;00m \u001b[38;5;129;01mnot\u001b[39;00m \u001b[38;5;28;01mNone\u001b[39;00m \u001b[38;5;28;01melse\u001b[39;00m root\n\u001b[1;32m    207\u001b[0m \u001b[38;5;28;01mtry\u001b[39;00m:\n\u001b[0;32m--> 208\u001b[0m     os\u001b[38;5;241m.\u001b[39mmakedirs(target, exist_ok\u001b[38;5;241m=\u001b[39m\u001b[38;5;28;01mTrue\u001b[39;00m)\n\u001b[1;32m    209\u001b[0m \u001b[38;5;28;01mexcept\u001b[39;00m \u001b[38;5;167;01mOSError\u001b[39;00m \u001b[38;5;28;01mas\u001b[39;00m e:\n\u001b[1;32m    210\u001b[0m     \u001b[38;5;28;01mif\u001b[39;00m e\u001b[38;5;241m.\u001b[39merrno \u001b[38;5;241m!=\u001b[39m errno\u001b[38;5;241m.\u001b[39mEEXIST \u001b[38;5;129;01mor\u001b[39;00m \u001b[38;5;129;01mnot\u001b[39;00m os\u001b[38;5;241m.\u001b[39mpath\u001b[38;5;241m.\u001b[39misdir(target):\n",
      "File \u001b[0;32m<frozen os>:215\u001b[0m, in \u001b[0;36mmakedirs\u001b[0;34m(name, mode, exist_ok)\u001b[0m\n",
      "File \u001b[0;32m<frozen os>:215\u001b[0m, in \u001b[0;36mmakedirs\u001b[0;34m(name, mode, exist_ok)\u001b[0m\n",
      "    \u001b[0;31m[... skipping similar frames: makedirs at line 215 (4 times)]\u001b[0m\n",
      "File \u001b[0;32m<frozen os>:215\u001b[0m, in \u001b[0;36mmakedirs\u001b[0;34m(name, mode, exist_ok)\u001b[0m\n",
      "File \u001b[0;32m<frozen os>:225\u001b[0m, in \u001b[0;36mmakedirs\u001b[0;34m(name, mode, exist_ok)\u001b[0m\n",
      "\u001b[0;31mOSError\u001b[0m: [Errno 30] Read-only file system: '/C:'"
     ]
    }
   ],
   "source": [
    "from transformers import AutoModelForSequenceClassification, AutoTokenizer\n",
    "\n",
    "# Load model and tokenizer\n",
    "# Set MLflow tracking URI to the local mlruns directory\n",
    "mlflow.set_tracking_uri(\"file:///C:/Users/s0n0611/Documents/Data Science Work/Github/the-incredible-pytorch/mlruns\")\n",
    "\n",
    "# Update this line with the correct model URI\n",
    "logged_model = \"models:/SentimentAnalysisModel/1\"  # Replace with your model's name and version\n",
    "\n",
    "# Load the model as a PyFunc model\n",
    "model = mlflow.pyfunc.load_model(logged_model)\n",
    "\n",
    "\n",
    "tokenizer = AutoTokenizer.from_pretrained(\"./final_model\")\n",
    "\n",
    "# Example usage\n",
    "text = \"This movie was great!\"\n",
    "inputs = tokenizer(text, return_tensors=\"pt\")\n",
    "outputs = model(**inputs)\n",
    "predicted_class = outputs.logits.argmax().item()\n",
    "\n",
    "print(\"PredictedClass\", predicted_class)"
   ]
  },
  {
   "cell_type": "markdown",
   "metadata": {},
   "source": [
    "## Exporting to TorchScript (Optional)\n",
    "For certain APIs or deployment environments, exporting the model to TorchScript can improve performance.\n",
    "\n",
    "\n",
    "Compress Models: Use tools like ONNX or TorchScript to reduce model size and improve inference speed."
   ]
  },
  {
   "cell_type": "code",
   "execution_count": null,
   "metadata": {},
   "outputs": [],
   "source": [
    "# import torch\n",
    "\n",
    "# # Export to TorchScript\n",
    "# scripted_model = torch.jit.script(model)\n",
    "# scripted_model.save(\"./final_model/model.pt\")\n"
   ]
  },
  {
   "cell_type": "markdown",
   "metadata": {},
   "source": [
    "# Integrating Saved model with API"
   ]
  },
  {
   "cell_type": "code",
   "execution_count": null,
   "metadata": {},
   "outputs": [],
   "source": [
    "from fastapi import FastAPI\n",
    "\n",
    "app = FastAPI()\n",
    "\n",
    "@app.get(\"/\")\n",
    "def read_root():\n",
    "    return {\"message\": \"Hello, World!\"}\n"
   ]
  },
  {
   "cell_type": "code",
   "execution_count": null,
   "metadata": {},
   "outputs": [],
   "source": [
    "from fastapi import FastAPI\n",
    "from transformers import AutoModelForSequenceClassification, AutoTokenizer\n",
    "import torch\n",
    "\n",
    "app = FastAPI()\n",
    "\n",
    "# Load model and tokenizer\n",
    "model = AutoModelForSequenceClassification.from_pretrained(\"./final_model\")\n",
    "tokenizer = AutoTokenizer.from_pretrained(\"./final_model\")\n",
    "\n",
    "@app.post(\"/predict/\")\n",
    "def predict(text: str):\n",
    "    inputs = tokenizer(text, return_tensors=\"pt\")\n",
    "    outputs = model(**inputs)\n",
    "    predicted_class = torch.argmax(outputs.logits, dim=-1).item()\n",
    "    return {\"text\": text, \"predicted_class\": predicted_class}\n"
   ]
  },
  {
   "cell_type": "code",
   "execution_count": null,
   "metadata": {},
   "outputs": [],
   "source": []
  },
  {
   "cell_type": "markdown",
   "metadata": {},
   "source": []
  },
  {
   "cell_type": "markdown",
   "metadata": {},
   "source": [
    "# Modular API Creation (this part to be done in app.py in the notebook location)"
   ]
  },
  {
   "cell_type": "markdown",
   "metadata": {},
   "source": [
    "We'll use FastAPI to create a lightweight API that accepts input from the UI and returns predictions from your model. FastAPI is Python-based, easy to set up, and integrates well with models like yours.\n",
    "\n"
   ]
  },
  {
   "cell_type": "code",
   "execution_count": null,
   "metadata": {},
   "outputs": [],
   "source": [
    "from fastapi import FastAPI\n",
    "from pydantic import BaseModel\n",
    "import torch\n",
    "from transformers import AutoTokenizer\n",
    "import mlflow.pyfunc\n",
    "\n",
    "# Set MLflow tracking URI to the local mlruns directory\n",
    "mlflow.set_tracking_uri(\"file:///C:/Users/s0n0611/Documents/Data Science Work/Github/the-incredible-pytorch/mlruns\")\n",
    "\n",
    "# Update this line with the correct model URI\n",
    "logged_model = \"models:/SentimentAnalysisModel/1\"  # Replace with your model's name and version\n",
    "\n",
    "# Load the model as a PyFunc model\n",
    "model = mlflow.pyfunc.load_model(logged_model)\n",
    "\n",
    "# Load tokenizer separately if needed (assuming tokenizer is stored locally)\n",
    "tokenizer = AutoTokenizer.from_pretrained(\"./final_model\")  # Adjust if tokenizer is saved differently\n",
    "\n",
    "# FastAPI application\n",
    "app = FastAPI()\n",
    "\n",
    "class TextInput(BaseModel):\n",
    "    text: str\n",
    "\n",
    "@app.post(\"/predict\")\n",
    "async def predict(input_data: TextInput):\n",
    "    # Tokenize input\n",
    "    inputs = tokenizer(input_data.text, return_tensors=\"pt\", truncation=True, padding=True)\n",
    "    \n",
    "    # Model prediction\n",
    "    logits = model.predict(inputs)  # Adjust if the model is wrapped differently in MLflow\n",
    "    predicted_class = torch.argmax(torch.tensor(logits), dim=-1).item()\n",
    "\n",
    "    # Convert numeric label to text\n",
    "    sentiment = \"Positive\" if predicted_class == 1 else \"Negative\"\n",
    "\n",
    "    return {\"prediction\": predicted_class, \"sentiment\": sentiment}"
   ]
  },
  {
   "cell_type": "code",
   "execution_count": null,
   "metadata": {},
   "outputs": [],
   "source": []
  },
  {
   "cell_type": "markdown",
   "metadata": {},
   "source": []
  },
  {
   "cell_type": "markdown",
   "metadata": {},
   "source": []
  },
  {
   "cell_type": "markdown",
   "metadata": {},
   "source": []
  },
  {
   "cell_type": "markdown",
   "metadata": {},
   "source": []
  },
  {
   "cell_type": "markdown",
   "metadata": {},
   "source": [
    "# Perform Predictions\n",
    "To make predictions on new data, tokenize the input and use the trained model:\n",
    "\n"
   ]
  },
  {
   "cell_type": "code",
   "execution_count": null,
   "metadata": {},
   "outputs": [
    {
     "name": "stdout",
     "output_type": "stream",
     "text": [
      "tensor([1])\n"
     ]
    }
   ],
   "source": [
    "inputs = tokenizer(\n",
    "    [\"Example sentence for classification.\"],\n",
    "    padding=\"max_length\",\n",
    "    truncation=True,\n",
    "    return_tensors=\"pt\"\n",
    ")\n",
    "\n",
    "outputs = model(**inputs)\n",
    "logits = outputs.logits\n",
    "predictions = torch.argmax(logits, dim=-1)\n",
    "print(predictions)  # Class label\n"
   ]
  },
  {
   "cell_type": "code",
   "execution_count": null,
   "metadata": {},
   "outputs": [],
   "source": []
  },
  {
   "cell_type": "code",
   "execution_count": null,
   "metadata": {},
   "outputs": [],
   "source": []
  }
 ],
 "metadata": {
  "kernelspec": {
   "display_name": "genai_app_env",
   "language": "python",
   "name": "python3"
  },
  "language_info": {
   "codemirror_mode": {
    "name": "ipython",
    "version": 3
   },
   "file_extension": ".py",
   "mimetype": "text/x-python",
   "name": "python",
   "nbconvert_exporter": "python",
   "pygments_lexer": "ipython3",
   "version": "3.12.8"
  }
 },
 "nbformat": 4,
 "nbformat_minor": 2
}
